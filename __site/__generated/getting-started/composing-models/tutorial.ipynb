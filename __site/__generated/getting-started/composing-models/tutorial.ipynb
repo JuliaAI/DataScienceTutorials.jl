{
 "cells": [
  {
   "cell_type": "markdown",
   "source": [
    "Before running this, please make sure to activate and instantiate the\n",
    "tutorial-specific package environment, using this\n",
    "[`Project.toml`](https://raw.githubusercontent.com/juliaai/DataScienceTutorials.jl/gh-pages/__generated/getting-started/composing-models/Project.toml) and\n",
    "[this `Manifest.toml`](https://raw.githubusercontent.com/juliaai/DataScienceTutorials.jl/gh-pages/__generated/getting-started/composing-models/Manifest.toml), or by following\n",
    "[these](https://juliaai.github.io/DataScienceTutorials.jl/#learning_by_doing) detailed instructions."
   ],
   "metadata": {}
  },
  {
   "cell_type": "markdown",
   "source": [
    "A tutorial showing how to wrap a supervised model in input feature preprocessing (create\n",
    "a pipeline model) and transforamtions of the target."
   ],
   "metadata": {}
  },
  {
   "cell_type": "markdown",
   "source": [
    "@@dropdown\n",
    "## Generating dummy data\n",
    "@@\n",
    "@@dropdown-content"
   ],
   "metadata": {}
  },
  {
   "cell_type": "markdown",
   "source": [
    "Let's start by generating some dummy data with both numerical values and categorical values:"
   ],
   "metadata": {}
  },
  {
   "outputs": [],
   "cell_type": "code",
   "source": [
    "using MLJ\n",
    "import StableRNGs.StableRNG\n",
    "\n",
    "\n",
    "RidgeRegressor = @load RidgeRegressor pkg=MLJLinearModels"
   ],
   "metadata": {},
   "execution_count": null
  },
  {
   "cell_type": "markdown",
   "source": [
    "Here's a table of input features:"
   ],
   "metadata": {}
  },
  {
   "outputs": [],
   "cell_type": "code",
   "source": [
    "X = (age    = [23, 45, 34, 25, 67],\n",
    "     gender = categorical(['m', 'm', 'f', 'm', 'f']))"
   ],
   "metadata": {},
   "execution_count": null
  },
  {
   "cell_type": "markdown",
   "source": [
    "And a vector target (height in mm):"
   ],
   "metadata": {}
  },
  {
   "outputs": [],
   "cell_type": "code",
   "source": [
    "y = Float64[1780, 1940, 1650, 1730, 1680];"
   ],
   "metadata": {},
   "execution_count": null
  },
  {
   "cell_type": "markdown",
   "source": [
    "Note that the scientific type of `age` is `Count` here:"
   ],
   "metadata": {}
  },
  {
   "outputs": [],
   "cell_type": "code",
   "source": [
    "schema(X)"
   ],
   "metadata": {},
   "execution_count": null
  },
  {
   "cell_type": "markdown",
   "source": [
    "We will want to coerce that to `Continuous` so that it can be given to a regressor that\n",
    "expects such values."
   ],
   "metadata": {}
  },
  {
   "cell_type": "markdown",
   "source": [
    "A typical workflow for such data is to one-hot-encode the categorical data and then\n",
    "apply some regression model on the data."
   ],
   "metadata": {}
  },
  {
   "cell_type": "markdown",
   "source": [
    "Let's say that we want to apply the following steps:\n",
    "1. One-hot encode the categorical features in `X`\n",
    "1. Apply a learned Box-Cox transformation to the target `y`\n",
    "1. Train a ridge regression model on the one-hot encoded data and the transformed target.\n",
    "1. Return target prediction on the original scale"
   ],
   "metadata": {}
  },
  {
   "cell_type": "markdown",
   "source": [
    "‎"
   ],
   "metadata": {}
  },
  {
   "cell_type": "markdown",
   "source": [
    "‎\n",
    "@@\n",
    "@@dropdown\n",
    "## Wrapping a supervised model in learned target transformations\n",
    "@@\n",
    "@@dropdown-content"
   ],
   "metadata": {}
  },
  {
   "cell_type": "markdown",
   "source": [
    "First, we wrap our supervised model in the target transformation we want:"
   ],
   "metadata": {}
  },
  {
   "outputs": [],
   "cell_type": "code",
   "source": [
    "transformed_target_model = TransformedTargetModel(\n",
    "    RidgeRegressor();\n",
    "    transformer=UnivariateBoxCoxTransformer(),\n",
    ")"
   ],
   "metadata": {},
   "execution_count": null
  },
  {
   "cell_type": "markdown",
   "source": [
    "Such a model internally transforms the target by applying the Box-Cox transformation\n",
    "(that one that makes the data look the most Gaussian) before using it to train the ridge\n",
    "regresssor, but it returns target predictions on the original, untransformed\n",
    "scale. Here's a demonstration (with contiuous data):"
   ],
   "metadata": {}
  },
  {
   "outputs": [],
   "cell_type": "code",
   "source": [
    "rng = StableRNG(123)\n",
    "Xcont = (x1 = rand(rng, 5), x2 = rand(5))\n",
    "mach = machine(transformed_target_model, Xcont, y) |> fit!\n",
    "yhat = predict(mach, Xcont)"
   ],
   "metadata": {},
   "execution_count": null
  },
  {
   "cell_type": "markdown",
   "source": [
    "In case you need convincing, removing the target transformation indeed gives a\n",
    "different outcome:"
   ],
   "metadata": {}
  },
  {
   "outputs": [],
   "cell_type": "code",
   "source": [
    "mach = machine(RidgeRegressor(), Xcont, y) |> fit!\n",
    "yhat - predict(mach, Xcont)"
   ],
   "metadata": {},
   "execution_count": null
  },
  {
   "cell_type": "markdown",
   "source": [
    "‎\n",
    "@@\n",
    "@@dropdown\n",
    "## The final pipeline\n",
    "@@\n",
    "@@dropdown-content"
   ],
   "metadata": {}
  },
  {
   "cell_type": "markdown",
   "source": [
    "Next we insert our target-transformed model into a pipeline, to create a new model which\n",
    "includes the input data pre-processing we want:"
   ],
   "metadata": {}
  },
  {
   "outputs": [],
   "cell_type": "code",
   "source": [
    "pipe = (X -> coerce(X, :age=>Continuous)) |> OneHotEncoder() |> transformed_target_model"
   ],
   "metadata": {},
   "execution_count": null
  },
  {
   "cell_type": "markdown",
   "source": [
    "The first element in the pipelines is just an ordinary function to coerce the `:age`\n",
    "variable to `Continuous` (needed because `RidgeRegressor` expects `Continuous` input)."
   ],
   "metadata": {}
  },
  {
   "cell_type": "markdown",
   "source": [
    "Hyperparameters of this pipeline can be accessed (and set) using dot syntax:"
   ],
   "metadata": {}
  },
  {
   "outputs": [],
   "cell_type": "code",
   "source": [
    "pipe.transformed_target_model_deterministic.model.lambda = 10.0\n",
    "pipe.one_hot_encoder.drop_last = true;"
   ],
   "metadata": {},
   "execution_count": null
  },
  {
   "cell_type": "markdown",
   "source": [
    "Evaluation for a pipe can be done with the `evaluate!` method."
   ],
   "metadata": {}
  },
  {
   "outputs": [],
   "cell_type": "code",
   "source": [
    "evaluate(pipe, X, y, resampling=CV(nfolds=3), measure=l1)"
   ],
   "metadata": {},
   "execution_count": null
  },
  {
   "cell_type": "markdown",
   "source": [
    "‎"
   ],
   "metadata": {}
  },
  {
   "cell_type": "markdown",
   "source": [
    "‎\n",
    "@@"
   ],
   "metadata": {}
  },
  {
   "cell_type": "markdown",
   "source": [
    "---\n",
    "\n",
    "*This notebook was generated using [Literate.jl](https://github.com/fredrikekre/Literate.jl).*"
   ],
   "metadata": {}
  }
 ],
 "nbformat_minor": 3,
 "metadata": {
  "language_info": {
   "file_extension": ".jl",
   "mimetype": "application/julia",
   "name": "julia",
   "version": "1.10.0"
  },
  "kernelspec": {
   "name": "julia-1.10",
   "display_name": "Julia 1.10.0",
   "language": "julia"
  }
 },
 "nbformat": 4
}
