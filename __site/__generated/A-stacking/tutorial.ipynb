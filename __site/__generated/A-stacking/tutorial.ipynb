{
 "cells": [
  {
   "cell_type": "markdown",
   "source": [
    "Before running this, please make sure to activate and instantiate the\n",
    "tutorial-specific package environment, using this\n",
    "[`Project.toml`](https://raw.githubusercontent.com/juliaai/DataScienceTutorials.jl/gh-pages/__generated/A-stacking/Project.toml) and\n",
    "[this `Manifest.toml`](https://raw.githubusercontent.com/juliaai/DataScienceTutorials.jl/gh-pages/__generated/A-stacking/Manifest.toml), or by following\n",
    "[these](https://juliaai.github.io/DataScienceTutorials.jl/#learning_by_doing) detailed instructions."
   ],
   "metadata": {}
  },
  {
   "cell_type": "markdown",
   "source": [
    "An advanced illustration of learning networks."
   ],
   "metadata": {}
  },
  {
   "cell_type": "markdown",
   "source": [
    "In stacking one blends the predictions of different regressors or classifiers to gain,\n",
    "in some cases, better performance than naive averaging or majority vote. The gains may\n",
    "small, their statistical significance in doubt, and the approach is computationally\n",
    "intensive. Nevertheless, stacking has been used successfully by teams in data science\n",
    "science competitions."
   ],
   "metadata": {}
  },
  {
   "cell_type": "markdown",
   "source": [
    "For routine stacking tasks the MLJ user should use the `Stack` model documented\n",
    "[here](https://alan-turing-institute.github.io/MLJ.jl/dev/composing_models/#Model-Stacking). Internally,\n",
    "`Stack` is implemented using MLJ's learning networks feature, and the purpose of this\n",
    "tutorial give an advanced illustration of MLJ learning networks by presenting a\n",
    "simplified version of this implementation. Familiarity with model stacking is not\n",
    "essential, but we assume the reader is already familiar with learning network basics, as\n",
    "illustrated in the [Learning\n",
    "networks](https://alan-turing-institute.github.io/MLJ.jl/dev/learning_networks/) section\n",
    "of the MLJ manual. The \"Ensembles (learning networks)\" tutorial also gives a simple\n",
    "illustration."
   ],
   "metadata": {}
  },
  {
   "cell_type": "markdown",
   "source": [
    "Specifically, we build a two-model stack, first as an MLJ learning\n",
    "network, and then as an \"exported\" stand-alone composite model type `MyTwoStack`."
   ],
   "metadata": {}
  },
  {
   "cell_type": "markdown",
   "source": [
    "As we shall see, as a new stand-alone model type, we can apply the\n",
    "usual meta-algorithms, such as performance evaluation and tuning, to\n",
    "`MyTwoStack`."
   ],
   "metadata": {}
  },
  {
   "cell_type": "markdown",
   "source": [
    "@@dropdown\n",
    "## Basic stacking using out-of-sample base learner predictions\n",
    "@@\n",
    "@@dropdown-content"
   ],
   "metadata": {}
  },
  {
   "cell_type": "markdown",
   "source": [
    "A rather general stacking protocol was first described in a [1992\n",
    "paper](https://www.sciencedirect.com/science/article/abs/pii/S0893608005800231)\n",
    "by David Wolpert. For a generic introduction to the basic two-layer\n",
    "stack described here, see [this blog\n",
    "post](https://burakhimmetoglu.com/2016/12/01/stacking-models-for-improved-predictions/)\n",
    "of Burak Himmetoglu."
   ],
   "metadata": {}
  },
  {
   "cell_type": "markdown",
   "source": [
    "A basic stack consists of a number of base learners (two, in this\n",
    "illustration) and a single adjudicating model."
   ],
   "metadata": {}
  },
  {
   "cell_type": "markdown",
   "source": [
    "When a stacked model is called to make a prediction, the individual\n",
    "predictions of the base learners are made the columns of an *input*\n",
    "table for the adjudicating model, which then outputs the final\n",
    "prediction. However, it is crucial to understand that the flow of\n",
    "data *during training* is not the same."
   ],
   "metadata": {}
  },
  {
   "cell_type": "markdown",
   "source": [
    "The base model predictions used to train the adjudicating model are\n",
    "*not* the predictions of the base learners fitted to all the\n",
    "training data. Rather, to prevent the adjudicator giving too much\n",
    "weight to the base learners with low *training* error, the input\n",
    "data is first split into a number of folds (as in cross-validation),\n",
    "a base learner is trained on each fold complement individually, and\n",
    "corresponding predictions on the folds are spliced together to form\n",
    "a full-length prediction called the *out-of-sample prediction*."
   ],
   "metadata": {}
  },
  {
   "cell_type": "markdown",
   "source": [
    "For illustrative purposes we use just three folds. Each base learner\n",
    "will get three separate machines, for training on each fold\n",
    "complement, and a fourth machine, trained on all the supplied data,\n",
    "for use in the prediction flow."
   ],
   "metadata": {}
  },
  {
   "cell_type": "markdown",
   "source": [
    "We build the learning network with dummy data at the source nodes,\n",
    "so the reader inspects the workings of the network as it is built (by\n",
    "calling `fit!` on nodes, and by calling the nodes themselves). As\n",
    "usual, this data is not seen by the exported composite model type,\n",
    "and the component models we choose are just default values for the\n",
    "hyperparameters of the composite model."
   ],
   "metadata": {}
  },
  {
   "outputs": [],
   "cell_type": "code",
   "source": [
    "using MLJ\n",
    "import StableRNGs.StableRNG"
   ],
   "metadata": {},
   "execution_count": null
  },
  {
   "cell_type": "markdown",
   "source": [
    "Some models we will use:"
   ],
   "metadata": {}
  },
  {
   "outputs": [],
   "cell_type": "code",
   "source": [
    "linear = (@load LinearRegressor pkg=MLJLinearModels)()\n",
    "knn = (@load KNNRegressor)()\n",
    "\n",
    "tree_booster = (@load EvoTreeRegressor)()\n",
    "forest = (@load RandomForestRegressor pkg=DecisionTree)()\n",
    "svm = (@load EpsilonSVR pkg=LIBSVM)()"
   ],
   "metadata": {},
   "execution_count": null
  },
  {
   "cell_type": "markdown",
   "source": [
    "@@dropdown\n",
    "### Warm-up exercise: Define a model type to average predictions\n",
    "@@\n",
    "@@dropdown-content"
   ],
   "metadata": {}
  },
  {
   "cell_type": "markdown",
   "source": [
    "Let's define a composite model type `MyAverageTwo` that\n",
    "averages the predictions of two deterministic regressors. Here's the learning network:"
   ],
   "metadata": {}
  },
  {
   "outputs": [],
   "cell_type": "code",
   "source": [
    "mutable struct MyAverageTwo <: DeterministicNetworkComposite\n",
    "    regressor1\n",
    "    regressor2\n",
    "end\n",
    "\n",
    "import MLJ.MLJBase.prefit\n",
    "function prefit(::MyAverageTwo, verbosity, X, y)\n",
    "\n",
    "    Xs = source(X)\n",
    "    ys = source(y)\n",
    "\n",
    "    m1 = machine(:regressor1, Xs, ys)\n",
    "    y1 = predict(m1, Xs)\n",
    "\n",
    "    m2 = machine(:regressor2, Xs, ys)\n",
    "    y2 = predict(m2, Xs)\n",
    "\n",
    "    yhat = 0.5*y1 + 0.5*y2\n",
    "\n",
    "    return (predict=yhat,)\n",
    "end"
   ],
   "metadata": {},
   "execution_count": null
  },
  {
   "cell_type": "markdown",
   "source": [
    "Let's create an instance of the new type:"
   ],
   "metadata": {}
  },
  {
   "outputs": [],
   "cell_type": "code",
   "source": [
    "average_two = MyAverageTwo(linear, knn)"
   ],
   "metadata": {},
   "execution_count": null
  },
  {
   "cell_type": "markdown",
   "source": [
    "Evaluating this average model on the Boston data set, and comparing\n",
    "with the base model predictions:"
   ],
   "metadata": {}
  },
  {
   "outputs": [],
   "cell_type": "code",
   "source": [
    "function print_performance(model, data...)\n",
    "    e = evaluate(model, data...;\n",
    "                 resampling=CV(rng=StableRNG(1234), nfolds=8),\n",
    "                 measure=rms,\n",
    "                 verbosity=0)\n",
    "    μ = round(e.measurement[1], sigdigits=5)\n",
    "    ste = round(std(e.per_fold[1])/sqrt(8), digits=5)\n",
    "    println(\"$(MLJ.name(model)) = $μ ± $(2*ste)\")\n",
    "end;\n",
    "\n",
    "X, y = @load_boston\n",
    "\n",
    "print_performance(linear, X, y)\n",
    "print_performance(knn, X, y)\n",
    "print_performance(average_two, X, y)"
   ],
   "metadata": {},
   "execution_count": null
  },
  {
   "cell_type": "markdown",
   "source": [
    "‎\n",
    "@@"
   ],
   "metadata": {}
  },
  {
   "cell_type": "markdown",
   "source": [
    "‎\n",
    "@@\n",
    "@@dropdown\n",
    "## Stacking proper\n",
    "@@\n",
    "@@dropdown-content"
   ],
   "metadata": {}
  },
  {
   "cell_type": "markdown",
   "source": [
    "@@dropdown\n",
    "### Helper functions:\n",
    "@@\n",
    "@@dropdown-content"
   ],
   "metadata": {}
  },
  {
   "cell_type": "markdown",
   "source": [
    "To generate folds for generating out-of-sample predictions, we define"
   ],
   "metadata": {}
  },
  {
   "outputs": [],
   "cell_type": "code",
   "source": [
    "folds(data, nfolds) =\n",
    "    partition(1:nrows(data), (1/nfolds for i in 1:(nfolds-1))...);"
   ],
   "metadata": {},
   "execution_count": null
  },
  {
   "cell_type": "markdown",
   "source": [
    "For example, we have:"
   ],
   "metadata": {}
  },
  {
   "outputs": [],
   "cell_type": "code",
   "source": [
    "f = folds(1:10, 3)"
   ],
   "metadata": {},
   "execution_count": null
  },
  {
   "cell_type": "markdown",
   "source": [
    "It will also be convenient to use the MLJ method `restrict(X, f, i)`\n",
    "that restricts data `X` to the `i`th element (fold) of `f`, and\n",
    "`corestrict(X, f, i)` that restricts to the corresponding fold\n",
    "complement (the concatenation of all but the `i`th\n",
    "fold)."
   ],
   "metadata": {}
  },
  {
   "cell_type": "markdown",
   "source": [
    "For example, we have:"
   ],
   "metadata": {}
  },
  {
   "outputs": [],
   "cell_type": "code",
   "source": [
    "corestrict(string.(1:10), f, 2)"
   ],
   "metadata": {},
   "execution_count": null
  },
  {
   "cell_type": "markdown",
   "source": [
    "‎\n",
    "@@\n",
    "@@dropdown\n",
    "### Choose some test data (optional) and some component models (defaults for the composite model):\n",
    "@@\n",
    "@@dropdown-content"
   ],
   "metadata": {}
  },
  {
   "outputs": [],
   "cell_type": "code",
   "source": [
    "using Plots\n",
    "\n",
    "steps(x) = x < -3/2 ? -1 : (x < 3/2 ? 0 : 1)\n",
    "x = Float64[-4, -1, 2, -3, 0, 3, -2, 1, 4]\n",
    "Xraw = (x = x, )\n",
    "yraw = steps.(x);\n",
    "idxsort = sortperm(x)\n",
    "xsort = x[idxsort]\n",
    "ysort = yraw[idxsort]\n",
    "plot(xsort, ysort, linetype=:stepmid, label=\"truth\")\n",
    "plot!(x, yraw, seriestype=:scatter, markershape=:circle, label=\"data\", xlim=(-4.5, 4.5))"
   ],
   "metadata": {},
   "execution_count": null
  },
  {
   "cell_type": "markdown",
   "source": [
    "\\fig{s1.svg}"
   ],
   "metadata": {}
  },
  {
   "cell_type": "markdown",
   "source": [
    "Some models to stack (which we can change later):"
   ],
   "metadata": {}
  },
  {
   "outputs": [],
   "cell_type": "code",
   "source": [
    "model1 = linear\n",
    "model2 = knn"
   ],
   "metadata": {},
   "execution_count": null
  },
  {
   "cell_type": "markdown",
   "source": [
    "The adjudicating model:"
   ],
   "metadata": {}
  },
  {
   "outputs": [],
   "cell_type": "code",
   "source": [
    "judge = linear"
   ],
   "metadata": {},
   "execution_count": null
  },
  {
   "cell_type": "markdown",
   "source": [
    "‎\n",
    "@@\n",
    "@@dropdown\n",
    "### Define the training nodes\n",
    "@@\n",
    "@@dropdown-content"
   ],
   "metadata": {}
  },
  {
   "cell_type": "markdown",
   "source": [
    "Let's instantiate some input and target source nodes for the\n",
    "learning network, wrapping the play data defined above in source\n",
    "nodes:"
   ],
   "metadata": {}
  },
  {
   "outputs": [],
   "cell_type": "code",
   "source": [
    "X = source(Xraw)\n",
    "y = source(yraw)"
   ],
   "metadata": {},
   "execution_count": null
  },
  {
   "cell_type": "markdown",
   "source": [
    "Our first internal node will represent the three folds (vectors of row indices) for\n",
    "creating the out-of-sample predictions. We would like to define `f = folds(X, 3)` but\n",
    "this will not work because `X` is not a table, just a node representing a table. So\n",
    "instead we do this:"
   ],
   "metadata": {}
  },
  {
   "outputs": [],
   "cell_type": "code",
   "source": [
    "f = node(X) do x\n",
    "    folds(x, 3)\n",
    "end"
   ],
   "metadata": {},
   "execution_count": null
  },
  {
   "cell_type": "markdown",
   "source": [
    "Now `f` is itself a node, and so callable:"
   ],
   "metadata": {}
  },
  {
   "outputs": [],
   "cell_type": "code",
   "source": [
    "f()"
   ],
   "metadata": {},
   "execution_count": null
  },
  {
   "cell_type": "markdown",
   "source": [
    "We'll overload `restrict` and `corestrict` for nodes, to save us having to write\n",
    "`node(....)` all the time:"
   ],
   "metadata": {}
  },
  {
   "outputs": [],
   "cell_type": "code",
   "source": [
    "MLJ.restrict(X::AbstractNode, f::AbstractNode, i) =  node(X, f) do XX, ff\n",
    "    restrict(XX, ff, i)\n",
    "end\n",
    "MLJ.corestrict(X::AbstractNode, f::AbstractNode, i) = node(X, f) do XX, ff\n",
    "    corestrict(XX, ff, i)\n",
    "end"
   ],
   "metadata": {},
   "execution_count": null
  },
  {
   "cell_type": "markdown",
   "source": [
    "We are now ready to define machines for training `model1` on each\n",
    "fold-complement:"
   ],
   "metadata": {}
  },
  {
   "outputs": [],
   "cell_type": "code",
   "source": [
    "m11 = machine(model1, corestrict(X, f, 1), corestrict(y, f, 1))\n",
    "m12 = machine(model1, corestrict(X, f, 2), corestrict(y, f, 2))\n",
    "m13 = machine(model1, corestrict(X, f, 3), corestrict(y, f, 3))"
   ],
   "metadata": {},
   "execution_count": null
  },
  {
   "cell_type": "markdown",
   "source": [
    "Define each out-of-sample prediction of `model1`:"
   ],
   "metadata": {}
  },
  {
   "outputs": [],
   "cell_type": "code",
   "source": [
    "y11 = predict(m11, restrict(X, f, 1));\n",
    "y12 = predict(m12, restrict(X, f, 2));\n",
    "y13 = predict(m13, restrict(X, f, 3));"
   ],
   "metadata": {},
   "execution_count": null
  },
  {
   "cell_type": "markdown",
   "source": [
    "Splice together the out-of-sample predictions for model1:"
   ],
   "metadata": {}
  },
  {
   "outputs": [],
   "cell_type": "code",
   "source": [
    "y1_oos = vcat(y11, y12, y13);"
   ],
   "metadata": {},
   "execution_count": null
  },
  {
   "cell_type": "markdown",
   "source": [
    "Note there is no need to overload the `vcat` function to work on\n",
    "nodes; it does so out of the box, as does `hcat` and basic\n",
    "arithmetic operations."
   ],
   "metadata": {}
  },
  {
   "cell_type": "markdown",
   "source": [
    "Since our source nodes are wrapping data, we can optionally check\n",
    "our network so far, by calling fitting and calling `y1_oos`:"
   ],
   "metadata": {}
  },
  {
   "outputs": [],
   "cell_type": "code",
   "source": [
    "fit!(y1_oos, verbosity=0)\n",
    "\n",
    "plot(xsort, ysort, linetype=:stepmid, label=\"truth\")\n",
    "plot!(\n",
    "    x,\n",
    "    y1_oos(),\n",
    "    seriestype=:scatter,\n",
    "    markershape=:circle,\n",
    "    label=\"linear oos\",\n",
    "    xlim=(-4.5, 4.5),\n",
    ")"
   ],
   "metadata": {},
   "execution_count": null
  },
  {
   "cell_type": "markdown",
   "source": [
    "\\fig{s2.svg}"
   ],
   "metadata": {}
  },
  {
   "cell_type": "markdown",
   "source": [
    "We now repeat the procedure for the other model:"
   ],
   "metadata": {}
  },
  {
   "outputs": [],
   "cell_type": "code",
   "source": [
    "m21 = machine(model2, corestrict(X, f, 1), corestrict(y, f, 1))\n",
    "m22 = machine(model2, corestrict(X, f, 2), corestrict(y, f, 2))\n",
    "m23 = machine(model2, corestrict(X, f, 3), corestrict(y, f, 3))\n",
    "y21 = predict(m21, restrict(X, f, 1));\n",
    "y22 = predict(m22, restrict(X, f, 2));\n",
    "y23 = predict(m23, restrict(X, f, 3));"
   ],
   "metadata": {},
   "execution_count": null
  },
  {
   "cell_type": "markdown",
   "source": [
    "And testing the knn out-of-sample prediction:"
   ],
   "metadata": {}
  },
  {
   "outputs": [],
   "cell_type": "code",
   "source": [
    "y2_oos = vcat(y21, y22, y23);\n",
    "fit!(y2_oos, verbosity=0)\n",
    "\n",
    "plot(xsort, ysort, linetype=:stepmid, label=\"truth\")\n",
    "plot!(\n",
    "    x,\n",
    "    y2_oos(),\n",
    "    seriestype=:scatter,\n",
    "    markershape=:circle,\n",
    "    label=\"knn oos\",\n",
    "    xlim=(-4.5, 4.5),\n",
    ")"
   ],
   "metadata": {},
   "execution_count": null
  },
  {
   "cell_type": "markdown",
   "source": [
    "\\fig{s3.svg}"
   ],
   "metadata": {}
  },
  {
   "cell_type": "markdown",
   "source": [
    "Now that we have the out-of-sample base learner predictions, we are\n",
    "ready to merge them into the adjudicator's input table and construct\n",
    "the machine for training the adjudicator:"
   ],
   "metadata": {}
  },
  {
   "outputs": [],
   "cell_type": "code",
   "source": [
    "X_oos = MLJ.table(hcat(y1_oos, y2_oos))\n",
    "m_judge = machine(judge, X_oos, y)"
   ],
   "metadata": {},
   "execution_count": null
  },
  {
   "cell_type": "markdown",
   "source": [
    "Are we done with constructing machines? Well, not quite. Recall that\n",
    "when we use the stack to make predictions on new data, we will be\n",
    "feeding the adjudicator ordinary predictions of the base learners\n",
    "(rather than out-of-sample predictions). But so far, we have only\n",
    "defined machines to train the base learners on fold complements, not\n",
    "on the full data, which we do now:"
   ],
   "metadata": {}
  },
  {
   "outputs": [],
   "cell_type": "code",
   "source": [
    "m1 = machine(model1, X, y)\n",
    "m2 = machine(model2, X, y)"
   ],
   "metadata": {},
   "execution_count": null
  },
  {
   "cell_type": "markdown",
   "source": [
    "‎\n",
    "@@\n",
    "@@dropdown\n",
    "### Define nodes still needed for prediction\n",
    "@@\n",
    "@@dropdown-content"
   ],
   "metadata": {}
  },
  {
   "cell_type": "markdown",
   "source": [
    "To obtain the final prediction, `yhat`, we get the base learner\n",
    "predictions, based on training with all data, and feed them to the\n",
    "adjudicator:"
   ],
   "metadata": {}
  },
  {
   "outputs": [],
   "cell_type": "code",
   "source": [
    "y1 = predict(m1, X);\n",
    "y2 = predict(m2, X);\n",
    "X_judge = MLJ.table(hcat(y1, y2))\n",
    "yhat = predict(m_judge, X_judge)"
   ],
   "metadata": {},
   "execution_count": null
  },
  {
   "cell_type": "markdown",
   "source": [
    "Let's check the final prediction node can be fit and called:"
   ],
   "metadata": {}
  },
  {
   "outputs": [],
   "cell_type": "code",
   "source": [
    "fit!(yhat, verbosity=0)\n",
    "\n",
    "plot(xsort, ysort, linetype=:stepmid, label=\"truth\")\n",
    "plot!(x, yhat(), seriestype=:scatter, markershape=:circle, label=\"yhat\", xlim=(-4.5, 4.5))"
   ],
   "metadata": {},
   "execution_count": null
  },
  {
   "cell_type": "markdown",
   "source": [
    "\\fig{s4}"
   ],
   "metadata": {}
  },
  {
   "cell_type": "markdown",
   "source": [
    "We note only in passing that, in this baby example at least, stacking has a worse\n",
    "*training* error than naive averaging:"
   ],
   "metadata": {}
  },
  {
   "outputs": [],
   "cell_type": "code",
   "source": [
    "e1 = rms(y1(), y())\n",
    "e2 = rms(y2(), y())\n",
    "emean = rms(0.5*y1() + 0.5*y2(), y())\n",
    "estack = rms(yhat(), y())\n",
    "@show e1 e2 emean estack;"
   ],
   "metadata": {},
   "execution_count": null
  },
  {
   "cell_type": "markdown",
   "source": [
    "‎\n",
    "@@"
   ],
   "metadata": {}
  },
  {
   "cell_type": "markdown",
   "source": [
    "‎\n",
    "@@\n",
    "@@dropdown\n",
    "## Export the learning network as a new model type\n",
    "@@\n",
    "@@dropdown-content"
   ],
   "metadata": {}
  },
  {
   "cell_type": "markdown",
   "source": [
    "The learning network (less the data wrapped in the source nodes) amounts to a\n",
    "specification of a new composite model type for two-model stacks, trained with\n",
    "three-fold resampling of base model predictions. Let's create the new \"exported\" type\n",
    "`MyTwoModelStack`, in the same way we exported the network for model averaging\n",
    "(essentially a copy and paste exercise):"
   ],
   "metadata": {}
  },
  {
   "outputs": [],
   "cell_type": "code",
   "source": [
    "mutable struct MyTwoModelStack <: DeterministicNetworkComposite\n",
    "    model1\n",
    "    model2\n",
    "    judge\n",
    "end\n",
    "\n",
    "function prefit(::MyTwoModelStack, verbosity, X, y)\n",
    "\n",
    "    Xs = source(X)\n",
    "    ys = source(y)\n",
    "\n",
    "    f = node(Xs) do x\n",
    "        folds(x, 3)\n",
    "    end\n",
    "\n",
    "    m11 = machine(:model1, corestrict(Xs, f, 1), corestrict(ys, f, 1))\n",
    "    m12 = machine(:model1, corestrict(Xs, f, 2), corestrict(ys, f, 2))\n",
    "    m13 = machine(:model1, corestrict(Xs, f, 3), corestrict(ys, f, 3))\n",
    "\n",
    "    y11 = predict(m11, restrict(Xs, f, 1));\n",
    "    y12 = predict(m12, restrict(Xs, f, 2));\n",
    "    y13 = predict(m13, restrict(Xs, f, 3));\n",
    "\n",
    "    y1_oos = vcat(y11, y12, y13);\n",
    "\n",
    "    m21 = machine(:model2, corestrict(Xs, f, 1), corestrict(ys, f, 1))\n",
    "    m22 = machine(:model2, corestrict(Xs, f, 2), corestrict(ys, f, 2))\n",
    "    m23 = machine(:model2, corestrict(Xs, f, 3), corestrict(ys, f, 3))\n",
    "    y21 = predict(m21, restrict(Xs, f, 1));\n",
    "    y22 = predict(m22, restrict(Xs, f, 2));\n",
    "    y23 = predict(m23, restrict(Xs, f, 3));\n",
    "\n",
    "    y2_oos = vcat(y21, y22, y23);\n",
    "\n",
    "    X_oos = MLJ.table(hcat(y1_oos, y2_oos))\n",
    "    m_judge = machine(:judge, X_oos, ys)\n",
    "\n",
    "    m1 = machine(:model1, Xs, ys)\n",
    "    m2 = machine(:model2, Xs, ys)\n",
    "\n",
    "    y1 = predict(m1, Xs);\n",
    "    y2 = predict(m2, Xs);\n",
    "    X_judge = MLJ.table(hcat(y1, y2))\n",
    "    yhat = predict(m_judge, X_judge)\n",
    "\n",
    "    return (predict=yhat,)\n",
    "end"
   ],
   "metadata": {},
   "execution_count": null
  },
  {
   "cell_type": "markdown",
   "source": [
    "For convenience, we'll give this a keywork argument constructor:"
   ],
   "metadata": {}
  },
  {
   "outputs": [],
   "cell_type": "code",
   "source": [
    "MyTwoModelStack(; model1=linear, model2=knn, judge=linear) =\n",
    "    MyTwoModelStack(model1, model2, judge)"
   ],
   "metadata": {},
   "execution_count": null
  },
  {
   "cell_type": "markdown",
   "source": [
    "And this completes the definition of our re-usable stacking model type."
   ],
   "metadata": {}
  },
  {
   "cell_type": "markdown",
   "source": [
    "‎\n",
    "@@\n",
    "@@dropdown\n",
    "## Applying `MyTwoModelStack` to some data\n",
    "@@\n",
    "@@dropdown-content"
   ],
   "metadata": {}
  },
  {
   "cell_type": "markdown",
   "source": [
    "Without undertaking any hyperparameter optimization, we evaluate the\n",
    "performance of a tree boosting algorithm and a support vector\n",
    "machine on a synthetic data set. As adjudicator, we'll use a random\n",
    "forest."
   ],
   "metadata": {}
  },
  {
   "cell_type": "markdown",
   "source": [
    "We use a synthetic set to give an example where stacking is\n",
    "effective but the data is not too large. (As synthetic data is based\n",
    "on perturbations to linear models, we are deliberately avoiding\n",
    "linear models in stacking illustration.)"
   ],
   "metadata": {}
  },
  {
   "outputs": [],
   "cell_type": "code",
   "source": [
    "X, y = make_regression(1000, 20; sparse=0.75, noise=0.1, rng=StableRNG(1));"
   ],
   "metadata": {},
   "execution_count": null
  },
  {
   "cell_type": "markdown",
   "source": [
    "#### Define the stack and compare performance"
   ],
   "metadata": {}
  },
  {
   "outputs": [],
   "cell_type": "code",
   "source": [
    "avg = MyAverageTwo(tree_booster,svm)\n",
    "stack = MyTwoModelStack(model1=tree_booster, model2=svm, judge=forest)\n",
    "all_models = [tree_booster, svm, forest, avg, stack];\n",
    "\n",
    "for model in all_models\n",
    "    print_performance(model, X, y)\n",
    "end"
   ],
   "metadata": {},
   "execution_count": null
  },
  {
   "cell_type": "markdown",
   "source": [
    "#### Tuning a stack"
   ],
   "metadata": {}
  },
  {
   "cell_type": "markdown",
   "source": [
    "A standard abuse of good data hygiene is to optimize stack component\n",
    "models *separately* and then tune the adjudicating model\n",
    "hyperparameters (using the same resampling of the data) with the\n",
    "base learners fixed. Although more computationally expensive, better\n",
    "generalization might be expected by applying tuning to the stack as\n",
    "a whole, either simultaneously, or in cheaper sequential\n",
    "steps. Since our stack is a stand-alone model, this is readily\n",
    "implemented."
   ],
   "metadata": {}
  },
  {
   "cell_type": "markdown",
   "source": [
    "As a proof of concept, let's see how to tune one of the base model\n",
    "hyperparameters, based on performance of the stack as a whole:"
   ],
   "metadata": {}
  },
  {
   "outputs": [],
   "cell_type": "code",
   "source": [
    "r = range(stack, :(model2.cost), lower = 0.01, upper = 10, scale=:log)\n",
    "tuned_stack = TunedModel(\n",
    "    model=stack,\n",
    "    ranges=r,\n",
    "    tuning=Grid(shuffle=false),\n",
    "    measure=rms,\n",
    "    resampling=Holdout(),\n",
    ")\n",
    "\n",
    "mach = fit!(machine(tuned_stack,  X, y), verbosity=0)\n",
    "best_stack = fitted_params(mach).best_model\n",
    "best_stack.model2.cost"
   ],
   "metadata": {},
   "execution_count": null
  },
  {
   "cell_type": "markdown",
   "source": [
    "Let's evaluate the best stack using the same data resampling used to\n",
    "evaluate the various untuned models earlier (now we are neglecting\n",
    "data hygiene!):"
   ],
   "metadata": {}
  },
  {
   "outputs": [],
   "cell_type": "code",
   "source": [
    "print_performance(best_stack, X, y)"
   ],
   "metadata": {},
   "execution_count": null
  },
  {
   "cell_type": "markdown",
   "source": [
    "‎\n",
    "@@"
   ],
   "metadata": {}
  },
  {
   "cell_type": "markdown",
   "source": [
    "---\n",
    "\n",
    "*This notebook was generated using [Literate.jl](https://github.com/fredrikekre/Literate.jl).*"
   ],
   "metadata": {}
  }
 ],
 "nbformat_minor": 3,
 "metadata": {
  "language_info": {
   "file_extension": ".jl",
   "mimetype": "application/julia",
   "name": "julia",
   "version": "1.10.0"
  },
  "kernelspec": {
   "name": "julia-1.10",
   "display_name": "Julia 1.10.0",
   "language": "julia"
  }
 },
 "nbformat": 4
}
