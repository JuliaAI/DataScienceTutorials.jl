{
 "cells": [
  {
   "cell_type": "markdown",
   "source": [
    "Before running this, please make sure to activate and instantiate the environment\n",
    "corresponding to [this `Project.toml`](https://raw.githubusercontent.com/alan-turing-institute/DataScienceTutorials.jl/master/Project.toml) and [this `Manifest.toml`](https://raw.githubusercontent.com/alan-turing-institute/DataScienceTutorials.jl/master/Manifest.toml)\n",
    "so that you get an environment which matches the one used to generate the tutorials:\n",
    "\n",
    "```julia\n",
    "cd(\"DataScienceTutorials\") # cd to folder with the *.toml\n",
    "using Pkg; Pkg.activate(\".\"); Pkg.instantiate()\n",
    "```"
   ],
   "metadata": {}
  },
  {
   "cell_type": "markdown",
   "source": [
    "**Main author**: Yaqub Alwan (IQVIA).\n",
    "\n",
    "## Getting started"
   ],
   "metadata": {}
  },
  {
   "outputs": [],
   "cell_type": "code",
   "source": [
    "using MLJ\n",
    "using PrettyPrinting\n",
    "import DataFrames\n",
    "import Statistics\n",
    "using PyPlot\n",
    "using StableRNGs\n",
    "\n",
    "@load LGBMRegressor"
   ],
   "metadata": {},
   "execution_count": null
  },
  {
   "cell_type": "markdown",
   "source": [
    "Let us try LightGBM out by doing a regression task on the Boston house prices dataset.\n",
    "This is a commonly used dataset so there is a loader built into MLJ."
   ],
   "metadata": {}
  },
  {
   "cell_type": "markdown",
   "source": [
    "Here, the objective is to show how LightGBM can do better than a Linear Regressor\n",
    "with minimal effort.\n",
    "\n",
    "We start out by taking a quick peek at the data itself and its statistical properties."
   ],
   "metadata": {}
  },
  {
   "outputs": [],
   "cell_type": "code",
   "source": [
    "features, targets = @load_boston\n",
    "features = DataFrames.DataFrame(features)\n",
    "@show size(features)\n",
    "@show targets[1:3]\n",
    "first(features, 3) |> pretty"
   ],
   "metadata": {},
   "execution_count": null
  },
  {
   "cell_type": "markdown",
   "source": [
    "We can also describe the dataframe"
   ],
   "metadata": {}
  },
  {
   "outputs": [],
   "cell_type": "code",
   "source": [
    "DataFrames.describe(features)"
   ],
   "metadata": {},
   "execution_count": null
  },
  {
   "cell_type": "markdown",
   "source": [
    "Do the usual train/test partitioning. This is important so we can estimate generalisation."
   ],
   "metadata": {}
  },
  {
   "outputs": [],
   "cell_type": "code",
   "source": [
    "train, test = partition(eachindex(targets), 0.70, shuffle=true,\n",
    "                        rng=StableRNG(52))"
   ],
   "metadata": {},
   "execution_count": null
  },
  {
   "cell_type": "markdown",
   "source": [
    "Let us investigation some of the commonly tweaked LightGBM parameters. We start with looking at a learning curve for number of boostings."
   ],
   "metadata": {}
  },
  {
   "outputs": [],
   "cell_type": "code",
   "source": [
    "lgb = LGBMRegressor() #initialised a model with default params\n",
    "lgbm = machine(lgb, features[train, :], targets[train, 1])\n",
    "boostrange = range(lgb, :num_iterations, lower=2, upper=500)\n",
    "curve = learning_curve!(lgbm, resampling=CV(nfolds=5),\n",
    "                        range=boostrange, resolution=100,\n",
    "                        measure=rms)\n",
    "\n",
    "\n",
    "figure(figsize=(8,6))\n",
    "plot(curve.parameter_values, curve.measurements)\n",
    "xlabel(\"Number of rounds\", fontsize=14)\n",
    "ylabel(\"RMSE\", fontsize=14)\n",
    "\n"
   ],
   "metadata": {},
   "execution_count": null
  },
  {
   "cell_type": "markdown",
   "source": [
    "\\fig{lgbm_hp1.svg}"
   ],
   "metadata": {}
  },
  {
   "cell_type": "markdown",
   "source": [
    "It looks like that we don't need to go much past 100 boosts"
   ],
   "metadata": {}
  },
  {
   "cell_type": "markdown",
   "source": [
    "Since LightGBM is a gradient based learning method, we also have a learning rate parameter which controls the size of gradient updates.\n",
    "Let us look at a learning curve for this parameter too"
   ],
   "metadata": {}
  },
  {
   "outputs": [],
   "cell_type": "code",
   "source": [
    "lgb = LGBMRegressor() #initialised a model with default params\n",
    "lgbm = machine(lgb, features[train, :], targets[train, 1])\n",
    "learning_range = range(lgb, :learning_rate, lower=1e-3, upper=1, scale=:log)\n",
    "curve = learning_curve!(lgbm, resampling=CV(nfolds=5),\n",
    "                        range=learning_range, resolution=100,\n",
    "                        measure=rms)\n",
    "\n",
    "\n",
    "figure(figsize=(8,6))\n",
    "plot(curve.parameter_values, curve.measurements)\n",
    "xscale(\"log\")\n",
    "xlabel(\"Learning rate (log scale)\", fontsize=14)\n",
    "ylabel(\"RMSE\", fontsize=14)\n",
    "\n"
   ],
   "metadata": {},
   "execution_count": null
  },
  {
   "cell_type": "markdown",
   "source": [
    "\\fig{lgbm_hp2.svg}"
   ],
   "metadata": {}
  },
  {
   "cell_type": "markdown",
   "source": [
    "It seems like near 0.5 is a reasonable place. Bearing in mind that for lower\n",
    "values of learning rate we possibly require more boosting in order to converge, so the default\n",
    "value of 100 might not be sufficient for convergence. We leave this as an exercise to the reader.\n",
    "We can still try to tune this parameter, however."
   ],
   "metadata": {}
  },
  {
   "cell_type": "markdown",
   "source": [
    "Finally let us check number of datapoints required to produce a leaf in an individual tree. This parameter\n",
    "controls the complexity of individual learner trees, and too low a value might lead to overfitting."
   ],
   "metadata": {}
  },
  {
   "outputs": [],
   "cell_type": "code",
   "source": [
    "lgb = LGBMRegressor() #initialised a model with default params\n",
    "lgbm = machine(lgb, features[train, :], targets[train, 1])"
   ],
   "metadata": {},
   "execution_count": null
  },
  {
   "cell_type": "markdown",
   "source": [
    "dataset is small enough and the lower and upper sets the tree to have certain number of leaves"
   ],
   "metadata": {}
  },
  {
   "outputs": [],
   "cell_type": "code",
   "source": [
    "leaf_range = range(lgb, :min_data_in_leaf, lower=1, upper=50)\n",
    "\n",
    "\n",
    "curve = learning_curve!(lgbm, resampling=CV(nfolds=5),\n",
    "                        range=leaf_range, resolution=50,\n",
    "                        measure=rms)\n",
    "\n",
    "figure(figsize=(8,6))\n",
    "plot(curve.parameter_values, curve.measurements)\n",
    "xlabel(\"Min data in leaf\", fontsize=14)\n",
    "ylabel(\"RMSE\", fontsize=14)\n",
    "\n"
   ],
   "metadata": {},
   "execution_count": null
  },
  {
   "cell_type": "markdown",
   "source": [
    "\\fig{lgbm_hp3.svg}"
   ],
   "metadata": {}
  },
  {
   "cell_type": "markdown",
   "source": [
    "It does not seem like there is a huge risk for overfitting, and lower is better for this parameter."
   ],
   "metadata": {}
  },
  {
   "cell_type": "markdown",
   "source": [
    "Using the learning curves above we can select some small-ish ranges to jointly search for the best\n",
    "combinations of these parameters via cross validation."
   ],
   "metadata": {}
  },
  {
   "outputs": [],
   "cell_type": "code",
   "source": [
    "r1 = range(lgb, :num_iterations, lower=50, upper=100)\n",
    "r2 = range(lgb, :min_data_in_leaf, lower=2, upper=10)\n",
    "r3 = range(lgb, :learning_rate, lower=1e-1, upper=1e0)\n",
    "tm = TunedModel(model=lgb, tuning=Grid(resolution=5),\n",
    "                resampling=CV(rng=StableRNG(123)), ranges=[r1,r2,r3],\n",
    "                measure=rms)\n",
    "mtm = machine(tm, features, targets)\n",
    "fit!(mtm, rows=train);"
   ],
   "metadata": {},
   "execution_count": null
  },
  {
   "cell_type": "markdown",
   "source": [
    "Lets see what the cross validation best model parameters turned out to be?"
   ],
   "metadata": {}
  },
  {
   "outputs": [],
   "cell_type": "code",
   "source": [
    "best_model = fitted_params(mtm).best_model\n",
    "@show best_model.learning_rate\n",
    "@show best_model.min_data_in_leaf\n",
    "@show best_model.num_iterations"
   ],
   "metadata": {},
   "execution_count": null
  },
  {
   "cell_type": "markdown",
   "source": [
    "Great, and now let's predict using the held out data."
   ],
   "metadata": {}
  },
  {
   "outputs": [],
   "cell_type": "code",
   "source": [
    "predictions = predict(mtm, rows=test)\n",
    "rms_score = round(rms(predictions, targets[test, 1]), sigdigits=4)\n",
    "\n",
    "@show rms_score\n",
    "\n"
   ],
   "metadata": {},
   "execution_count": null
  },
  {
   "cell_type": "markdown",
   "source": [
    "---\n",
    "\n",
    "*This notebook was generated using [Literate.jl](https://github.com/fredrikekre/Literate.jl).*"
   ],
   "metadata": {}
  }
 ],
 "nbformat_minor": 3,
 "metadata": {
  "language_info": {
   "file_extension": ".jl",
   "mimetype": "application/julia",
   "name": "julia",
   "version": "1.4.1"
  },
  "kernelspec": {
   "name": "julia-1.4",
   "display_name": "Julia 1.4.1",
   "language": "julia"
  }
 },
 "nbformat": 4
}
