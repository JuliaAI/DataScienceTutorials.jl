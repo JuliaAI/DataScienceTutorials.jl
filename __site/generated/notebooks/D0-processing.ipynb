{
 "cells": [
  {
   "cell_type": "markdown",
   "source": [
    "Before running this, please make sure to activate and instantiate the environment\n",
    "corresponding to [this `Project.toml`](https://raw.githubusercontent.com/alan-turing-institute/DataScienceTutorials.jl/master/Project.toml) and [this `Manifest.toml`](https://raw.githubusercontent.com/alan-turing-institute/DataScienceTutorials.jl/master/Manifest.toml)\n",
    "so that you get an environment which matches the one used to generate the tutorials:\n",
    "\n",
    "```julia\n",
    "cd(\"DataScienceTutorials\") # cd to folder with the *.toml\n",
    "using Pkg; Pkg.activate(\".\"); Pkg.instantiate()\n",
    "```"
   ],
   "metadata": {}
  },
  {
   "cell_type": "markdown",
   "source": [
    "## More data processing\n",
    "\n",
    "This tutorial uses the World Resources Institute Global Power Plants Dataset to explore data pre-processing in Julia.\n",
    "The dataset is created from multiple sources and is under continuous update, which means that there are lots of missing data, non-standard characters, etc\n",
    "Hence plenty of material to work with!"
   ],
   "metadata": {}
  },
  {
   "cell_type": "markdown",
   "source": [
    "More tutorials on the manipulation of DataFrames can be found [here](https://github.com/bkamins/Julia-DataFrames-Tutorial)\n",
    "And some more information can be found on [this](https://en.wikibooks.org/wiki/Introducing_Julia/DataFrames) wikipage."
   ],
   "metadata": {}
  },
  {
   "outputs": [],
   "cell_type": "code",
   "source": [
    "import MLJ: schema, std, mean, median, coerce, coerce!, scitype\n",
    "using DataFrames\n",
    "using UrlDownload\n",
    "using PyPlot\n"
   ],
   "metadata": {},
   "execution_count": null
  },
  {
   "cell_type": "markdown",
   "source": [
    "Import data"
   ],
   "metadata": {}
  },
  {
   "outputs": [],
   "cell_type": "code",
   "source": [
    "raw_data = urldownload(\"https://github.com/tlienart/DataScienceTutorialsData.jl/blob/master/data/wri_global_power_plant_db_be_022020.csv?raw=true\")\n",
    "data = DataFrame(raw_data);"
   ],
   "metadata": {},
   "execution_count": null
  },
  {
   "cell_type": "markdown",
   "source": [
    "This dataset contains information on power generation plants for a number of countries around the world.\n",
    "The level of disaggregation is the power plant. For each plant, there is information about its name, localisation, capacity, and many other features.\n",
    "The schema function enables us to get a quick overview of the variables it contains, including their machine and scentific types."
   ],
   "metadata": {}
  },
  {
   "outputs": [],
   "cell_type": "code",
   "source": [
    "schema(data)"
   ],
   "metadata": {},
   "execution_count": null
  },
  {
   "cell_type": "markdown",
   "source": [
    "We see that a small number of features have values for all plants (i.e. for each row) present in the dataset.\n",
    "However, (i) several features have missing values (Union{Missing, _.type}) and (ii) we are not interested in working with all of these features.\n",
    "In particular, we're not intersted in the source of the information present in the dataset nor are we interested in the generation data.\n",
    "Hence we drop all columns which contain information's source.\n",
    "We define a function `is_active()` that will return a `TRUE` boolean value if the column name does NOT (`!`) contain either of the strings \"source\" or \"generation\".\n",
    "Note the conversion of column names from `:Symbol` to `:string` since the `occursing` function only accepts strings as arguments."
   ],
   "metadata": {}
  },
  {
   "outputs": [],
   "cell_type": "code",
   "source": [
    "is_active(col) = !occursin(r\"source|generation\", string(col))\n",
    "active_cols = [col for col in names(data) if is_active(col)]\n",
    "select!(data, active_cols);"
   ],
   "metadata": {},
   "execution_count": null
  },
  {
   "cell_type": "markdown",
   "source": [
    "We also drop a number of other unwanted columns and take a look at our \"new\" dataframe."
   ],
   "metadata": {}
  },
  {
   "outputs": [],
   "cell_type": "code",
   "source": [
    "select!(data, Not([:wepp_id, :url, :owner]))\n",
    "schema(data)"
   ],
   "metadata": {},
   "execution_count": null
  },
  {
   "cell_type": "markdown",
   "source": [
    "The remaining variables have two different scientific types: Continuous, Textual\n",
    "Of which we can get an overview."
   ],
   "metadata": {}
  },
  {
   "outputs": [],
   "cell_type": "code",
   "source": [
    "describe(data)\n",
    "\n",
    "# The describe() function shows that there are several features with missing values."
   ],
   "metadata": {},
   "execution_count": null
  },
  {
   "cell_type": "markdown",
   "source": [
    "*Note:* the `describe()` function is from the `DataFrames` package (and won't work with other, non DataFrames, tables) whereas the `schema()` is from the MLJ package."
   ],
   "metadata": {}
  },
  {
   "cell_type": "markdown",
   "source": [
    "---\n",
    "Let's play around with capacity data, for which there are no missing values. We create a sub-dataframe and aggregate over certain dimensions (country and primary_fuel)"
   ],
   "metadata": {}
  },
  {
   "outputs": [],
   "cell_type": "code",
   "source": [
    "capacity = select(data, [:country, :primary_fuel, :capacity_mw]);\n",
    "first(capacity, 5)"
   ],
   "metadata": {},
   "execution_count": null
  },
  {
   "cell_type": "markdown",
   "source": [
    "This dataframe contains several subgroups (country and technology type) and it would be interesting to get data aggregates by subgroup.\n",
    "To obtain a `view` of the DataFrame by subgroup, we can use the `groupby` function.\n",
    "(See the [DataFrame tutorial](https://alan-turing-institute.github.io/DataScienceTutorials.jl/data/dataframe/#groupby) for an introduction to the use of `groupby`)"
   ],
   "metadata": {}
  },
  {
   "outputs": [],
   "cell_type": "code",
   "source": [
    "cap_gr = groupby(capacity, [:country, :primary_fuel]);"
   ],
   "metadata": {},
   "execution_count": null
  },
  {
   "cell_type": "markdown",
   "source": [
    "If we want to aggregate at the country-fuel-type level and calculate summary statistics at this level, we can use the `combine` function on the GroupedDataFrame that we just created.\n",
    "This function takes the GroupedDataFrame, the symbol of the column on which to apply the measure of choice as arguments."
   ],
   "metadata": {}
  },
  {
   "outputs": [],
   "cell_type": "code",
   "source": [
    "cap_mean = combine(cap_gr, :capacity_mw => mean)\n",
    "cap_sum = combine(cap_gr, :capacity_mw => sum)\n",
    "first(cap_sum, 3)"
   ],
   "metadata": {},
   "execution_count": null
  },
  {
   "cell_type": "markdown",
   "source": [
    "Now let's plot some of this aggregate data for a selection of countries, by country and technology type"
   ],
   "metadata": {}
  },
  {
   "outputs": [],
   "cell_type": "code",
   "source": [
    "ctry_selec = r\"BEL|FRA|DEU\"\n",
    "tech_selec = r\"Solar\"\n",
    "\n",
    "cap_sum_plot = cap_sum[occursin.(ctry_selec, cap_sum.country) .& occursin.(tech_selec, cap_sum.primary_fuel), :]"
   ],
   "metadata": {},
   "execution_count": null
  },
  {
   "cell_type": "markdown",
   "source": [
    "Note the `.` for element-wise comparison\n",
    "Before plotting, we can also sort values by decreasing order using `sort!()`."
   ],
   "metadata": {}
  },
  {
   "outputs": [],
   "cell_type": "code",
   "source": [
    "sort!(cap_sum_plot, :capacity_mw_sum, rev=true)\n",
    "\n",
    "figure(figsize=(8,6))\n",
    "\n",
    "plt.bar(cap_sum_plot.country, cap_sum_plot.capacity_mw_sum, width=0.35)\n",
    "plt.xticks(rotation=90)\n",
    "\n"
   ],
   "metadata": {},
   "execution_count": null
  },
  {
   "cell_type": "markdown",
   "source": [
    "\\figalt{processing1}{D0-processing-g1.svg}"
   ],
   "metadata": {}
  },
  {
   "cell_type": "markdown",
   "source": [
    "---\n",
    "Now that we have the total capacity by country and technology type, let's use it to calculate the share of each technology in total capacity.\n",
    "To that end we first create a dataframe containing the country-level total capacity, using the same steps as above."
   ],
   "metadata": {}
  },
  {
   "outputs": [],
   "cell_type": "code",
   "source": [
    "cap_sum_ctry_gd = groupby(capacity, [:country]);\n",
    "cap_sum_ctry = combine(cap_sum_ctry_gd, :capacity_mw => sum);"
   ],
   "metadata": {},
   "execution_count": null
  },
  {
   "cell_type": "markdown",
   "source": [
    "The we join this dataframe with the disaggregated one; which requires that we convert the two GroupedDataFrame into DataFrames."
   ],
   "metadata": {}
  },
  {
   "outputs": [],
   "cell_type": "code",
   "source": [
    "cap_sum = DataFrame(cap_sum);\n",
    "cap_sum_ctry = DataFrame(cap_sum_ctry);\n",
    "cap_share = leftjoin(cap_sum, cap_sum_ctry, on = :country, makeunique = true)\n",
    "cap_share.capacity_mw_share = cap_share.capacity_mw_sum ./ cap_share.capacity_mw_sum_1;"
   ],
   "metadata": {},
   "execution_count": null
  },
  {
   "cell_type": "markdown",
   "source": [
    "Let's visualise our dataframe again, which now includes the `capacity_mw_share` column."
   ],
   "metadata": {}
  },
  {
   "cell_type": "markdown",
   "source": [
    "---\n",
    "Now let's analyse features which exhibit some missing values.\n",
    "Suppose we want to calculate the age of each plant (rounded to full years). We face two issues.\n",
    "First, the commissioning_year is not reported for all plants.\n",
    "We need to gauge the representativity of the plants for which it is available with regard to the full dataset.\n",
    "One way to count the missing values is"
   ],
   "metadata": {}
  },
  {
   "outputs": [],
   "cell_type": "code",
   "source": [
    "nMissings = length(findall(x -> ismissing(x), data.commissioning_year))"
   ],
   "metadata": {},
   "execution_count": null
  },
  {
   "cell_type": "markdown",
   "source": [
    "This represents about half of our observations"
   ],
   "metadata": {}
  },
  {
   "outputs": [],
   "cell_type": "code",
   "source": [
    "nMissings_share = nMissings/size(data)[1]"
   ],
   "metadata": {},
   "execution_count": null
  },
  {
   "cell_type": "markdown",
   "source": [
    "Second, the commissioning year is not reported as an integer. Fractions of years are reported too.\n",
    "As a result, the machine type of `data.commissioning_year`is Float64."
   ],
   "metadata": {}
  },
  {
   "outputs": [],
   "cell_type": "code",
   "source": [
    "typeof(data.commissioning_year)"
   ],
   "metadata": {},
   "execution_count": null
  },
  {
   "cell_type": "markdown",
   "source": [
    "Before calculating the average age, let's drop the missing values."
   ],
   "metadata": {}
  },
  {
   "outputs": [],
   "cell_type": "code",
   "source": [
    "data_nmiss = dropmissing(data, :commissioning_year);"
   ],
   "metadata": {},
   "execution_count": null
  },
  {
   "cell_type": "markdown",
   "source": [
    "And round the year to the closest integer. We can do this using the `round` function and a mapping function on the relevant DataFrame column."
   ],
   "metadata": {}
  },
  {
   "outputs": [],
   "cell_type": "code",
   "source": [
    "map!(x -> round(x, digits=0), data_nmiss.commissioning_year, data_nmiss.commissioning_year);\n",
    "\n",
    "# We can now calculate plant age for each plant (worth remembering that the dataset only contains active plants)\n",
    "\n",
    "current_year = fill!(Array{Float64}(undef, size(data_nmiss)[1]), 2020);\n",
    "data_nmiss[:, :plant_age] = current_year - data_nmiss[:, :commissioning_year];"
   ],
   "metadata": {},
   "execution_count": null
  },
  {
   "cell_type": "markdown",
   "source": [
    "Since the commissioning year is missing for about half the plants in the dataset (17340, see description of data above) and that missing values propagate,\n",
    "the plant age will only be available for 33643-17340 plants.\n",
    "Let's see what the mean and median plant ages are across the plants for which we have the data"
   ],
   "metadata": {}
  },
  {
   "outputs": [],
   "cell_type": "code",
   "source": [
    "mean_age = mean(skipmissing(data_nmiss.plant_age))\n",
    "median_age = median(skipmissing(data_nmiss.plant_age))"
   ],
   "metadata": {},
   "execution_count": null
  },
  {
   "cell_type": "markdown",
   "source": [
    "And bring this into a frequency plot of the plant age observations"
   ],
   "metadata": {}
  },
  {
   "outputs": [],
   "cell_type": "code",
   "source": [
    "figure(figsize=(8,6))\n",
    "\n",
    "plt.hist(data_nmiss.plant_age, color=\"blue\", edgecolor=\"white\", bins=100,\n",
    "      density=true, alpha=0.5)\n",
    "plt.axvline(mean_age, label = \"Mean\", color = \"red\")\n",
    "plt.axvline(median_age, label = \"Median\")\n",
    "\n",
    "plt.legend()\n",
    "\n",
    "plt.xlim(0,)\n",
    "\n"
   ],
   "metadata": {},
   "execution_count": null
  },
  {
   "cell_type": "markdown",
   "source": [
    "\\figalt{processing2}{D0-processing-g2.svg}"
   ],
   "metadata": {}
  },
  {
   "cell_type": "markdown",
   "source": [
    "We can also calculate and plot average plant age by country and technology\n",
    "Make sure all columns passed, other than the aggregation dimensions, are of type `Float` or `Int`, otherwise the function execution will fail."
   ],
   "metadata": {}
  },
  {
   "outputs": [],
   "cell_type": "code",
   "source": [
    "age = select(data_nmiss, [:country, :primary_fuel, :plant_age])\n",
    "age_mean = combine(groupby(age, [:country, :primary_fuel]), :plant_age => mean)\n",
    "\n",
    "coal_means = age_mean[occursin.(ctry_selec, age_mean.country) .& occursin.(r\"Coal\", age_mean.primary_fuel), :]\n",
    "gas_means = age_mean[occursin.(ctry_selec, age_mean.country) .& occursin.(r\"Gas\", age_mean.primary_fuel), :]\n",
    "\n",
    "width = 0.35  # the width of the bars\n",
    "\n",
    "fig, (ax1, ax2) = plt.subplots(1,2)\n",
    "\n",
    "fig.suptitle(\"Mean plant age by country and technology\")\n",
    "\n",
    "ax1.bar(coal_means.country, coal_means.plant_age_mean, width, label=\"Coal\")\n",
    "ax2.bar(gas_means.country, gas_means.plant_age_mean, width, label=\"Gas\")\n",
    "\n",
    "ax1.set_ylabel(\"Age\")\n",
    "\n",
    "ax1.set_title(\"Coal\")\n",
    "ax2.set_title(\"Gas\")\n",
    "\n"
   ],
   "metadata": {},
   "execution_count": null
  },
  {
   "cell_type": "markdown",
   "source": [
    "\\figalt{processing3}{D0-processing-g3.svg}"
   ],
   "metadata": {}
  },
  {
   "cell_type": "markdown",
   "source": [
    "---\n",
    "\n",
    "*This notebook was generated using [Literate.jl](https://github.com/fredrikekre/Literate.jl).*"
   ],
   "metadata": {}
  }
 ],
 "nbformat_minor": 3,
 "metadata": {
  "language_info": {
   "file_extension": ".jl",
   "mimetype": "application/julia",
   "name": "julia",
   "version": "1.4.1"
  },
  "kernelspec": {
   "name": "julia-1.4",
   "display_name": "Julia 1.4.1",
   "language": "julia"
  }
 },
 "nbformat": 4
}
