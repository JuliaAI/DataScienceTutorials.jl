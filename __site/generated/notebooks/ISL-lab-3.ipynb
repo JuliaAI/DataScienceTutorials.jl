{
 "cells": [
  {
   "outputs": [],
   "cell_type": "markdown",
   "source": [
    "Before running this, please make sure to activate and instantiate the environment\n",
    "corresponding to [this `Project.toml`](https://raw.githubusercontent.com/alan-turing-institute/MLJTutorials/master/Project.toml) and [this `Manifest.toml`](https://raw.githubusercontent.com/alan-turing-institute/MLJTutorials/master/Manifest.toml)\n",
    "so that you get an environment which matches the one used to generate the tutorials:\n",
    "\n",
    "```julia\n",
    "cd(\"MLJTutorials\") # cd to folder with the *.toml\n",
    "using Pkg; Pkg.activate(\".\"); Pkg.instantiate()\n",
    "```"
   ],
   "metadata": {}
  },
  {
   "outputs": [],
   "cell_type": "markdown",
   "source": [
    "## Simple linear regression\n",
    "\n",
    "`MLJ` essentially serves as a unified path to many existing Julia packages each of which provides their own functionalities and models, with their own conventions.\n",
    "\n",
    "The simple linear regression demonstrates this.\n",
    "Several packages offer it (beyond just using the backslash operator): here we will use `MLJLinearModels` but we could also have used `GLM`, `ScikitLearn` etc.\n",
    "\n",
    "To load the model from a given package use `@load ModelName pkg=PackageName`"
   ],
   "metadata": {}
  },
  {
   "outputs": [],
   "cell_type": "code",
   "source": [
    "using MLJ\n",
    "MLJ.color_off() # hide\n",
    "\n",
    "@load LinearRegressor pkg=MLJLinearModels"
   ],
   "metadata": {},
   "execution_count": null
  },
  {
   "outputs": [],
   "cell_type": "markdown",
   "source": [
    "Note: in order to be able to load this, you **must** have the relevant package in your environment, if you don't, you can always add it (``using Pkg; Pkg.add(\"MLJLinearModels\")``).\n",
    "\n",
    "Let's load the _boston_ data set"
   ],
   "metadata": {}
  },
  {
   "outputs": [],
   "cell_type": "code",
   "source": [
    "using RDatasets, DataFrames\n",
    "boston = dataset(\"MASS\", \"Boston\")\n",
    "first(boston, 3)"
   ],
   "metadata": {},
   "execution_count": null
  },
  {
   "outputs": [],
   "cell_type": "markdown",
   "source": [
    "Let's get a feel for the data"
   ],
   "metadata": {}
  },
  {
   "outputs": [],
   "cell_type": "code",
   "source": [
    "describe(boston, :mean, :std, :eltype)"
   ],
   "metadata": {},
   "execution_count": null
  },
  {
   "outputs": [],
   "cell_type": "markdown",
   "source": [
    "So there's no missing value and most variables are encoded as floating point numbers.\n",
    "In MLJ it's important to specify the interpretation of the features (should it be considered as a Continuous feature, as a Count, ...?), see also [this tutorial section](/getting-started/choosing-a-model/#data_and_its_interpretation) on scientific types.\n",
    "\n",
    "Here we will just interpret the integer features as continuous as we will just use a basic linear regression:"
   ],
   "metadata": {}
  },
  {
   "outputs": [],
   "cell_type": "code",
   "source": [
    "data = coerce(boston, autotype(boston, :discrete_to_continuous));"
   ],
   "metadata": {},
   "execution_count": null
  },
  {
   "outputs": [],
   "cell_type": "markdown",
   "source": [
    "Let's also extract the target variable (`MedV`):"
   ],
   "metadata": {}
  },
  {
   "outputs": [],
   "cell_type": "code",
   "source": [
    "y = data.MedV\n",
    "X = select(data, Not(:MedV));"
   ],
   "metadata": {},
   "execution_count": null
  },
  {
   "outputs": [],
   "cell_type": "markdown",
   "source": [
    "Let's declare a simple multivariate linear regression model:"
   ],
   "metadata": {}
  },
  {
   "outputs": [],
   "cell_type": "code",
   "source": [
    "mdl = LinearRegressor()"
   ],
   "metadata": {},
   "execution_count": null
  },
  {
   "outputs": [],
   "cell_type": "markdown",
   "source": [
    "First let's do a very simple univariate regression, in order to fit it on the data, we need to wrap it in a _machine_ which, in MLJ, is the composition of a model and data to apply the model on:"
   ],
   "metadata": {}
  },
  {
   "outputs": [],
   "cell_type": "code",
   "source": [
    "X_uni = select(X, :LStat) # only a single feature\n",
    "mach_uni = machine(mdl, X_uni, y)\n",
    "fit!(mach_uni)"
   ],
   "metadata": {},
   "execution_count": null
  },
  {
   "outputs": [],
   "cell_type": "markdown",
   "source": [
    "You can then retrieve the  fitted parameters using `fitted_params`:"
   ],
   "metadata": {}
  },
  {
   "outputs": [],
   "cell_type": "code",
   "source": [
    "fp = fitted_params(mach_uni)\n",
    "@show round.(fp.coefs, sigdigits=3)\n",
    "@show round(fp.intercept, sigdigits=3)"
   ],
   "metadata": {},
   "execution_count": null
  },
  {
   "outputs": [],
   "cell_type": "markdown",
   "source": [
    "You can also visualise this"
   ],
   "metadata": {}
  },
  {
   "outputs": [],
   "cell_type": "code",
   "source": [
    "using PyPlot\n",
    "\n",
    "figure(figsize=(8,6))\n",
    "plot(X.LStat, y, ls=\"none\", marker=\"o\")\n",
    "Xnew = (LStat = collect(range(extrema(X.LStat)..., length=100)),)\n",
    "plot(Xnew.LStat, predict(mach_uni, Xnew))\n",
    "\n",
    "savefig(joinpath(@OUTPUT, \"ISL-lab-3-lm1.svg\")) # hide"
   ],
   "metadata": {},
   "execution_count": null
  },
  {
   "outputs": [],
   "cell_type": "markdown",
   "source": [
    "\\figalt{Univariate regression}{ISL-lab-3-lm1.svg}"
   ],
   "metadata": {}
  },
  {
   "outputs": [],
   "cell_type": "markdown",
   "source": [
    "The  multivariate case is very similar"
   ],
   "metadata": {}
  },
  {
   "outputs": [],
   "cell_type": "code",
   "source": [
    "mach = machine(mdl, X, y)\n",
    "fit!(mach)\n",
    "\n",
    "fp = fitted_params(mach)\n",
    "@show round.(fp.coefs[1:3], sigdigits=3)\n",
    "@show round(fp.intercept, sigdigits=3)"
   ],
   "metadata": {},
   "execution_count": null
  },
  {
   "outputs": [],
   "cell_type": "markdown",
   "source": [
    "The coefficients here correspond to each of the feature"
   ],
   "metadata": {}
  },
  {
   "outputs": [],
   "cell_type": "code",
   "source": [
    "println(rpad(\" Feature\", 11), \"| \", \"Coefficient\")\n",
    "println(\"-\"^24)\n",
    "for (i, name) in enumerate(names(X))\n",
    "    println(rpad(\"$name\", 11), \"| \", round(fp.coefs[i], sigdigits=3))\n",
    "end\n",
    "println(rpad(\"Intercept\", 11), \"| \", round(fp.intercept, sigdigits=3))"
   ],
   "metadata": {},
   "execution_count": null
  },
  {
   "outputs": [],
   "cell_type": "markdown",
   "source": [
    "You can use the `machine` in order to _predict_ values as well and, for instance, compute the root mean squared error:"
   ],
   "metadata": {}
  },
  {
   "outputs": [],
   "cell_type": "code",
   "source": [
    "ŷ = predict(mach, X)\n",
    "round(rms(ŷ, y), sigdigits=4)"
   ],
   "metadata": {},
   "execution_count": null
  },
  {
   "outputs": [],
   "cell_type": "markdown",
   "source": [
    "Let's see what the residuals look like"
   ],
   "metadata": {}
  },
  {
   "outputs": [],
   "cell_type": "code",
   "source": [
    "figure(figsize=(8,6))\n",
    "res = ŷ .- y\n",
    "stem(res)\n",
    "\n",
    "savefig(joinpath(@OUTPUT, \"ISL-lab-3-res.svg\")) # hide"
   ],
   "metadata": {},
   "execution_count": null
  },
  {
   "outputs": [],
   "cell_type": "markdown",
   "source": [
    "\\figalt{Plot of the residuals}{ISL-lab-3-res.svg}"
   ],
   "metadata": {}
  },
  {
   "outputs": [],
   "cell_type": "markdown",
   "source": [
    "Maybe that a histogram is more appropriate here"
   ],
   "metadata": {}
  },
  {
   "outputs": [],
   "cell_type": "code",
   "source": [
    "figure(figsize=(8,6))\n",
    "hist(res, density=true)\n",
    "\n",
    "savefig(joinpath(@OUTPUT, \"ISL-lab-3-res2.svg\")) # hide"
   ],
   "metadata": {},
   "execution_count": null
  },
  {
   "outputs": [],
   "cell_type": "markdown",
   "source": [
    "\\figalt{Histogram of the residuals}{ISL-lab-3-res2.svg}"
   ],
   "metadata": {}
  },
  {
   "outputs": [],
   "cell_type": "markdown",
   "source": [
    "## Interaction and transformation\n",
    "\n",
    "Let's say we want to also consider an interaction term of `lstat` and `age` taken together.\n",
    "To do this, just create a new dataframe with an additional column corresponding to the interaction term:"
   ],
   "metadata": {}
  },
  {
   "outputs": [],
   "cell_type": "code",
   "source": [
    "X2 = hcat(X, X.LStat .* X.Age);"
   ],
   "metadata": {},
   "execution_count": null
  },
  {
   "outputs": [],
   "cell_type": "markdown",
   "source": [
    "So here we have a DataFrame with one extra column corresponding to the elementwise products between `:LStat` and `Age`.\n",
    "DataFrame gives this a default name (`:x1`) which we can change:"
   ],
   "metadata": {}
  },
  {
   "outputs": [],
   "cell_type": "code",
   "source": [
    "rename!(X2, :x1 => :interaction);"
   ],
   "metadata": {},
   "execution_count": null
  },
  {
   "outputs": [],
   "cell_type": "markdown",
   "source": [
    "Ok cool, now let's try the linear regression again"
   ],
   "metadata": {}
  },
  {
   "outputs": [],
   "cell_type": "code",
   "source": [
    "mach = machine(mdl, X2, y)\n",
    "fit!(mach)\n",
    "ŷ = predict(mach, X2)\n",
    "round(rms(ŷ, y), sigdigits=4)"
   ],
   "metadata": {},
   "execution_count": null
  },
  {
   "outputs": [],
   "cell_type": "markdown",
   "source": [
    "We get slightly better results but nothing spectacular.\n",
    "\n",
    "Let's get back to the lab where they consider regressing the target variable on `lstat` and `lstat^2`; again, it's essentially a case of defining the right DataFrame:"
   ],
   "metadata": {}
  },
  {
   "outputs": [],
   "cell_type": "code",
   "source": [
    "X3 = hcat(X.LStat, X.LStat.^2)\n",
    "mach = machine(mdl, X3, y)\n",
    "fit!(mach)\n",
    "ŷ = predict(mach, X3)\n",
    "round(rms(ŷ, y), sigdigits=4)"
   ],
   "metadata": {},
   "execution_count": null
  },
  {
   "outputs": [],
   "cell_type": "markdown",
   "source": [
    "which again, we can visualise:"
   ],
   "metadata": {}
  },
  {
   "outputs": [],
   "cell_type": "code",
   "source": [
    "Xnew = (LStat = Xnew.LStat, LStat2 = Xnew.LStat.^2)\n",
    "\n",
    "figure(figsize=(8,6))\n",
    "plot(X.LStat, y, ls=\"none\", marker=\"o\")\n",
    "plot(Xnew.LStat, predict(mach, Xnew))\n",
    "\n",
    "savefig(joinpath(@OUTPUT, \"ISL-lab-3-lreg.svg\")) # hide"
   ],
   "metadata": {},
   "execution_count": null
  },
  {
   "outputs": [],
   "cell_type": "markdown",
   "source": [
    "\\figalt{Polynomial regression}{ISL-lab-3-lreg.svg}"
   ],
   "metadata": {}
  },
  {
   "outputs": [],
   "cell_type": "code",
   "source": [
    "PyPlot.close_figs() # hide"
   ],
   "metadata": {},
   "execution_count": null
  },
  {
   "outputs": [],
   "cell_type": "markdown",
   "source": [
    "---\n",
    "\n",
    "*This notebook was generated using [Literate.jl](https://github.com/fredrikekre/Literate.jl).*"
   ],
   "metadata": {}
  }
 ],
 "nbformat_minor": 3,
 "metadata": {
  "language_info": {
   "file_extension": ".jl",
   "mimetype": "application/julia",
   "name": "julia",
   "version": "1.5.0-DEV.350"
  },
  "kernelspec": {
   "name": "julia-1.5",
   "display_name": "Julia 1.5.0-DEV.350",
   "language": "julia"
  }
 },
 "nbformat": 4
}
