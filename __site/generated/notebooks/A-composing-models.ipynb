{
 "cells": [
  {
   "cell_type": "markdown",
   "source": [
    "Before running this, please make sure to activate and instantiate the environment\n",
    "corresponding to [this `Project.toml`](https://raw.githubusercontent.com/alan-turing-institute/DataScienceTutorials.jl/master/Project.toml) and [this `Manifest.toml`](https://raw.githubusercontent.com/alan-turing-institute/DataScienceTutorials.jl/master/Manifest.toml)\n",
    "so that you get an environment which matches the one used to generate the tutorials:\n",
    "\n",
    "```julia\n",
    "cd(\"DataScienceTutorials\") # cd to folder with the *.toml\n",
    "using Pkg; Pkg.activate(\".\"); Pkg.instantiate()\n",
    "```"
   ],
   "metadata": {}
  },
  {
   "cell_type": "markdown",
   "source": [
    "## Generating dummy data"
   ],
   "metadata": {}
  },
  {
   "cell_type": "markdown",
   "source": [
    "Let's start by generating some dummy data with both numerical values and categorical values:"
   ],
   "metadata": {}
  },
  {
   "outputs": [],
   "cell_type": "code",
   "source": [
    "using MLJ\n",
    "using PrettyPrinting\n",
    "\n",
    "@load KNNRegressor\n",
    "# input\n",
    "X = (age    = [23, 45, 34, 25, 67],\n",
    "     gender = categorical(['m', 'm', 'f', 'm', 'f']))\n",
    "# target\n",
    "height = [178, 194, 165, 173, 168];"
   ],
   "metadata": {},
   "execution_count": null
  },
  {
   "cell_type": "markdown",
   "source": [
    "Note that the scientific type of `age` is `Count` here:"
   ],
   "metadata": {}
  },
  {
   "outputs": [],
   "cell_type": "code",
   "source": [
    "scitype(X.age)"
   ],
   "metadata": {},
   "execution_count": null
  },
  {
   "cell_type": "markdown",
   "source": [
    "We will want to coerce that to `Continuous` so that it can be given to a regressor that expects such values."
   ],
   "metadata": {}
  },
  {
   "cell_type": "markdown",
   "source": [
    "## Declaring a pipeline"
   ],
   "metadata": {}
  },
  {
   "cell_type": "markdown",
   "source": [
    "A typical workflow for such data is to one-hot-encode the categorical data and then apply some regression model on the data.\n",
    "Let's say that we want to apply the following steps:\n",
    "1. standardize the target variable (`:height`)\n",
    "1. one hot encode the categorical data\n",
    "1. train a KNN regression model"
   ],
   "metadata": {}
  },
  {
   "cell_type": "markdown",
   "source": [
    "The `@pipeline` macro helps you define such a simple (non-branching) pipeline of steps to be applied in order:"
   ],
   "metadata": {}
  },
  {
   "outputs": [],
   "cell_type": "code",
   "source": [
    "pipe = @pipeline(X -> coerce(X, :age=>Continuous),\n",
    "                OneHotEncoder(),\n",
    "                KNNRegressor(K=3),\n",
    "                target = UnivariateStandardizer());"
   ],
   "metadata": {},
   "execution_count": null
  },
  {
   "cell_type": "markdown",
   "source": [
    "Note the coercion of the `:age` variable to Continuous since `KNNRegressor` expects `Continuous` input.\n",
    "Note also the `target` keyword where you can specify a transformation of the target variable."
   ],
   "metadata": {}
  },
  {
   "cell_type": "markdown",
   "source": [
    "Hyperparameters of this pipeline can be accessed (and set) using dot syntax:"
   ],
   "metadata": {}
  },
  {
   "outputs": [],
   "cell_type": "code",
   "source": [
    "pipe.knn_regressor.K = 2\n",
    "pipe.one_hot_encoder.drop_last = true;"
   ],
   "metadata": {},
   "execution_count": null
  },
  {
   "cell_type": "markdown",
   "source": [
    "Evaluation for a pipe can be done with the `evaluate!` method; implicitly it will construct machines that will contain the fitted parameters etc:"
   ],
   "metadata": {}
  },
  {
   "outputs": [],
   "cell_type": "code",
   "source": [
    "evaluate(pipe, X, height, resampling=Holdout(),\n",
    "         measure=rms) |> pprint"
   ],
   "metadata": {},
   "execution_count": null
  },
  {
   "cell_type": "markdown",
   "source": [
    "---\n",
    "\n",
    "*This notebook was generated using [Literate.jl](https://github.com/fredrikekre/Literate.jl).*"
   ],
   "metadata": {}
  }
 ],
 "nbformat_minor": 3,
 "metadata": {
  "language_info": {
   "file_extension": ".jl",
   "mimetype": "application/julia",
   "name": "julia",
   "version": "1.4.1"
  },
  "kernelspec": {
   "name": "julia-1.4",
   "display_name": "Julia 1.4.1",
   "language": "julia"
  }
 },
 "nbformat": 4
}
