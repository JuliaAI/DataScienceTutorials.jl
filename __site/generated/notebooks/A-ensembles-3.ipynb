{
 "cells": [
  {
   "outputs": [],
   "cell_type": "markdown",
   "source": [
    "Before running this, please make sure to activate and instantiate the environment\n",
    "corresponding to [this `Project.toml`](https://raw.githubusercontent.com/alan-turing-institute/MLJTutorials/master/Project.toml) and [this `Manifest.toml`](https://raw.githubusercontent.com/alan-turing-institute/MLJTutorials/master/Manifest.toml)\n",
    "so that you get an environment which matches the one used to generate the tutorials:\n",
    "\n",
    "```julia\n",
    "cd(\"MLJTutorials\") # cd to folder with the *.toml\n",
    "using Pkg; Pkg.activate(\".\"); Pkg.instantiate()\n",
    "```"
   ],
   "metadata": {}
  },
  {
   "outputs": [],
   "cell_type": "markdown",
   "source": [
    "# Simple example of a homogeneous ensemble using learning networks"
   ],
   "metadata": {}
  },
  {
   "outputs": [],
   "cell_type": "markdown",
   "source": [
    "In this simple example, no bagging is used, so every atomic model\n",
    "gets the same learned parameters, unless the atomic model training\n",
    "algorithm has randomness, eg, DecisionTree with random subsampling\n",
    "of features at nodes."
   ],
   "metadata": {}
  },
  {
   "outputs": [],
   "cell_type": "markdown",
   "source": [
    "Note that MLJ has a built in model wrapper called `EnsembleModel`\n",
    "for creating bagged ensembles with a few lines of code."
   ],
   "metadata": {}
  },
  {
   "outputs": [],
   "cell_type": "markdown",
   "source": [
    "## Definition of composite model type"
   ],
   "metadata": {}
  },
  {
   "outputs": [],
   "cell_type": "code",
   "source": [
    "using MLJ, PyPlot\n",
    "import Statistics"
   ],
   "metadata": {},
   "execution_count": null
  },
  {
   "outputs": [],
   "cell_type": "markdown",
   "source": [
    "learning network (composite model spec):"
   ],
   "metadata": {}
  },
  {
   "outputs": [],
   "cell_type": "code",
   "source": [
    "Xs = source()\n",
    "ys = source(kind=:target)\n",
    "\n",
    "atom = @load DecisionTreeRegressor\n",
    "atom.n_subfeatures = 4 # to ensure diversity among trained atomic models\n",
    "\n",
    "machines = (machine(atom, Xs, ys) for i in 1:100)"
   ],
   "metadata": {},
   "execution_count": null
  },
  {
   "outputs": [],
   "cell_type": "markdown",
   "source": [
    "overload `mean` for nodes:"
   ],
   "metadata": {}
  },
  {
   "outputs": [],
   "cell_type": "code",
   "source": [
    "Statistics.mean(v...) = mean(v)\n",
    "Statistics.mean(v::AbstractVector{<:AbstractNode}) = node(mean, v...)\n",
    "\n",
    "yhat = mean([predict(m, Xs) for  m in machines]);"
   ],
   "metadata": {},
   "execution_count": null
  },
  {
   "outputs": [],
   "cell_type": "markdown",
   "source": [
    "new composite model type and instance:"
   ],
   "metadata": {}
  },
  {
   "outputs": [],
   "cell_type": "code",
   "source": [
    "one_hundred_models = @from_network OneHundredModels(atom=atom) <= yhat"
   ],
   "metadata": {},
   "execution_count": null
  },
  {
   "outputs": [],
   "cell_type": "markdown",
   "source": [
    "## Application to data"
   ],
   "metadata": {}
  },
  {
   "outputs": [],
   "cell_type": "code",
   "source": [
    "X, y = @load_boston;"
   ],
   "metadata": {},
   "execution_count": null
  },
  {
   "outputs": [],
   "cell_type": "markdown",
   "source": [
    "tune regularization parameter for a *single* tree:"
   ],
   "metadata": {}
  },
  {
   "outputs": [],
   "cell_type": "code",
   "source": [
    "r = range(atom,\n",
    "          :min_samples_split,\n",
    "          lower=2,\n",
    "          upper=100, scale=:log)\n",
    "\n",
    "mach = machine(atom, X, y)\n",
    "\n",
    "curve = learning_curve!(mach,\n",
    "                        range=r,\n",
    "                        measure=mav,\n",
    "                        resampling=CV(nfolds=9),\n",
    "                        verbosity=0)\n",
    "\n",
    "plot(curve.parameter_values, curve.measurements)\n",
    "xlabel(curve.parameter_name)\n",
    "\n",
    "savefig(joinpath(@OUTPUT, \"e1.svg\")) # hide"
   ],
   "metadata": {},
   "execution_count": null
  },
  {
   "outputs": [],
   "cell_type": "markdown",
   "source": [
    "\\fig{e1.svg}"
   ],
   "metadata": {}
  },
  {
   "outputs": [],
   "cell_type": "markdown",
   "source": [
    "tune regularization parameter for all trees in ensemble simultaneously:"
   ],
   "metadata": {}
  },
  {
   "outputs": [],
   "cell_type": "code",
   "source": [
    "r = range(one_hundred_models,\n",
    "          :(atom.min_samples_split),\n",
    "          lower=2,\n",
    "          upper=100, scale=:log)\n",
    "\n",
    "mach = machine(one_hundred_models, X, y)\n",
    "\n",
    "curve = learning_curve!(mach,\n",
    "                        range=r,\n",
    "                        measure=mav,\n",
    "                        resampling=CV(nfolds=9),\n",
    "                        verbosity=0)\n",
    "\n",
    "plot(curve.parameter_values, curve.measurements)\n",
    "xlabel(curve.parameter_name)\n",
    "\n",
    "savefig(joinpath(@OUTPUT, \"e2.svg\")) # hide"
   ],
   "metadata": {},
   "execution_count": null
  },
  {
   "outputs": [],
   "cell_type": "markdown",
   "source": [
    "\\fig{e2}"
   ],
   "metadata": {}
  },
  {
   "outputs": [],
   "cell_type": "code",
   "source": [
    "PyPlot.close_figs() # hide"
   ],
   "metadata": {},
   "execution_count": null
  },
  {
   "outputs": [],
   "cell_type": "markdown",
   "source": [
    "---\n",
    "\n",
    "*This notebook was generated using [Literate.jl](https://github.com/fredrikekre/Literate.jl).*"
   ],
   "metadata": {}
  }
 ],
 "nbformat_minor": 3,
 "metadata": {
  "language_info": {
   "file_extension": ".jl",
   "mimetype": "application/julia",
   "name": "julia",
   "version": "1.5.0-DEV.350"
  },
  "kernelspec": {
   "name": "julia-1.5",
   "display_name": "Julia 1.5.0-DEV.350",
   "language": "julia"
  }
 },
 "nbformat": 4
}
