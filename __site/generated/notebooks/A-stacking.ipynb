{
 "cells": [
  {
   "cell_type": "markdown",
   "source": [
    "Before running this, please make sure to activate and instantiate the environment\n",
    "corresponding to [this `Project.toml`](https://raw.githubusercontent.com/alan-turing-institute/DataScienceTutorials.jl/master/Project.toml) and [this `Manifest.toml`](https://raw.githubusercontent.com/alan-turing-institute/DataScienceTutorials.jl/master/Manifest.toml)\n",
    "so that you get an environment which matches the one used to generate the tutorials:\n",
    "\n",
    "```julia\n",
    "cd(\"DataScienceTutorials\") # cd to folder with the *.toml\n",
    "using Pkg; Pkg.activate(\".\"); Pkg.instantiate()\n",
    "```"
   ],
   "metadata": {}
  },
  {
   "cell_type": "markdown",
   "source": [
    "In stacking one blends the predictions of different regressors or\n",
    "classifiers to gain, in some cases, better performance than naive\n",
    "averaging or majority vote."
   ],
   "metadata": {}
  },
  {
   "cell_type": "markdown",
   "source": [
    "Here we illustrate how to build a two-model stack as an MLJ learning\n",
    "network, which we export as a new stand-alone composite model\n",
    "type `MyTwoStack`. This will make the stack that we build completely\n",
    "re-usable (new data, new models). This means we can apply\n",
    "meta-algorithms, such as performance evaluation and tuning, to the\n",
    "stack, exactly as we would for any other model."
   ],
   "metadata": {}
  },
  {
   "cell_type": "markdown",
   "source": [
    "Our main purpose here is to demonstrate the flexibility of MLJ's\n",
    "composite model interface. Eventually, MLJ will provide built-in\n",
    "composite types or macros to achieve the same results in a few\n",
    "lines, which will suffice for routine stacking tasks."
   ],
   "metadata": {}
  },
  {
   "cell_type": "markdown",
   "source": [
    "## Basic stacking using out-of-sample base learner predictions"
   ],
   "metadata": {}
  },
  {
   "cell_type": "markdown",
   "source": [
    "A rather general stacking protocol was first described in a [1992\n",
    "paper](https://www.sciencedirect.com/science/article/abs/pii/S0893608005800231)\n",
    "by David Wolpert. For a generic introduction to the basic two-layer\n",
    "stack described here, see [this blog\n",
    "post](https://burakhimmetoglu.com/2016/12/01/stacking-models-for-improved-predictions/)\n",
    "of Burak Himmetoglu."
   ],
   "metadata": {}
  },
  {
   "cell_type": "markdown",
   "source": [
    "A basic stack consists of a number of base learners (two, in this\n",
    "illustration) and a single adjudicating model."
   ],
   "metadata": {}
  },
  {
   "cell_type": "markdown",
   "source": [
    "When a stacked model is called to make a prediction, the individual\n",
    "predictions of the base learners are made the columns of an *input*\n",
    "table for the adjudicating model, which then outputs the final\n",
    "prediction. However, it is crucial to understand that the flow of\n",
    "data *during training* is not the same."
   ],
   "metadata": {}
  },
  {
   "cell_type": "markdown",
   "source": [
    "The base model predictions used to train the adjudicating model are\n",
    "*not* the predictions of the base learners fitted to all the\n",
    "training data. Rather, to prevent the adjudicator giving too much\n",
    "weight to the base learners with low *training* error, the input\n",
    "data is first split into a number of folds (as in cross-validation),\n",
    "a base learner is trained on each fold complement individually, and\n",
    "corresponding predictions on the folds are spliced together to form\n",
    "a full-length prediction called the *out-of-sample prediction*."
   ],
   "metadata": {}
  },
  {
   "cell_type": "markdown",
   "source": [
    "For illustrative purposes we use just three folds. Each base learner\n",
    "will get three separate machines, for training on each fold\n",
    "complement, and a fourth machine, trained on all the supplied data,\n",
    "for use in the prediction flow."
   ],
   "metadata": {}
  },
  {
   "cell_type": "markdown",
   "source": [
    "We build the learning network with dummy data at the source nodes,\n",
    "so the reader inspects the workings of the network as it is built (by\n",
    "calling `fit!` on nodes, and by calling the nodes themselves). As\n",
    "usual, this data is not seen by the exported composite model type,\n",
    "and the component models we choose are just default values for the\n",
    "hyperparameters of the composite model."
   ],
   "metadata": {}
  },
  {
   "outputs": [],
   "cell_type": "code",
   "source": [
    "using MLJ\n",
    "using PyPlot\n",
    "using StableRNGs"
   ],
   "metadata": {},
   "execution_count": null
  },
  {
   "cell_type": "markdown",
   "source": [
    "Some models we will use:"
   ],
   "metadata": {}
  },
  {
   "outputs": [],
   "cell_type": "code",
   "source": [
    "linear = @load LinearRegressor pkg=MLJLinearModels\n",
    "knn = @load KNNRegressor; knn.K = 4\n",
    "tree_booster = @load EvoTreeRegressor; tree_booster.nrounds = 100\n",
    "forest = @load RandomForestRegressor pkg=DecisionTree; forest.n_trees = 500\n",
    "svm = @load SVMRegressor;"
   ],
   "metadata": {},
   "execution_count": null
  },
  {
   "cell_type": "markdown",
   "source": [
    "### Warm-up exercise: Define a model type to average predictions"
   ],
   "metadata": {}
  },
  {
   "cell_type": "markdown",
   "source": [
    "Let's define a composite model type `MyAverageTwo` that\n",
    "averages the predictions of two deterministic regressors. Here's the learning network:"
   ],
   "metadata": {}
  },
  {
   "outputs": [],
   "cell_type": "code",
   "source": [
    "X = source()\n",
    "y = source()\n",
    "\n",
    "model1 = linear\n",
    "model2 = knn\n",
    "\n",
    "m1 = machine(model1, X, y)\n",
    "y1 = predict(m1, X)\n",
    "\n",
    "m2 = machine(model2, X, y)\n",
    "y2 = predict(m2, X)\n",
    "\n",
    "yhat = 0.5*y1 + 0.5*y2"
   ],
   "metadata": {},
   "execution_count": null
  },
  {
   "cell_type": "markdown",
   "source": [
    "In preparation for export, we wrap the learning network in a\n",
    "learning network machine, which specifies what the source nodes are,\n",
    "and which node is for prediction. As our exported model will make\n",
    "point-predictions (as opposed to probabilistic ones), we use a\n",
    "`Deterministic` [\"surrogate\" model](https://alan-turing-institute.github.io/MLJ.jl/dev/performance_measures/):"
   ],
   "metadata": {}
  },
  {
   "outputs": [],
   "cell_type": "code",
   "source": [
    "mach = machine(Deterministic(), X, y; predict=yhat)"
   ],
   "metadata": {},
   "execution_count": null
  },
  {
   "cell_type": "markdown",
   "source": [
    "Note that we cannot actually fit this machine because we chose not\n",
    "to wrap our source nodes `X` and `y` in data."
   ],
   "metadata": {}
  },
  {
   "cell_type": "markdown",
   "source": [
    "Here's the macro call that \"exports\" the learning network as a new\n",
    "composite model `MyAverageTwo`:"
   ],
   "metadata": {}
  },
  {
   "outputs": [],
   "cell_type": "code",
   "source": [
    "@from_network mach begin\n",
    "    mutable struct MyAverageTwo\n",
    "        regressor1=model1\n",
    "        regressor2=model2\n",
    "    end\n",
    "end"
   ],
   "metadata": {},
   "execution_count": null
  },
  {
   "cell_type": "markdown",
   "source": [
    "Note that, unlike a normal struct definition, the defaults `model1`\n",
    "and `model2` must be specified, and they must refer to model\n",
    "instances in the learning network."
   ],
   "metadata": {}
  },
  {
   "cell_type": "markdown",
   "source": [
    "We can now create an instance of the new type:"
   ],
   "metadata": {}
  },
  {
   "outputs": [],
   "cell_type": "code",
   "source": [
    "average_two = MyAverageTwo()"
   ],
   "metadata": {},
   "execution_count": null
  },
  {
   "cell_type": "markdown",
   "source": [
    "Evaluating this average model on the Boston data set, and comparing\n",
    "with the base model predictions:"
   ],
   "metadata": {}
  },
  {
   "outputs": [],
   "cell_type": "code",
   "source": [
    "function print_performance(model, data...)\n",
    "    e = evaluate(model, data...;\n",
    "                 resampling=CV(rng=StableRNG(1234), nfolds=8),\n",
    "                 measure=rms,\n",
    "                 verbosity=0)\n",
    "    μ = round(e.measurement[1], sigdigits=5)\n",
    "    ste = round(std(e.per_fold[1])/sqrt(8), digits=5)\n",
    "    println(\"$model = $μ ± $(2*ste)\")\n",
    "end;\n",
    "\n",
    "X, y = @load_boston\n",
    "\n",
    "print_performance(linear, X, y)\n",
    "print_performance(knn, X, y)\n",
    "print_performance(average_two, X, y)"
   ],
   "metadata": {},
   "execution_count": null
  },
  {
   "cell_type": "markdown",
   "source": [
    "## Stacking proper\n",
    "### Helper functions:"
   ],
   "metadata": {}
  },
  {
   "cell_type": "markdown",
   "source": [
    "To generate folds for generating out-of-sample predictions, we define"
   ],
   "metadata": {}
  },
  {
   "outputs": [],
   "cell_type": "code",
   "source": [
    "folds(data, nfolds) =\n",
    "    partition(1:nrows(data), (1/nfolds for i in 1:(nfolds-1))...);"
   ],
   "metadata": {},
   "execution_count": null
  },
  {
   "cell_type": "markdown",
   "source": [
    "For example, we have:"
   ],
   "metadata": {}
  },
  {
   "outputs": [],
   "cell_type": "code",
   "source": [
    "f = folds(1:10, 3)"
   ],
   "metadata": {},
   "execution_count": null
  },
  {
   "cell_type": "markdown",
   "source": [
    "It will also be convenient to use the MLJ method `restrict(X, f, i)`\n",
    "that restricts data `X` to the `i`th element (fold) of `f`, and\n",
    "`corestrict(X, f, i)` that restricts to the corresponding fold\n",
    "complement (the concatenation of all but the `i`th\n",
    "fold)."
   ],
   "metadata": {}
  },
  {
   "cell_type": "markdown",
   "source": [
    "For example, we have:"
   ],
   "metadata": {}
  },
  {
   "outputs": [],
   "cell_type": "code",
   "source": [
    "corestrict(string.(1:10), f, 2)"
   ],
   "metadata": {},
   "execution_count": null
  },
  {
   "cell_type": "markdown",
   "source": [
    "### Choose some test data (optional) and some component models (defaults for the composite model):"
   ],
   "metadata": {}
  },
  {
   "outputs": [],
   "cell_type": "code",
   "source": [
    "figure(figsize=(8,6))\n",
    "steps(x) = x < -3/2 ? -1 : (x < 3/2 ? 0 : 1)\n",
    "x = Float64[-4, -1, 2, -3, 0, 3, -2, 1, 4]\n",
    "Xraw = (x = x, )\n",
    "yraw = steps.(x);\n",
    "idxsort = sortperm(x)\n",
    "xsort = x[idxsort]\n",
    "ysort = yraw[idxsort]\n",
    "step(xsort, ysort, label=\"truth\", where=\"mid\")\n",
    "plot(x, yraw, ls=\"none\", marker=\"o\", label=\"data\")\n",
    "xlim(-4.5, 4.5)\n",
    "legend()\n",
    "\n"
   ],
   "metadata": {},
   "execution_count": null
  },
  {
   "cell_type": "markdown",
   "source": [
    "\\fig{s1.svg}"
   ],
   "metadata": {}
  },
  {
   "cell_type": "markdown",
   "source": [
    "Some models to stack (which we can change later):"
   ],
   "metadata": {}
  },
  {
   "outputs": [],
   "cell_type": "code",
   "source": [
    "model1 = linear\n",
    "model2 = knn"
   ],
   "metadata": {},
   "execution_count": null
  },
  {
   "cell_type": "markdown",
   "source": [
    "The adjudicating model:"
   ],
   "metadata": {}
  },
  {
   "outputs": [],
   "cell_type": "code",
   "source": [
    "judge = linear"
   ],
   "metadata": {},
   "execution_count": null
  },
  {
   "cell_type": "markdown",
   "source": [
    "### Define the training nodes"
   ],
   "metadata": {}
  },
  {
   "cell_type": "markdown",
   "source": [
    "Let's instantiate some input and target source nodes for the\n",
    "learning network, wrapping the play data defined above in source\n",
    "nodes:"
   ],
   "metadata": {}
  },
  {
   "outputs": [],
   "cell_type": "code",
   "source": [
    "X = source(Xraw)\n",
    "y = source(yraw)"
   ],
   "metadata": {},
   "execution_count": null
  },
  {
   "cell_type": "markdown",
   "source": [
    "Our first internal node will represent the three folds (vectors of row\n",
    "indices) for creating the out-of-sample predictions. We would like\n",
    "to define `f = folds(X, 3)` but this will not work because `X` is\n",
    "not a table, just a node representing a table. We could fix this\n",
    "by using the @node macro:"
   ],
   "metadata": {}
  },
  {
   "outputs": [],
   "cell_type": "code",
   "source": [
    "f = @node folds(X, 3)"
   ],
   "metadata": {},
   "execution_count": null
  },
  {
   "cell_type": "markdown",
   "source": [
    "Now `f` is itself a node, and so callable:"
   ],
   "metadata": {}
  },
  {
   "outputs": [],
   "cell_type": "code",
   "source": [
    "f()"
   ],
   "metadata": {},
   "execution_count": null
  },
  {
   "cell_type": "markdown",
   "source": [
    "However, we can also just overload `folds` to work on nodes, using the\n",
    "`node` *function*:"
   ],
   "metadata": {}
  },
  {
   "outputs": [],
   "cell_type": "code",
   "source": [
    "folds(X::AbstractNode, nfolds) = node(XX->folds(XX, nfolds), X)\n",
    "f = folds(X, 3)\n",
    "f()"
   ],
   "metadata": {},
   "execution_count": null
  },
  {
   "cell_type": "markdown",
   "source": [
    "In the case of `restrict` and `corestrict`, which also don't\n",
    "operate on nodes, method overloading will save us writing `@node`\n",
    "all the time:"
   ],
   "metadata": {}
  },
  {
   "outputs": [],
   "cell_type": "code",
   "source": [
    "MLJ.restrict(X::AbstractNode, f::AbstractNode, i) =\n",
    "    node((XX, ff) -> restrict(XX, ff, i), X, f);\n",
    "MLJ.corestrict(X::AbstractNode, f::AbstractNode, i) =\n",
    "    node((XX, ff) -> corestrict(XX, ff, i), X, f);"
   ],
   "metadata": {},
   "execution_count": null
  },
  {
   "cell_type": "markdown",
   "source": [
    "We are now ready to define machines for training `model1` on each\n",
    "fold-complement:"
   ],
   "metadata": {}
  },
  {
   "outputs": [],
   "cell_type": "code",
   "source": [
    "m11 = machine(model1, corestrict(X, f, 1), corestrict(y, f, 1))\n",
    "m12 = machine(model1, corestrict(X, f, 2), corestrict(y, f, 2))\n",
    "m13 = machine(model1, corestrict(X, f, 3), corestrict(y, f, 3))"
   ],
   "metadata": {},
   "execution_count": null
  },
  {
   "cell_type": "markdown",
   "source": [
    "Define each out-of-sample prediction of `model1`:"
   ],
   "metadata": {}
  },
  {
   "outputs": [],
   "cell_type": "code",
   "source": [
    "y11 = predict(m11, restrict(X, f, 1));\n",
    "y12 = predict(m12, restrict(X, f, 2));\n",
    "y13 = predict(m13, restrict(X, f, 3));"
   ],
   "metadata": {},
   "execution_count": null
  },
  {
   "cell_type": "markdown",
   "source": [
    "Splice together the out-of-sample predictions for model1:"
   ],
   "metadata": {}
  },
  {
   "outputs": [],
   "cell_type": "code",
   "source": [
    "y1_oos = vcat(y11, y12, y13);"
   ],
   "metadata": {},
   "execution_count": null
  },
  {
   "cell_type": "markdown",
   "source": [
    "Note there is no need to overload the `vcat` function to work on\n",
    "nodes; it does so out of the box, as does `hcat` and basic\n",
    "arithmetic operations."
   ],
   "metadata": {}
  },
  {
   "cell_type": "markdown",
   "source": [
    "Since our source nodes are wrapping data, we can optionally check\n",
    "our network so far, by calling fitting and calling `y1_oos`:"
   ],
   "metadata": {}
  },
  {
   "outputs": [],
   "cell_type": "code",
   "source": [
    "fit!(y1_oos, verbosity=0)\n",
    "\n",
    "figure(figsize=(8,6))\n",
    "step(xsort, ysort, label=\"truth\", where=\"mid\")\n",
    "plot(x, y1_oos(), ls=\"none\", marker=\"o\", label=\"linear oos\")\n",
    "legend()\n",
    "\n"
   ],
   "metadata": {},
   "execution_count": null
  },
  {
   "cell_type": "markdown",
   "source": [
    "\\fig{s2.svg}"
   ],
   "metadata": {}
  },
  {
   "cell_type": "markdown",
   "source": [
    "We now repeat the procedure for the other model:"
   ],
   "metadata": {}
  },
  {
   "outputs": [],
   "cell_type": "code",
   "source": [
    "m21 = machine(model2, corestrict(X, f, 1), corestrict(y, f, 1))\n",
    "m22 = machine(model2, corestrict(X, f, 2), corestrict(y, f, 2))\n",
    "m23 = machine(model2, corestrict(X, f, 3), corestrict(y, f, 3))\n",
    "y21 = predict(m21, restrict(X, f, 1));\n",
    "y22 = predict(m22, restrict(X, f, 2));\n",
    "y23 = predict(m23, restrict(X, f, 3));"
   ],
   "metadata": {},
   "execution_count": null
  },
  {
   "cell_type": "markdown",
   "source": [
    "And testing the knn out-of-sample prediction:"
   ],
   "metadata": {}
  },
  {
   "outputs": [],
   "cell_type": "code",
   "source": [
    "y2_oos = vcat(y21, y22, y23);\n",
    "fit!(y2_oos, verbosity=0)\n",
    "\n",
    "figure(figsize=(8,6))\n",
    "step(xsort, ysort, label=\"truth\", where=\"mid\")\n",
    "plot(x, y2_oos(), ls=\"none\", marker=\"o\", label=\"knn oos\")\n",
    "legend()\n",
    "\n"
   ],
   "metadata": {},
   "execution_count": null
  },
  {
   "cell_type": "markdown",
   "source": [
    "\\fig{s3.svg}"
   ],
   "metadata": {}
  },
  {
   "cell_type": "markdown",
   "source": [
    "Now that we have the out-of-sample base learner predictions, we are\n",
    "ready to merge them into the adjudicator's input table and construct\n",
    "the machine for training the adjudicator:"
   ],
   "metadata": {}
  },
  {
   "outputs": [],
   "cell_type": "code",
   "source": [
    "X_oos = MLJ.table(hcat(y1_oos, y2_oos))\n",
    "m_judge = machine(judge, X_oos, y)"
   ],
   "metadata": {},
   "execution_count": null
  },
  {
   "cell_type": "markdown",
   "source": [
    "Are we done with constructing machines? Well, not quite. Recall that\n",
    "when we use the stack to make predictions on new data, we will be\n",
    "feeding the adjudicator ordinary predictions of the base learners\n",
    "(rather than out-of-sample predictions). But so far, we have only\n",
    "defined machines to train the base learners on fold complements, not\n",
    "on the full data, which we do now:"
   ],
   "metadata": {}
  },
  {
   "outputs": [],
   "cell_type": "code",
   "source": [
    "m1 = machine(model1, X, y)\n",
    "m2 = machine(model2, X, y)"
   ],
   "metadata": {},
   "execution_count": null
  },
  {
   "cell_type": "markdown",
   "source": [
    "### Define nodes still needed for prediction"
   ],
   "metadata": {}
  },
  {
   "cell_type": "markdown",
   "source": [
    "To obtain the final prediction, `yhat`, we get the base learner\n",
    "predictions, based on training with all data, and feed them to the\n",
    "adjudicator:"
   ],
   "metadata": {}
  },
  {
   "outputs": [],
   "cell_type": "code",
   "source": [
    "y1 = predict(m1, X);\n",
    "y2 = predict(m2, X);\n",
    "X_judge = MLJ.table(hcat(y1, y2))\n",
    "yhat = predict(m_judge, X_judge)"
   ],
   "metadata": {},
   "execution_count": null
  },
  {
   "cell_type": "markdown",
   "source": [
    "Let's check the final prediction node can be fit and called:"
   ],
   "metadata": {}
  },
  {
   "outputs": [],
   "cell_type": "code",
   "source": [
    "fit!(yhat, verbosity=0)\n",
    "\n",
    "figure(figsize=(8,6))\n",
    "step(xsort, ysort, label=\"truth\", where=\"mid\")\n",
    "plot(x, yhat(), ls=\"none\", marker=\"o\", label=\"yhat\")\n",
    "legend()\n",
    "\n"
   ],
   "metadata": {},
   "execution_count": null
  },
  {
   "cell_type": "markdown",
   "source": [
    "\\fig{s4}"
   ],
   "metadata": {}
  },
  {
   "cell_type": "markdown",
   "source": [
    "Although of little statistical significance here, we note that\n",
    "stacking gives a lower *training* error than naive averaging:"
   ],
   "metadata": {}
  },
  {
   "outputs": [],
   "cell_type": "code",
   "source": [
    "e1 = rms(y1(), y())\n",
    "e2 = rms(y2(), y())\n",
    "emean = rms(0.5*y1() + 0.5*y2(), y())\n",
    "estack = rms(yhat(), y())\n",
    "@show e1 e2 emean estack;"
   ],
   "metadata": {},
   "execution_count": null
  },
  {
   "cell_type": "markdown",
   "source": [
    "## Export the learning network as a new model type"
   ],
   "metadata": {}
  },
  {
   "cell_type": "markdown",
   "source": [
    "The learning network (less the data wrapped in the source nodes)\n",
    "amounts to a specification of a new composite model type for\n",
    "two-model stacks, trained with three-fold resampling of base model\n",
    "predictions. Let's create the new type `MyTwoModelStack`, in the\n",
    "same way we exported the network for model averaging:"
   ],
   "metadata": {}
  },
  {
   "outputs": [],
   "cell_type": "code",
   "source": [
    "@from_network machine(Deterministic(), X, y; predict=yhat) begin\n",
    "    mutable struct MyTwoModelStack\n",
    "        regressor1=model1\n",
    "        regressor2=model2\n",
    "        judge=judge\n",
    "    end\n",
    "end\n",
    "\n",
    "my_two_model_stack = MyTwoModelStack()"
   ],
   "metadata": {},
   "execution_count": null
  },
  {
   "cell_type": "markdown",
   "source": [
    "And this completes the definition of our re-usable stacking model type."
   ],
   "metadata": {}
  },
  {
   "cell_type": "markdown",
   "source": [
    "## Applying `MyTwoModelStack` to some data"
   ],
   "metadata": {}
  },
  {
   "cell_type": "markdown",
   "source": [
    "Without undertaking any hyperparameter optimization, we evaluate the\n",
    "performance of a tree boosting algorithm and a support vector\n",
    "machine on a synthetic data set. As adjudicator, we'll use a random\n",
    "forest."
   ],
   "metadata": {}
  },
  {
   "cell_type": "markdown",
   "source": [
    "We use a synthetic set to give an example where stacking is\n",
    "effective but the data is not too large. (As synthetic data is based\n",
    "on perturbations to linear models, we are deliberately avoiding\n",
    "linear models in stacking illustration.)"
   ],
   "metadata": {}
  },
  {
   "outputs": [],
   "cell_type": "code",
   "source": [
    "X, y = make_regression(1000, 20; sparse=0.75, noise=0.1, rng=123);"
   ],
   "metadata": {},
   "execution_count": null
  },
  {
   "cell_type": "markdown",
   "source": [
    "#### Define the stack and compare performance"
   ],
   "metadata": {}
  },
  {
   "outputs": [],
   "cell_type": "code",
   "source": [
    "avg = MyAverageTwo(regressor1=tree_booster,\n",
    "                   regressor2=svm)\n",
    "\n",
    "\n",
    "stack = MyTwoModelStack(regressor1=tree_booster,\n",
    "                        regressor2=svm,\n",
    "                        judge=forest) # judge=linear\n",
    "\n",
    "all_models = [tree_booster, svm, forest, avg, stack];\n",
    "\n",
    "for model in all_models\n",
    "    print_performance(model, X, y)\n",
    "end"
   ],
   "metadata": {},
   "execution_count": null
  },
  {
   "cell_type": "markdown",
   "source": [
    "#### Tuning a stack"
   ],
   "metadata": {}
  },
  {
   "cell_type": "markdown",
   "source": [
    "A standard abuse of good data hygiene is to optimize stack component\n",
    "models *separately* and then tune the adjudicating model\n",
    "hyperparameters (using the same resampling of the data) with the\n",
    "base learners fixed. Although more computationally expensive, better\n",
    "generalization might be expected by applying tuning to the stack as\n",
    "a whole, either simultaneously, or in in cheaper sequential\n",
    "steps. Since our stack is a stand-alone model, this is readily\n",
    "implemented."
   ],
   "metadata": {}
  },
  {
   "cell_type": "markdown",
   "source": [
    "As a proof of concept, let's see how to tune one of the base model\n",
    "hyperparameters, based on performance of the stack as a whole:"
   ],
   "metadata": {}
  },
  {
   "outputs": [],
   "cell_type": "code",
   "source": [
    "r = range(stack, :(regressor2.C), lower = 0.01, upper = 10, scale=:log)\n",
    "tuned_stack = TunedModel(model=stack,\n",
    "                         ranges=r,\n",
    "                         tuning=Grid(shuffle=false),\n",
    "                         measure=rms,\n",
    "                         resampling=Holdout())\n",
    "\n",
    "mach = fit!(machine(tuned_stack,  X, y), verbosity=0)\n",
    "best_stack = fitted_params(mach).best_model\n",
    "best_stack.regressor2.C"
   ],
   "metadata": {},
   "execution_count": null
  },
  {
   "cell_type": "markdown",
   "source": [
    "Let's evaluate the best stack using the same data resampling used to\n",
    "the evaluate the various untuned models earlier (now we are neglecting\n",
    "data hygiene!):"
   ],
   "metadata": {}
  },
  {
   "outputs": [],
   "cell_type": "code",
   "source": [
    "print_performance(best_stack, X, y)\n",
    "\n"
   ],
   "metadata": {},
   "execution_count": null
  },
  {
   "cell_type": "markdown",
   "source": [
    "---\n",
    "\n",
    "*This notebook was generated using [Literate.jl](https://github.com/fredrikekre/Literate.jl).*"
   ],
   "metadata": {}
  }
 ],
 "nbformat_minor": 3,
 "metadata": {
  "language_info": {
   "file_extension": ".jl",
   "mimetype": "application/julia",
   "name": "julia",
   "version": "1.4.1"
  },
  "kernelspec": {
   "name": "julia-1.4",
   "display_name": "Julia 1.4.1",
   "language": "julia"
  }
 },
 "nbformat": 4
}
