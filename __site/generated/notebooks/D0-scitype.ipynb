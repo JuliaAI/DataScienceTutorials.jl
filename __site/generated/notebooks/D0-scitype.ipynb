{
 "cells": [
  {
   "outputs": [],
   "cell_type": "markdown",
   "source": [
    "Before running this, please make sure to activate and instantiate the environment\n",
    "corresponding to [this `Project.toml`](https://raw.githubusercontent.com/alan-turing-institute/MLJTutorials/master/Project.toml) and [this `Manifest.toml`](https://raw.githubusercontent.com/alan-turing-institute/MLJTutorials/master/Manifest.toml)\n",
    "so that you get an environment which matches the one used to generate the tutorials:\n",
    "\n",
    "```julia\n",
    "cd(\"MLJTutorials\") # cd to folder with the *.toml\n",
    "using Pkg; Pkg.activate(\".\"); Pkg.instantiate()\n",
    "```"
   ],
   "metadata": {}
  },
  {
   "outputs": [],
   "cell_type": "markdown",
   "source": [
    "## Machine type vs Scientific Type\n",
    "\n",
    "### Why make a distinction?\n",
    "\n",
    "When analysing data, it is important to distinguish between\n",
    "\n",
    "* *how the data is encoded* (e.g. `Int`), and\n",
    "* *how the data should be interpreted* (e.g. a class label, a count, ...)\n",
    "\n",
    "How the data is encoded will be referred to  as the **machine type** whereas how the data should be interpreted  will  be referred to   as the **scientific type** (or `scitype`).\n",
    "\n",
    "In some cases, this may be un-ambiguous, for instance if you have a vector of floating point values, this should usually be interpreted as a continuous feature (e.g.: weights, speeds, temperatures, ...).\n",
    "\n",
    "In many other cases however, there may be ambiguities, we list a few examples below:\n",
    "\n",
    "* A vector  of `Int` e.g. `[1, 2, ...]` which should be interpreted as categorical labels,\n",
    "* A vector of `Int` e.g. `[1, 2,  ...]` which should be interpreted as count data,\n",
    "* A vector of `String` e.g. `[\"High\", \"Low\", \"High\", ...]` which should  be  interpreted as ordered categorical labels,\n",
    "* A vector of `String` e.g. `[\"John\", \"Maria\", ...]` which should not interpreted as informative data,\n",
    "* A vector of floating points `[1.5,  1.5, -2.3, -2.3]` which should be interpreted as categorical data (e.g. the few possible values of some setting), etc.\n",
    "\n",
    "### The Scientific Types\n",
    "\n",
    "The package [ScientificTypes.jl](https://github.com/alan-turing-institute/ScientificTypes.jl) defines a barebone type hierarchy which can be used to indicate how a particular feature should be interpreted; in particular:\n",
    "\n",
    "```plaintext\n",
    "Found\n",
    "├─ Known\n",
    "│  ├─ Textual\n",
    "│  ├─ Finite\n",
    "│  │  ├─ Multiclass\n",
    "│  │  └─ OrderedFactor\n",
    "│  └─ Infinite\n",
    "│     ├─ Continuous\n",
    "│     └─ Count\n",
    "└─ Unknown\n",
    "```\n",
    "\n",
    "A *scientific type convention* is a specific implementation indicating how machine types can be related to scientific types. It may also provide helper functions to convert data to a given scitype.\n",
    "\n",
    "The convention used in MLJ is implemented in [MLJScientificTypes.jl](https://github.com/alan-turing-institute/ScientificTypes.jl).\n",
    "This is what we will use throughout; you never need to use ScientificTypes.jl\n",
    "unless you intend to implement your own scientific type convention.\n",
    "\n",
    "### Inspecting the scitype\n",
    "\n",
    "The `schema` function"
   ],
   "metadata": {}
  },
  {
   "outputs": [],
   "cell_type": "code",
   "source": [
    "using RDatasets, MLJScientificTypes\n",
    "boston = dataset(\"MASS\", \"Boston\")\n",
    "sch = schema(boston)"
   ],
   "metadata": {},
   "execution_count": null
  },
  {
   "outputs": [],
   "cell_type": "markdown",
   "source": [
    "In this cases, most of the variables have a (machine) type `Float64` and\n",
    "their default  interpretation is `Continuous`.\n",
    "There is also `:Chas`, `:Rad` and `:Tax` that have a (machine) type  `Int64`\n",
    "and their default interpretation is `Count`.\n",
    "\n",
    "While the interpretation as `Continuous` is usually fine, the interpretation\n",
    "as `Count` needs a bit more attention.\n",
    "For instance note that:"
   ],
   "metadata": {}
  },
  {
   "outputs": [],
   "cell_type": "code",
   "source": [
    "unique(boston.Chas)"
   ],
   "metadata": {},
   "execution_count": null
  },
  {
   "outputs": [],
   "cell_type": "markdown",
   "source": [
    "so even  though it's got a machine type of `Int64` and consequently a\n",
    "default  interpretation of `Count`, it would be more appropriate to interpret\n",
    "it as an `OrderedFactor`.\n",
    "\n",
    "### Changing the scitype\n",
    "\n",
    "In order to re-specify the scitype(s) of  feature(s) in a dataset, you can\n",
    "use the `coerce` function and  specify pairs of variable name and  scientific\n",
    "type:"
   ],
   "metadata": {}
  },
  {
   "outputs": [],
   "cell_type": "code",
   "source": [
    "boston2 = coerce(boston, :Chas => OrderedFactor);"
   ],
   "metadata": {},
   "execution_count": null
  },
  {
   "outputs": [],
   "cell_type": "markdown",
   "source": [
    "the effect of this is to convert the `:Chas` column to an ordered categorical\n",
    "vector:"
   ],
   "metadata": {}
  },
  {
   "outputs": [],
   "cell_type": "code",
   "source": [
    "eltype(boston2.Chas)"
   ],
   "metadata": {},
   "execution_count": null
  },
  {
   "outputs": [],
   "cell_type": "markdown",
   "source": [
    "corresponding to the `OrderedFactor` scitype:"
   ],
   "metadata": {}
  },
  {
   "outputs": [],
   "cell_type": "code",
   "source": [
    "elscitype(boston2.Chas)"
   ],
   "metadata": {},
   "execution_count": null
  },
  {
   "outputs": [],
   "cell_type": "markdown",
   "source": [
    "You can also specify multiple pairs in one shot with `coerce`:"
   ],
   "metadata": {}
  },
  {
   "outputs": [],
   "cell_type": "code",
   "source": [
    "boston3 = coerce(boston, :Chas => OrderedFactor, :Rad => OrderedFactor);"
   ],
   "metadata": {},
   "execution_count": null
  },
  {
   "outputs": [],
   "cell_type": "markdown",
   "source": [
    "### String and Unknown\n",
    "\n",
    "If a feature in  your dataset has String elements, then the  default scitype\n",
    "is `Textual`; you can either choose to  drop  such columns or to coerce them\n",
    "to categorical:"
   ],
   "metadata": {}
  },
  {
   "outputs": [],
   "cell_type": "code",
   "source": [
    "feature = [\"AA\", \"BB\", \"AA\", \"AA\", \"BB\"]\n",
    "elscitype(feature)"
   ],
   "metadata": {},
   "execution_count": null
  },
  {
   "outputs": [],
   "cell_type": "markdown",
   "source": [
    "which you can coerce:"
   ],
   "metadata": {}
  },
  {
   "outputs": [],
   "cell_type": "code",
   "source": [
    "feature2 = coerce(feature, Multiclass)\n",
    "elscitype(feature2)"
   ],
   "metadata": {},
   "execution_count": null
  },
  {
   "outputs": [],
   "cell_type": "markdown",
   "source": [
    "## Tips and tricks\n",
    "\n",
    "### Type to Type coercion\n",
    "\n",
    "In  some cases you will want to reinterpret all features currently\n",
    "interpreted as some scitype `S1` into some other scitype `S2`.\n",
    "An example  is if some features are currently interpreted as `Count` because\n",
    "their original type was `Int` but you  want  to  consider all such as\n",
    "`Continuous`:"
   ],
   "metadata": {}
  },
  {
   "outputs": [],
   "cell_type": "code",
   "source": [
    "data = select(boston, [:Rad, :Tax])\n",
    "schema(data)"
   ],
   "metadata": {},
   "execution_count": null
  },
  {
   "outputs": [],
   "cell_type": "markdown",
   "source": [
    "let's coerce from `Count` to `Continuous`:"
   ],
   "metadata": {}
  },
  {
   "outputs": [],
   "cell_type": "code",
   "source": [
    "data2 = coerce(data, Count => Continuous)\n",
    "schema(data2)"
   ],
   "metadata": {},
   "execution_count": null
  },
  {
   "outputs": [],
   "cell_type": "markdown",
   "source": [
    "### Autotype\n",
    "\n",
    "A last useful tool is `autotype` which allows you to specify *rules* to\n",
    "define the interpretation of features automatically.\n",
    "You can code your own rules but there are three useful ones that are pre-\n",
    "coded:\n",
    "\n",
    "* the `:few_to_finite` rule which checks how many unique entries are present\n",
    "in a vector and if there are \"few\" suggests a categorical type,\n",
    "* the `:discrete_to_continuous` rule converts `Integer` or `Count` to\n",
    "`Continuous`\n",
    "* the `:string_to_multiclass` which returns `Multiclass` for any string-like\n",
    "column.\n",
    "\n",
    "For instance:"
   ],
   "metadata": {}
  },
  {
   "outputs": [],
   "cell_type": "code",
   "source": [
    "boston3 = coerce(boston, autotype(boston, :few_to_finite))\n",
    "schema(boston3)"
   ],
   "metadata": {},
   "execution_count": null
  },
  {
   "outputs": [],
   "cell_type": "markdown",
   "source": [
    "You can also specify multiple rules, see [the docs](https://alan-turing-institute.github.io/MLJScientificTypes.jl/stable/#Automatic-type-conversion-for-tabular-data-1) for more information."
   ],
   "metadata": {}
  },
  {
   "outputs": [],
   "cell_type": "markdown",
   "source": [
    "---\n",
    "\n",
    "*This notebook was generated using [Literate.jl](https://github.com/fredrikekre/Literate.jl).*"
   ],
   "metadata": {}
  }
 ],
 "nbformat_minor": 3,
 "metadata": {
  "language_info": {
   "file_extension": ".jl",
   "mimetype": "application/julia",
   "name": "julia",
   "version": "1.5.0-DEV.350"
  },
  "kernelspec": {
   "name": "julia-1.5",
   "display_name": "Julia 1.5.0-DEV.350",
   "language": "julia"
  }
 },
 "nbformat": 4
}
