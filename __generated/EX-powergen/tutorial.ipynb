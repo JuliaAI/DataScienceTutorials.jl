{
 "cells": [
  {
   "cell_type": "markdown",
   "source": [
    "Before running this, please make sure to activate and instantiate the\n",
    "tutorial-specific package environment, using this\n",
    "[`Project.toml`](https://raw.githubusercontent.com/juliaai/DataScienceTutorials.jl/gh-pages/__generated/EX-powergen/Project.toml) and\n",
    "[this `Manifest.toml`](https://raw.githubusercontent.com/juliaai/DataScienceTutorials.jl/gh-pages/__generated/EX-powergen/Manifest.toml), or by following\n",
    "[these](https://juliaai.github.io/DataScienceTutorials.jl/#learning_by_doing) detailed instructions."
   ],
   "metadata": {}
  },
  {
   "cell_type": "markdown",
   "source": [
    "**Main author**: [Geoffroy Dolphin](https://github.com/gd1989)"
   ],
   "metadata": {}
  },
  {
   "cell_type": "markdown",
   "source": [
    "@@dropdown\n",
    "## Initial data processing\n",
    "@@\n",
    "@@dropdown-content\n",
    "In this tutorial we are fitting solar and wind power generation output for Germany using weather data.\n",
    "We focus on the use of a simple linear estimator. Let's load the required packages to get started."
   ],
   "metadata": {}
  },
  {
   "outputs": [],
   "cell_type": "code",
   "source": [
    "using MLJ\n",
    "using UrlDownload\n",
    "import DataFrames: DataFrame, describe, names, select!\n",
    "using Statistics\n",
    "\n",
    "LinearRegressor = @load LinearRegressor pkg = MLJLinearModels"
   ],
   "metadata": {},
   "execution_count": null
  },
  {
   "cell_type": "markdown",
   "source": [
    "The power generation and weather data come from two separate datasets.\n",
    "We downloaded both datasets from [Open Power networks](https://open-power-system-data.org/).\n",
    "The power generation data is available [here](https://data.open-power-system-data.org/time_series/) and the weather data is available [here](https://data.open-power-system-data.org/weather_data/).\n",
    "Note that the first row in both datasets contains headers; hence we don't need to provide any."
   ],
   "metadata": {}
  },
  {
   "outputs": [],
   "cell_type": "code",
   "source": [
    "data_repo = \"https://raw.githubusercontent.com/tlienart/DataScienceTutorialsData.jl/master/data\"\n",
    "\n",
    "url_power   = data_repo * \"/power_syst/DE_power_hourly.csv\"\n",
    "url_weather = data_repo * \"/power_syst/DE_weather_data.csv\"\n",
    "\n",
    "power = DataFrame(urldownload(url_power))\n",
    "weather = DataFrame(urldownload(url_weather));"
   ],
   "metadata": {},
   "execution_count": null
  },
  {
   "cell_type": "markdown",
   "source": [
    "We've loaded both datasets but only have a rough idea of what's in each of them.\n",
    "Let's get a quick overview of the power dataset:"
   ],
   "metadata": {}
  },
  {
   "outputs": [],
   "cell_type": "code",
   "source": [
    "describe(power, :mean, :nmissing)"
   ],
   "metadata": {},
   "execution_count": null
  },
  {
   "cell_type": "markdown",
   "source": [
    "and the weather dataset (we only show the first 20 rows as there's 150 features):"
   ],
   "metadata": {}
  },
  {
   "outputs": [],
   "cell_type": "code",
   "source": [
    "first(describe(weather, :mean, :nmissing), 20)"
   ],
   "metadata": {},
   "execution_count": null
  },
  {
   "cell_type": "markdown",
   "source": [
    "Let's first consider the columns of the power DataFrame.\n",
    "For the purpose of this tutorial we are only interested in actual wind and solar generation.\n",
    "So we select a subset of the power dataframe containing only `:utc_timestamp, :DE_solar_generation_actual` and `:DE_wind_generation_actual`:"
   ],
   "metadata": {}
  },
  {
   "outputs": [],
   "cell_type": "code",
   "source": [
    "select!(power, [\n",
    "\t:utc_timestamp,\n",
    "\t:DE_solar_generation_actual,\n",
    "\t:DE_wind_generation_actual]);"
   ],
   "metadata": {},
   "execution_count": null
  },
  {
   "cell_type": "markdown",
   "source": [
    "Inspection of the column names in the weather DataFrame shows that we have weather data at the regional level (38 NUTS-2 statistical regions), which consists of four different weather variables: `_windspeed_10m, _temperature, _radiation_direct_horizontal, _radiation_diffuse_horizontal`.\n",
    "To match the structure of the power data, we need to aggregate at the country level.\n",
    "We do this by calculating the country-level average across all 38 regions, for each weather variable.\n",
    "This means we need to calculate an average across columns of the DataFrame that refer to the same weather variable.\n",
    "To do this we define a simple function to filter columns based on weather variable name and create new dataframes."
   ],
   "metadata": {}
  },
  {
   "outputs": [],
   "cell_type": "code",
   "source": [
    "colnames = names(weather)\n",
    "\n",
    "filter_by_name(name, cols) =\n",
    "\tfilter(cn -> occursin(name, String(cn)), cols)\n",
    "\n",
    "wind   = weather[:, filter_by_name(\"windspeed\", colnames)]\n",
    "temp   = weather[:, filter_by_name(\"temperature\", colnames)]\n",
    "raddir = weather[:, filter_by_name(\"radiation_direct\", colnames)]\n",
    "raddif = weather[:, filter_by_name(\"radiation_diffuse\", colnames)];"
   ],
   "metadata": {},
   "execution_count": null
  },
  {
   "cell_type": "markdown",
   "source": [
    "Next, we create a new column in each DataFrame to store the country-level mean and calculate the mean.\n",
    "We use a nested loop.\n",
    "The lower level loop iterates over all rows of a given DataFrame, the higher-level loop iterates over all dataframes in the df Array."
   ],
   "metadata": {}
  },
  {
   "outputs": [],
   "cell_type": "code",
   "source": [
    "dfs = [wind, temp, raddir, raddif]\n",
    "col_mean = [:windspeed_mean, :temp_mean, :raddir_mean, :raddif_mean];"
   ],
   "metadata": {},
   "execution_count": null
  },
  {
   "cell_type": "markdown",
   "source": [
    "the zip function associates elements of two objects in the same position with one another:"
   ],
   "metadata": {}
  },
  {
   "outputs": [],
   "cell_type": "code",
   "source": [
    "n_rows = size(first(dfs), 1)\n",
    "for (df, name) in zip(dfs, col_mean)\n",
    "\tdf[!, name] = zeros(n_rows)\n",
    "\tfor (i, row) in enumerate(eachrow(df))\n",
    "\t\tdf[i, name] = mean(row)\n",
    "\tend\n",
    "end;"
   ],
   "metadata": {},
   "execution_count": null
  },
  {
   "cell_type": "markdown",
   "source": [
    "Now that we have all variables we need to conduct our analysis, let's gather them in a single DataFrame..."
   ],
   "metadata": {}
  },
  {
   "outputs": [],
   "cell_type": "code",
   "source": [
    "data = DataFrame(\n",
    "\tTimestamp     = weather.utc_timestamp,\n",
    "\tSolar_gen     = power.DE_solar_generation_actual,\n",
    "\tWind_gen      = power.DE_wind_generation_actual,\n",
    "\tWindspeed     = wind.windspeed_mean,\n",
    "\tTemperature   = temp.temp_mean,\n",
    "\tRadiation_dir = raddir.raddir_mean,\n",
    "\tRadiation_dif = raddif.raddif_mean);"
   ],
   "metadata": {},
   "execution_count": null
  },
  {
   "cell_type": "markdown",
   "source": [
    "...and have a look at their summary statistics"
   ],
   "metadata": {}
  },
  {
   "outputs": [],
   "cell_type": "code",
   "source": [
    "describe(data, :mean, :median, :nmissing)"
   ],
   "metadata": {},
   "execution_count": null
  },
  {
   "cell_type": "markdown",
   "source": [
    "Note that the `describe()` function provides you with information about missing values for each of the columns.\n",
    "Fortunately, there are none."
   ],
   "metadata": {}
  },
  {
   "cell_type": "markdown",
   "source": [
    "@@dropdown\n",
    "### Adjusting the scientific types\n",
    "@@\n",
    "@@dropdown-content\n",
    "\n",
    "Let's check the default scientific type that's currently associated with the data features:"
   ],
   "metadata": {}
  },
  {
   "outputs": [],
   "cell_type": "code",
   "source": [
    "schema(data)"
   ],
   "metadata": {},
   "execution_count": null
  },
  {
   "cell_type": "markdown",
   "source": [
    "It is important that the scientific type of the variables corresponds to one of the types allowed for use with the models you are planning to use.\n",
    "(For more guidance on this, see the [Scientific Type](https://alan-turing-institute.github.io/DataScienceTutorials.jl/data/scitype/) tutorial.\n",
    "The scientific type of both `Wind_gen` and `Solar_gen` is currently `Count`. Let's coerce them to `Continuous`."
   ],
   "metadata": {}
  },
  {
   "outputs": [],
   "cell_type": "code",
   "source": [
    "coerce!(data, :Wind_gen => Continuous)\n",
    "coerce!(data, :Solar_gen => Continuous)\n",
    "\n",
    "schema(data)"
   ],
   "metadata": {},
   "execution_count": null
  },
  {
   "cell_type": "markdown",
   "source": [
    "We're now ready to go!"
   ],
   "metadata": {}
  },
  {
   "cell_type": "markdown",
   "source": [
    "‎\n",
    "@@"
   ],
   "metadata": {}
  },
  {
   "cell_type": "markdown",
   "source": [
    "‎\n",
    "@@\n",
    "@@dropdown\n",
    "## Exploratory Data Analysis\n",
    "@@\n",
    "@@dropdown-content"
   ],
   "metadata": {}
  },
  {
   "cell_type": "markdown",
   "source": [
    "To get a better understanding of our targets, let's plot their respective distributions."
   ],
   "metadata": {}
  },
  {
   "outputs": [],
   "cell_type": "code",
   "source": [
    "using Plots\n",
    "\n",
    "histogram(\n",
    "\tdata.Solar_gen,\n",
    "\tcolor = \"blue\",\n",
    "\tbins = 100,\n",
    "\tnormalize = :pdf,\n",
    "\talpha = 0.5,\n",
    "\tyticks = [0, 1e-3, 2e-3],\n",
    ")\n",
    "xlabel!(\"Solar power generation (MWh)\")\n",
    "ylabel!(\"Frequency\")"
   ],
   "metadata": {},
   "execution_count": null
  },
  {
   "cell_type": "markdown",
   "source": [
    "\\figalt{Histogram of the solar power generated}{hist_solar.svg}"
   ],
   "metadata": {}
  },
  {
   "cell_type": "markdown",
   "source": [
    "As one might expect, the sun doesn't always shine (and certainly not at night), hence there is a very high proportion of observations whose value is equal or close to 0.\n",
    "The distribution of wind power generation looks markedly different"
   ],
   "metadata": {}
  },
  {
   "outputs": [],
   "cell_type": "code",
   "source": [
    "histogram(data.Wind_gen, color = \"blue\", bins = 50, normalize = :pdf, alpha = 0.5)\n",
    "xlabel!(\"Wind power generation (MWh)\")\n",
    "ylabel!(\"Frequency\")"
   ],
   "metadata": {},
   "execution_count": null
  },
  {
   "cell_type": "markdown",
   "source": [
    "\\figalt{Histogram of the wind power generated}{hist_wind.svg}"
   ],
   "metadata": {}
  },
  {
   "cell_type": "markdown",
   "source": [
    "Finally, before fitting the estimator, we might want to gauge what to expect from them by looking at scatter plots.\n",
    "Let's look at solar power first."
   ],
   "metadata": {}
  },
  {
   "outputs": [],
   "cell_type": "code",
   "source": [
    "p1 = scatter(\n",
    "\tdata.Solar_gen,\n",
    "\tdata.Radiation_dir,\n",
    "\tsize = (150, 150),\n",
    "\tlegend = false,\n",
    "\txlabel = \"Solar power (kW)\",\n",
    "\tylabel = \"Solar radiation - directional\",\n",
    ")\n",
    "\n",
    "p2 = scatter(\n",
    "\tdata.Solar_gen,\n",
    "\tdata.Radiation_dif,\n",
    "\tsize = (150, 150),\n",
    "\tlegend = false,\n",
    "\txlabel = \"Solar power (kW)\",\n",
    "\tylabel = \"Solar radiation - diffuse\",\n",
    ")\n",
    "\n",
    "p3 = scatter(\n",
    "\tdata.Solar_gen,\n",
    "\tdata.Windspeed,\n",
    "\tsize = (150, 150),\n",
    "\tlegend = false,\n",
    "\txlabel = \"Solar power (kW)\",\n",
    "\tylabel = \"Wind speed (m/s)\",\n",
    ")\n",
    "\n",
    "p4 = scatter(\n",
    "\tdata.Solar_gen,\n",
    "\tdata.Temperature,\n",
    "\tsize = (150, 150),\n",
    "\tlegend = false,\n",
    "\txlabel = \"Solar power (kW)\",\n",
    "\tylabel = \"Temperature (C)\",\n",
    ")\n",
    "\n",
    "plot!(p1, p2, p3, p4, layout = (2, 2), size = (1000, 1000))"
   ],
   "metadata": {},
   "execution_count": null
  },
  {
   "cell_type": "markdown",
   "source": [
    "@@img-wide \\figalt{Solar power scatter plots}{solar_scatter.png} @@"
   ],
   "metadata": {}
  },
  {
   "cell_type": "markdown",
   "source": [
    "Then at wind generation"
   ],
   "metadata": {}
  },
  {
   "outputs": [],
   "cell_type": "code",
   "source": [
    "p1 = scatter(\n",
    "\tdata.Wind_gen,\n",
    "\tdata.Radiation_dir,\n",
    "\tsize = (150, 150),\n",
    "\tlegend = false,\n",
    "\txlabel = \"Solar power (kW)\",\n",
    "\tylabel = \"Solar radiation - directional\",\n",
    ")\n",
    "\n",
    "p2 = scatter(\n",
    "\tdata.Wind_gen,\n",
    "\tdata.Radiation_dif,\n",
    "\tsize = (150, 150),\n",
    "\tlegend = false,\n",
    "\txlabel = \"Solar power (kW)\",\n",
    "\tylabel = \"Solar radiation - diffuse\",\n",
    ")\n",
    "\n",
    "p3 = scatter(\n",
    "\tdata.Wind_gen,\n",
    "\tdata.Windspeed,\n",
    "\tsize = (150, 150),\n",
    "\tlegend = false,\n",
    "\txlabel = \"Solar power (kW)\",\n",
    "\tylabel = \"Wind speed (m/s)\",\n",
    ")\n",
    "\n",
    "p4 = scatter(\n",
    "\tdata.Wind_gen,\n",
    "\tdata.Temperature,\n",
    "\tsize = (150, 150),\n",
    "\tlegend = false,\n",
    "\txlabel = \"Solar power (kW)\",\n",
    "\tylabel = \"Temperature (C)\",\n",
    ")\n",
    "\n",
    "plot!(p1, p2, p3, p4, layout = (2, 2), size = (1000, 1000))"
   ],
   "metadata": {},
   "execution_count": null
  },
  {
   "cell_type": "markdown",
   "source": [
    "@@img-wide \\figalt{Wind power scatter plots}{wind_scatter.png} @@"
   ],
   "metadata": {}
  },
  {
   "cell_type": "markdown",
   "source": [
    "As expected, solar power generation shows a strong relationship to solar irradiance while wind power generation denotes a strong relationship to wind speed."
   ],
   "metadata": {}
  },
  {
   "cell_type": "markdown",
   "source": [
    "‎\n",
    "@@\n",
    "@@dropdown\n",
    "## Models\n",
    "@@\n",
    "@@dropdown-content\n",
    "\n",
    "Let's fit a linear regression to our data.\n",
    "We focus on fitting the wind power generation but the same procedure could be applied for the solar power generation (a good exercise!)."
   ],
   "metadata": {}
  },
  {
   "outputs": [],
   "cell_type": "code",
   "source": [
    "y_wind = data.Wind_gen\n",
    "X = data[:, [:Windspeed, :Temperature, :Radiation_dir, :Radiation_dif]];"
   ],
   "metadata": {},
   "execution_count": null
  },
  {
   "cell_type": "markdown",
   "source": [
    "Next, we partition the data in training and test set; we choose the usual 70-30 split:"
   ],
   "metadata": {}
  },
  {
   "outputs": [],
   "cell_type": "code",
   "source": [
    "train, test = partition(collect(eachindex(y_wind)), 0.7, shuffle = true, rng = 5);"
   ],
   "metadata": {},
   "execution_count": null
  },
  {
   "cell_type": "markdown",
   "source": [
    "then we instantiate a model and fit it:"
   ],
   "metadata": {}
  },
  {
   "outputs": [],
   "cell_type": "code",
   "source": [
    "linReg = LinearRegressor()\n",
    "m_linReg = machine(linReg, X, y_wind)\n",
    "fit!(m_linReg, rows = train);"
   ],
   "metadata": {},
   "execution_count": null
  },
  {
   "cell_type": "markdown",
   "source": [
    "@@dropdown\n",
    "### Model evaluation\n",
    "@@\n",
    "@@dropdown-content\n",
    "\n",
    "We've now fitted the model for wind power generation (`Wind_gen`).\n",
    "Let's use it to predict values over the test set and investigate the performance:"
   ],
   "metadata": {}
  },
  {
   "outputs": [],
   "cell_type": "code",
   "source": [
    "y_hat = MLJ.predict(m_linReg, rows = test);"
   ],
   "metadata": {},
   "execution_count": null
  },
  {
   "cell_type": "markdown",
   "source": [
    "We can start by visualising the observed and predicted valzes of wind power generation."
   ],
   "metadata": {}
  },
  {
   "outputs": [],
   "cell_type": "code",
   "source": [
    "plot(y_hat, color = \"blue\", label = \"Predicted\", xlim = (0, 100), xticks = [])\n",
    "plot!(y_wind[test], color = \"red\", label = \"Observed\")\n",
    "xlabel!(\"Time\")\n",
    "ylabel!(\"Power generation\")"
   ],
   "metadata": {},
   "execution_count": null
  },
  {
   "cell_type": "markdown",
   "source": [
    "\\figalt{Observed vs Predicted}{obs_v_pred.svg}"
   ],
   "metadata": {}
  },
  {
   "cell_type": "markdown",
   "source": [
    "Let's look at the RMSE on the training and test sets."
   ],
   "metadata": {}
  },
  {
   "outputs": [],
   "cell_type": "code",
   "source": [
    "rms(y_wind[train], MLJ.predict(m_linReg, rows = train))"
   ],
   "metadata": {},
   "execution_count": null
  },
  {
   "cell_type": "markdown",
   "source": [
    "on the test set..."
   ],
   "metadata": {}
  },
  {
   "outputs": [],
   "cell_type": "code",
   "source": [
    "rms(y_wind[test], y_hat)"
   ],
   "metadata": {},
   "execution_count": null
  },
  {
   "cell_type": "markdown",
   "source": [
    "Finally, let's plot the residuals to see if there is any obvious remaining structure in them."
   ],
   "metadata": {}
  },
  {
   "outputs": [],
   "cell_type": "code",
   "source": [
    "res = y_hat .- y_wind[test];"
   ],
   "metadata": {},
   "execution_count": null
  },
  {
   "cell_type": "markdown",
   "source": [
    "Let's look at the stem plot of the residuals to check if there's any structure we might not have picked up:"
   ],
   "metadata": {}
  },
  {
   "outputs": [],
   "cell_type": "code",
   "source": [
    "plot(res, line = :stem, marker = :circle, xlim = (0, length(res)))\n",
    "hline!([0], color = \"red\", linewidth = 3)"
   ],
   "metadata": {},
   "execution_count": null
  },
  {
   "cell_type": "markdown",
   "source": [
    "\\figalt{Residuals}{residuals.png} @@"
   ],
   "metadata": {}
  },
  {
   "cell_type": "markdown",
   "source": [
    "Nothing really stands out, the distribution also looks ok:"
   ],
   "metadata": {}
  },
  {
   "outputs": [],
   "cell_type": "code",
   "source": [
    "histogram(res, color = \"blue\", bins = 50, normalize = :pdf, alpha = 0.5, legend = false)"
   ],
   "metadata": {},
   "execution_count": null
  },
  {
   "cell_type": "markdown",
   "source": [
    "\\figalt{Histogram of the residuals}{hist_residuals.svg}"
   ],
   "metadata": {}
  },
  {
   "cell_type": "markdown",
   "source": [
    "We leave it at that for now, I hope you found this tutorial interesting."
   ],
   "metadata": {}
  },
  {
   "cell_type": "markdown",
   "source": [
    "‎\n",
    "@@"
   ],
   "metadata": {}
  },
  {
   "cell_type": "markdown",
   "source": [
    "‎\n",
    "@@"
   ],
   "metadata": {}
  },
  {
   "cell_type": "markdown",
   "source": [
    "---\n",
    "\n",
    "*This notebook was generated using [Literate.jl](https://github.com/fredrikekre/Literate.jl).*"
   ],
   "metadata": {}
  }
 ],
 "nbformat_minor": 3,
 "metadata": {
  "language_info": {
   "file_extension": ".jl",
   "mimetype": "application/julia",
   "name": "julia",
   "version": "1.10.1"
  },
  "kernelspec": {
   "name": "julia-1.10",
   "display_name": "Julia 1.10.1",
   "language": "julia"
  }
 },
 "nbformat": 4
}
