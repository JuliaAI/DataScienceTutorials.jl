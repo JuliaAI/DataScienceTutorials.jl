{
 "cells": [
  {
   "cell_type": "markdown",
   "source": [
    "Before running this, please make sure to activate and instantiate the\n",
    "tutorial-specific package environment, using this\n",
    "[`Project.toml`](https://raw.githubusercontent.com/juliaai/DataScienceTutorials.jl/gh-pages/__generated/A-composing-models/Project.toml) and\n",
    "[this `Manifest.toml`](https://raw.githubusercontent.com/juliaai/DataScienceTutorials.jl/gh-pages/__generated/A-composing-models/Manifest.toml), or by following\n",
    "[these](https://juliaai.github.io/DataScienceTutorials.jl/#learning_by_doing) detailed instructions."
   ],
   "metadata": {}
  },
  {
   "cell_type": "markdown",
   "source": [
    "## Generating dummy data\n",
    "Let's start by generating some dummy data with both numerical values and categorical values:"
   ],
   "metadata": {}
  },
  {
   "outputs": [],
   "cell_type": "code",
   "source": [
    "using MLJ\n",
    "using PrettyPrinting\n",
    "\n",
    "KNNRegressor = @load KNNRegressor"
   ],
   "metadata": {},
   "execution_count": null
  },
  {
   "cell_type": "markdown",
   "source": [
    "input"
   ],
   "metadata": {}
  },
  {
   "outputs": [],
   "cell_type": "code",
   "source": [
    "X = (age    = [23, 45, 34, 25, 67],\n",
    "     gender = categorical(['m', 'm', 'f', 'm', 'f']))"
   ],
   "metadata": {},
   "execution_count": null
  },
  {
   "cell_type": "markdown",
   "source": [
    "target"
   ],
   "metadata": {}
  },
  {
   "outputs": [],
   "cell_type": "code",
   "source": [
    "height = [178, 194, 165, 173, 168];"
   ],
   "metadata": {},
   "execution_count": null
  },
  {
   "cell_type": "markdown",
   "source": [
    "Note that the scientific type of `age` is `Count` here:"
   ],
   "metadata": {}
  },
  {
   "outputs": [],
   "cell_type": "code",
   "source": [
    "scitype(X.age)"
   ],
   "metadata": {},
   "execution_count": null
  },
  {
   "cell_type": "markdown",
   "source": [
    "We will want to coerce that to `Continuous` so that it can be given to a regressor that expects such values."
   ],
   "metadata": {}
  },
  {
   "cell_type": "markdown",
   "source": [
    "## Declaring a pipeline"
   ],
   "metadata": {}
  },
  {
   "cell_type": "markdown",
   "source": [
    "A typical workflow for such data is to one-hot-encode the categorical data and then apply some regression model on the data.\n",
    "Let's say that we want to apply the following steps:\n",
    "1. One hot encode the categorical features in `X`\n",
    "1. Standardize the target variable (`:height`)\n",
    "1. Train a KNN regression model on the one hot encoded data and the Standardized target."
   ],
   "metadata": {}
  },
  {
   "cell_type": "markdown",
   "source": [
    "The `Pipeline` constructor helps you define such a simple (non-branching) pipeline of steps to be applied in order:"
   ],
   "metadata": {}
  },
  {
   "outputs": [],
   "cell_type": "code",
   "source": [
    "pipe = Pipeline(\n",
    "    coercer = X -> coerce(X, :age=>Continuous),\n",
    "    one_hot_encoder = OneHotEncoder(),\n",
    "    transformed_target_model = TransformedTargetModel(\n",
    "        model = KNNRegressor(K=3);\n",
    "        target=UnivariateStandardizer()\n",
    "    )\n",
    ")"
   ],
   "metadata": {},
   "execution_count": null
  },
  {
   "cell_type": "markdown",
   "source": [
    "Note the coercion of the `:age` variable to Continuous since `KNNRegressor` expects `Continuous` input.\n",
    "Note also the `TransformedTargetModel` which allows one to learn a transformation (in this case Standardization) of the\n",
    "target variable to be passed to the `KNNRegressor`."
   ],
   "metadata": {}
  },
  {
   "cell_type": "markdown",
   "source": [
    "Hyperparameters of this pipeline can be accessed (and set) using dot syntax:"
   ],
   "metadata": {}
  },
  {
   "outputs": [],
   "cell_type": "code",
   "source": [
    "pipe.transformed_target_model.model.K = 2\n",
    "pipe.one_hot_encoder.drop_last = true;"
   ],
   "metadata": {},
   "execution_count": null
  },
  {
   "cell_type": "markdown",
   "source": [
    "Evaluation for a pipe can be done with the `evaluate!` method; implicitly it will construct machines that will contain the fitted parameters etc:"
   ],
   "metadata": {}
  },
  {
   "outputs": [],
   "cell_type": "code",
   "source": [
    "evaluate(\n",
    "    pipe,\n",
    "    X,\n",
    "    height,\n",
    "    resampling=Holdout(),\n",
    "    measure=rms\n",
    ") |> pprint"
   ],
   "metadata": {},
   "execution_count": null
  },
  {
   "cell_type": "markdown",
   "source": [
    "---\n",
    "\n",
    "*This notebook was generated using [Literate.jl](https://github.com/fredrikekre/Literate.jl).*"
   ],
   "metadata": {}
  }
 ],
 "nbformat_minor": 3,
 "metadata": {
  "language_info": {
   "file_extension": ".jl",
   "mimetype": "application/julia",
   "name": "julia",
   "version": "1.7.3"
  },
  "kernelspec": {
   "name": "julia-1.7",
   "display_name": "Julia 1.7.3",
   "language": "julia"
  }
 },
 "nbformat": 4
}
