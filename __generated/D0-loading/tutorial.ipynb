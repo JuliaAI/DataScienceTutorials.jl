{
 "cells": [
  {
   "cell_type": "markdown",
   "source": [
    "Before running this, please make sure to activate and instantiate the\n",
    "environment with [this `Project.toml`](https://raw.githubusercontent.com/juliaai/DataScienceTutorials.jl/gh-pages/__generated/D0-loading/Project.toml) and\n",
    "[this `Manifest.toml`](https://raw.githubusercontent.com/juliaai/DataScienceTutorials.jl/gh-pages/__generated/D0-loading/Manifest.toml).\n",
    "For instance, copy these files to a folder 'D0-loading', `cd` to it and\n",
    "\n",
    "```julia\n",
    "using Pkg; Pkg.activate(\".\"); Pkg.instantiate()\n",
    "```"
   ],
   "metadata": {}
  },
  {
   "cell_type": "markdown",
   "source": [
    "In this short tutorial we discuss two ways to easily load data in Julia:\n",
    "\n",
    "1. loading a standard dataset via `RDatasets.jl`,\n",
    "1. loading a local file with `CSV.jl`,\n",
    "\n",
    "## Using RDatasets\n",
    "\n",
    "The package [RDatasets.jl](https://github.com/JuliaStats/RDatasets.jl) provides access to most of the many datasets listed on [this page](http://vincentarelbundock.github.io/Rdatasets/datasets.html).\n",
    "These are well known, standard datasets that can be used to get started with data processing and classical machine learning such as for instance `iris`, `crabs`, `Boston`, etc.\n",
    "\n",
    "To load such a dataset, you will need to specify which R package it belongs to as well as its name; for instance `Boston` is part of `MASS`."
   ],
   "metadata": {}
  },
  {
   "outputs": [],
   "cell_type": "code",
   "source": [
    "using RDatasets\n",
    "import DataFrames\n",
    "\n",
    "boston = dataset(\"MASS\", \"Boston\");"
   ],
   "metadata": {},
   "execution_count": null
  },
  {
   "cell_type": "markdown",
   "source": [
    "The fact that `Boston` is part of `MASS` is clearly indicated on the [list](http://vincentarelbundock.github.io/Rdatasets/datasets.html) linked to earlier.\n",
    "While it can be a bit slow, loading a dataset via RDatasets is very simple and convenient as you don't have to  worry about setting the names of columns etc.\n",
    "\n",
    "The `dataset` function returns a `DataFrame` object from the [DataFrames.jl](https://github.com/JuliaData/DataFrames.jl) package."
   ],
   "metadata": {}
  },
  {
   "outputs": [],
   "cell_type": "code",
   "source": [
    "typeof(boston)"
   ],
   "metadata": {},
   "execution_count": null
  },
  {
   "cell_type": "markdown",
   "source": [
    "For a short introduction to DataFrame objects, see [this tutorial](/data/dataframe)."
   ],
   "metadata": {}
  },
  {
   "cell_type": "markdown",
   "source": [
    "## Using CSV\n",
    "\n",
    "The package [CSV.jl](https://github.com/JuliaData/CSV.jl) offers a powerful way to read arbitrary CSV files efficiently.\n",
    "In particular the `CSV.read` function allows to read a file and return a DataFrame.\n",
    "\n",
    "### Basic usage\n",
    "\n",
    "Let's say you have a file `foo.csv` at some path `fpath=joinpath(\"data\", \"foo.csv\")` with the content\n",
    "\n",
    "```\n",
    "col1,col2,col3,col4,col5,col6,col7,col8\n",
    ",1,1.0,1,one,2019-01-01,2019-01-01T00:00:00,true\n",
    ",2,2.0,2,two,2019-01-02,2019-01-02T00:00:00,false\n",
    ",3,3.0,3.14,three,2019-01-03,2019-01-03T00:00:00,true\n",
    "```"
   ],
   "metadata": {}
  },
  {
   "cell_type": "markdown",
   "source": [
    "You can read it with CSV using"
   ],
   "metadata": {}
  },
  {
   "outputs": [],
   "cell_type": "code",
   "source": [
    "using CSV\n",
    "data = CSV.read(fpath, DataFrames.DataFrame)"
   ],
   "metadata": {},
   "execution_count": null
  },
  {
   "cell_type": "markdown",
   "source": [
    "Note that we use this `joinpath` for compatibility with  our system but you could pass any valid path on your system for instance `CSV.read(\"path/to/file.csv\")`.\n",
    "The data is also returned as a dataframe"
   ],
   "metadata": {}
  },
  {
   "outputs": [],
   "cell_type": "code",
   "source": [
    "typeof(data)"
   ],
   "metadata": {},
   "execution_count": null
  },
  {
   "cell_type": "markdown",
   "source": [
    "Some of the useful arguments for `read` are:\n",
    "\n",
    "* `header=` to specify whether there's a header, or which line the header is on or to specify a full header yourself,\n",
    "* `skipto=` to specify how many rows to skip before starting to read the data,\n",
    "* `limit=` to specify a maximum number of rows to parse,\n",
    "* `missingstring=` to specify a string or vector of strings that should be parsed as missing values,\n",
    "* `delim=','` a char or string to specify how columns are separated.\n",
    "\n",
    "For more details see `?CSV.File`.\n",
    "\n",
    "### Example 1\n",
    "\n",
    "Let's consider [this dataset](https://archive.ics.uci.edu/ml/machine-learning-databases/00504/), the content of which we saved in a file at path `fpath`."
   ],
   "metadata": {}
  },
  {
   "cell_type": "markdown",
   "source": [
    "It doesn't have a header so we have to provide it ourselves."
   ],
   "metadata": {}
  },
  {
   "outputs": [],
   "cell_type": "code",
   "source": [
    "header = [\"CIC0\", \"SM1_Dz\", \"GATS1i\",\n",
    "          \"NdsCH\", \"NdssC\", \"MLOGP\", \"LC50\"]\n",
    "data = CSV.read(fpath, DataFrames.DataFrame, header=header)\n",
    "first(data, 3)"
   ],
   "metadata": {},
   "execution_count": null
  },
  {
   "cell_type": "markdown",
   "source": [
    "### Example 2\n",
    "\n",
    "Let's consider [this dataset](https://archive.ics.uci.edu/ml/machine-learning-databases/00423/), the content of which we saved at `fpath`."
   ],
   "metadata": {}
  },
  {
   "cell_type": "markdown",
   "source": [
    "It does not have a header and missing values indicated by `?`."
   ],
   "metadata": {}
  },
  {
   "outputs": [],
   "cell_type": "code",
   "source": [
    "data = CSV.read(fpath, DataFrames.DataFrame, header=false, missingstring=\"?\")\n",
    "first(data[:, 1:5], 3)"
   ],
   "metadata": {},
   "execution_count": null
  },
  {
   "cell_type": "markdown",
   "source": [
    "---\n",
    "\n",
    "*This notebook was generated using [Literate.jl](https://github.com/fredrikekre/Literate.jl).*"
   ],
   "metadata": {}
  }
 ],
 "nbformat_minor": 3,
 "metadata": {
  "language_info": {
   "file_extension": ".jl",
   "mimetype": "application/julia",
   "name": "julia",
   "version": "1.8.0-DEV.271"
  },
  "kernelspec": {
   "name": "julia-1.8",
   "display_name": "Julia 1.8.0-DEV.271",
   "language": "julia"
  }
 },
 "nbformat": 4
}
