{
 "cells": [
  {
   "cell_type": "markdown",
   "source": [
    "Before running this, please make sure to activate and instantiate the\n",
    "tutorial-specific package environment, using this\n",
    "[`Project.toml`](https://raw.githubusercontent.com/juliaai/DataScienceTutorials.jl/gh-pages/__generated/EX-breastcancer/Project.toml) and\n",
    "[this `Manifest.toml`](https://raw.githubusercontent.com/juliaai/DataScienceTutorials.jl/gh-pages/__generated/EX-breastcancer/Manifest.toml), or by following\n",
    "[these](https://juliaai.github.io/DataScienceTutorials.jl/#learning_by_doing) detailed instructions."
   ],
   "metadata": {}
  },
  {
   "cell_type": "markdown",
   "source": [
    "## Introduction\n",
    "This tutorial covers the concepts of iterative model selection on the popular [\"Breast Cancer Wisconsin (Diagnostic) Data Set\"](https://archive.ics.uci.edu/ml/datasets/Breast+Cancer+Wisconsin+(Diagnostic))\n",
    "from the UCI archives. The tutorial also covers basic data preprocessing and usage of MLJ Scientific Types."
   ],
   "metadata": {}
  },
  {
   "cell_type": "markdown",
   "source": [
    "## Loading the relevant packages\n",
    "For a guide to package intsllation in Julia please refer this [link](https://docs.julialang.org/en/v1/stdlib/Pkg/) taken directly from Juliav1 documentation"
   ],
   "metadata": {}
  },
  {
   "outputs": [],
   "cell_type": "code",
   "source": [
    "using UrlDownload\n",
    "using DataFrames\n",
    "using PrettyPrinting\n",
    "using PyPlot\n",
    "using MLJ"
   ],
   "metadata": {},
   "execution_count": null
  },
  {
   "cell_type": "markdown",
   "source": [
    "Inititalizing a global random seed which we'll use throughout the code to maintain consistency in results"
   ],
   "metadata": {}
  },
  {
   "outputs": [],
   "cell_type": "code",
   "source": [
    "RANDOM_SEED = 42;"
   ],
   "metadata": {},
   "execution_count": null
  },
  {
   "cell_type": "markdown",
   "source": [
    "## Downloading and loading the data\n",
    "Using the package UrlDownload.jl, we can capture the data from the given link using the below commands"
   ],
   "metadata": {}
  },
  {
   "outputs": [],
   "cell_type": "code",
   "source": [
    "url = \"https://archive.ics.uci.edu/ml/machine-learning-databases/breast-cancer-wisconsin/wdbc.data\";\n",
    "feature_names = [\"ID\", \"Class\", \"mean radius\", \"mean texture\", \"mean perimeter\", \"mean area\", \"mean smoothness\", \"mean compactness\", \"mean concavity\", \"mean concave points\", \"mean symmetry\", \"mean fractal dimension\", \"radius error\", \"texture error\", \"perimeter error\", \"area error\", \"smoothness error\", \"compactness error\", \"concavity error\", \"concave points error\", \"symmetry error\", \"fractal dimension error\", \"worst radius\", \"worst texture\", \"worst perimeter\", \"worst area\", \"worst smoothness\", \"worst compactness\", \"worst concavity\", \"worst concave points\", \"worst symmetry\", \"worst fractal dimension\"]\n",
    "data = urldownload(url, true, format = :CSV, header = feature_names);"
   ],
   "metadata": {},
   "execution_count": null
  },
  {
   "cell_type": "markdown",
   "source": [
    "## Exploring the obtained data\n",
    "### Inspecting the class variable"
   ],
   "metadata": {}
  },
  {
   "outputs": [],
   "cell_type": "code",
   "source": [
    "figure(figsize=(8, 6))\n",
    "hist(data.Class)\n",
    "xlabel(\"Classes\")\n",
    "ylabel(\"Number of samples\")"
   ],
   "metadata": {},
   "execution_count": null
  },
  {
   "cell_type": "markdown",
   "source": [
    "\\figalt{Distribution of target classes}{Target_class.svg}"
   ],
   "metadata": {}
  },
  {
   "cell_type": "markdown",
   "source": [
    "### Inspecting the feature set"
   ],
   "metadata": {}
  },
  {
   "outputs": [],
   "cell_type": "code",
   "source": [
    "df = DataFrame(data)[:, 2:end];"
   ],
   "metadata": {},
   "execution_count": null
  },
  {
   "cell_type": "markdown",
   "source": [
    "Printing the 1st 10 rows so as to get a visual idea about the type of data we're dealing with"
   ],
   "metadata": {}
  },
  {
   "outputs": [],
   "cell_type": "code",
   "source": [
    "pprint(first(df,10))"
   ],
   "metadata": {},
   "execution_count": null
  },
  {
   "cell_type": "markdown",
   "source": [
    "For checking the statistical attributes of each inividual feature, we can use the __decsribe()__ method"
   ],
   "metadata": {}
  },
  {
   "outputs": [],
   "cell_type": "code",
   "source": [
    "pprint(describe(df))"
   ],
   "metadata": {},
   "execution_count": null
  },
  {
   "cell_type": "markdown",
   "source": [
    "As we can see the feature set consists of varying features that have different ranges and quantiles. This can cause trouble for the optimization techniques and might cause convergence\n",
    "issues. We can use a feature scaling technique like __Standardizer()__ to handle this."
   ],
   "metadata": {}
  },
  {
   "cell_type": "markdown",
   "source": [
    "But first, let's handle the [scientific types](https://alan-turing-institute.github.io/ScientificTypes.jl/dev/) of all the features. We can use the schema() method from MLJ.jl package to do this"
   ],
   "metadata": {}
  },
  {
   "outputs": [],
   "cell_type": "code",
   "source": [
    "pprint(schema(df))"
   ],
   "metadata": {},
   "execution_count": null
  },
  {
   "cell_type": "markdown",
   "source": [
    "As the target variable is 'Textual' in nature, we'll have to change it to a more appropriate scientific type. Using the __coerce()__ method, let's change it to an OrderedFactor."
   ],
   "metadata": {}
  },
  {
   "outputs": [],
   "cell_type": "code",
   "source": [
    "coerce!(df, :Class => OrderedFactor{2});"
   ],
   "metadata": {},
   "execution_count": null
  },
  {
   "cell_type": "markdown",
   "source": [
    "## Unpacking the values\n",
    "Now that our data is fully processed, we can separate the target variable 'y' from the feature set 'X' using the __unpack()__ method."
   ],
   "metadata": {}
  },
  {
   "outputs": [],
   "cell_type": "code",
   "source": [
    "y, X = unpack(df, ==(:Class),name->true, rng = RANDOM_SEED);"
   ],
   "metadata": {},
   "execution_count": null
  },
  {
   "cell_type": "markdown",
   "source": [
    "## Standardizing the \"feature set\"\n",
    "Now that our feature set is separated from the target variable, we can use the __Standardizer()__ worklow to obtain to standadrize our feature set 'X'."
   ],
   "metadata": {}
  },
  {
   "outputs": [],
   "cell_type": "code",
   "source": [
    "transformer_instance = Standardizer()\n",
    "transformer_model = machine(transformer_instance, X)\n",
    "fit!(transformer_model)\n",
    "X = MLJ.transform(transformer_model, X);"
   ],
   "metadata": {},
   "execution_count": null
  },
  {
   "cell_type": "markdown",
   "source": [
    "## Train-test split\n",
    "After feature scaling, our data is ready to put into a Machine Learning model for classification! Using 80% of data for training, we can perform a train-test split using the __partition()__ method."
   ],
   "metadata": {}
  },
  {
   "outputs": [],
   "cell_type": "code",
   "source": [
    "train, test = partition(eachindex(y), 0.8, shuffle=true, rng=RANDOM_SEED);"
   ],
   "metadata": {},
   "execution_count": null
  },
  {
   "cell_type": "markdown",
   "source": [
    "## Model compatibility\n",
    "Now that we have separate training and testing set, let's see the models compatible with our data!"
   ],
   "metadata": {}
  },
  {
   "outputs": [],
   "cell_type": "code",
   "source": [
    "for m in models(matching(X, y))\n",
    "    println(\"Model name = \",m.name,\", \",\"Prediction type = \",m.prediction_type,\", \",\"Package name = \",m.package_name);\n",
    "end"
   ],
   "metadata": {},
   "execution_count": null
  },
  {
   "cell_type": "markdown",
   "source": [
    "## Analyzing the performance of different models\n",
    "Thats a lot of models for our data! To narrow it down, lets analyze the performance of \"probabilistic classifiers\" from the \"ScikitLearn\" package."
   ],
   "metadata": {}
  },
  {
   "cell_type": "markdown",
   "source": [
    "### Creating various empty vectors for our analysis\n",
    "- __model_names__ captures the names of the models being iterated\n",
    "- __loss_acc captures__ the value of the model accuracy on the test set\n",
    "- __loss_ce captures__ the values of the Cross-entropy loss on the test set\n",
    "- __loss_f1__ captures the values of F1-Score on the test set"
   ],
   "metadata": {}
  },
  {
   "outputs": [],
   "cell_type": "code",
   "source": [
    "model_names=Vector{String}();\n",
    "loss_acc=[];\n",
    "loss_ce=[];\n",
    "loss_f1=[];"
   ],
   "metadata": {},
   "execution_count": null
  },
  {
   "cell_type": "markdown",
   "source": [
    "### Collecting data for analysis"
   ],
   "metadata": {}
  },
  {
   "outputs": [],
   "cell_type": "code",
   "source": [
    "figure(figsize=(8, 6))\n",
    "for m in models(matching(X, y))\n",
    "    if m.prediction_type==Symbol(\"probabilistic\") && m.package_name==\"ScikitLearn\" && m.name!=\"LogisticCVClassifier\"\n",
    "        #Excluding LogisticCVClassfiier as we can infer similar baseline results from the LogisticClassifier\n",
    "\n",
    "        #Capturing the model and loading it using the @load utility\n",
    "        model_name=m.name\n",
    "        package_name=m.package_name\n",
    "        eval(:(clf = @load $model_name pkg=$package_name verbosity=1))\n",
    "\n",
    "        #Fitting the captured model onto the training set\n",
    "        clf_machine = machine(clf(), X, y)\n",
    "        fit!(clf_machine, rows=train)\n",
    "\n",
    "        #Getting the predictions onto the test set\n",
    "        y_pred = MLJ.predict(clf_machine, rows=test);\n",
    "\n",
    "        #Plotting the ROC-AUC curve for each model being iterated\n",
    "        fprs, tprs, thresholds = roc(y_pred, y[test])\n",
    "        plot(fprs, tprs,label=model_name);\n",
    "\n",
    "        #Obtaining different evaluation metrics\n",
    "        ce_loss = mean(cross_entropy(y_pred,y[test]))\n",
    "        acc = accuracy(mode.(y_pred), y[test])\n",
    "        f1_score = f1score(mode.(y_pred), y[test])\n",
    "\n",
    "        #Adding the different obtained values of the evaluation metrics to the respective vectors\n",
    "        push!(model_names, m.name)\n",
    "        append!(loss_acc, acc)\n",
    "        append!(loss_ce, ce_loss)\n",
    "        append!(loss_f1, f1_score)\n",
    "    end\n",
    "end\n",
    "\n",
    "#Adding labels and legend to the ROC-AUC curve\n",
    "xlabel(\"False Positive Rate\")\n",
    "ylabel(\"True Positive Rate\")\n",
    "legend(loc=\"best\", fontsize=\"xx-small\")\n",
    "title(\"ROC curve\")"
   ],
   "metadata": {},
   "execution_count": null
  },
  {
   "cell_type": "markdown",
   "source": [
    "\\figalt{ROC-AUC Curve}{breastcancer_auc_curve.svg}"
   ],
   "metadata": {}
  },
  {
   "cell_type": "markdown",
   "source": [
    "### Analyzing models\n",
    "Let's collect the data in form a dataframe for a more precise analysis"
   ],
   "metadata": {}
  },
  {
   "outputs": [],
   "cell_type": "code",
   "source": [
    "model_info=DataFrame(ModelName=model_names,Accuracy=loss_acc,CrossEntropyLoss=loss_ce,F1Score=loss_f1);"
   ],
   "metadata": {},
   "execution_count": null
  },
  {
   "cell_type": "markdown",
   "source": [
    "Now, let's sort the data on basis of the Cross-entropy loss"
   ],
   "metadata": {}
  },
  {
   "outputs": [],
   "cell_type": "code",
   "source": [
    "pprint(sort!(model_info,[:CrossEntropyLoss]));"
   ],
   "metadata": {},
   "execution_count": null
  },
  {
   "cell_type": "markdown",
   "source": [
    "It seems like a simple LogisticClassifier works really well with this dataset!"
   ],
   "metadata": {}
  },
  {
   "cell_type": "markdown",
   "source": [
    "# Conclusion\n",
    "This article covered iterative feature selection on the Breast cancer classification dataset. In this tutorial, we only analyzed the __ScikitLearn__\n",
    "models so as to keep the flow of the content precise, but the same workflow can be applied to any compatible model in the __MLJ__ family."
   ],
   "metadata": {}
  },
  {
   "cell_type": "markdown",
   "source": [
    "---\n",
    "\n",
    "*This notebook was generated using [Literate.jl](https://github.com/fredrikekre/Literate.jl).*"
   ],
   "metadata": {}
  }
 ],
 "nbformat_minor": 3,
 "metadata": {
  "language_info": {
   "file_extension": ".jl",
   "mimetype": "application/julia",
   "name": "julia",
   "version": "1.7.3"
  },
  "kernelspec": {
   "name": "julia-1.7",
   "display_name": "Julia 1.7.3",
   "language": "julia"
  }
 },
 "nbformat": 4
}
