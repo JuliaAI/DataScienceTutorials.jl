{
 "cells": [
  {
   "cell_type": "markdown",
   "source": [
    "Before running this, please make sure to activate and instantiate the\n",
    "tutorial-specific package environment, using this\n",
    "[`Project.toml`](https://raw.githubusercontent.com/juliaai/DataScienceTutorials.jl/gh-pages/__generated/EX-wine/Project.toml) and\n",
    "[this `Manifest.toml`](https://raw.githubusercontent.com/juliaai/DataScienceTutorials.jl/gh-pages/__generated/EX-wine/Manifest.toml), or by following\n",
    "[these](https://juliaai.github.io/DataScienceTutorials.jl/#learning_by_doing) detailed instructions."
   ],
   "metadata": {}
  },
  {
   "cell_type": "markdown",
   "source": [
    "@@dropdown\n",
    "## Initial data processing\n",
    "@@\n",
    "@@dropdown-content\n",
    "\n",
    "In this example, we consider the [UCI \"wine\" dataset](http://archive.ics.uci.edu/ml/datasets/wine)\n",
    "\n",
    "> These data are the results of a chemical analysis of wines grown in the same region in Italy but derived from three different cultivars. The analysis determined the quantities of 13 constituents found in each of the three types of wines."
   ],
   "metadata": {}
  },
  {
   "cell_type": "markdown",
   "source": [
    "@@dropdown\n",
    "### Getting the data\n",
    "@@\n",
    "@@dropdown-content\n",
    "\n",
    "Let's download the data thanks to the [UrlDownload.jl](https://github.com/Arkoniak/UrlDownload.jl) package and load it into a DataFrame:"
   ],
   "metadata": {}
  },
  {
   "outputs": [],
   "cell_type": "code",
   "source": [
    "using HTTP\n",
    "using MLJ\n",
    "using StableRNGs # for RNGs, stable over Julia versions\n",
    "import DataFrames: DataFrame, describe\n",
    "using UrlDownload\n",
    "\n",
    "url = \"http://archive.ics.uci.edu/ml/machine-learning-databases/wine/wine.data\"\n",
    "header = [\"Class\", \"Alcool\", \"Malic acid\", \"Ash\", \"Alcalinity of ash\",\n",
    "          \"Magnesium\", \"Total phenols\", \"Flavanoids\",\n",
    "          \"Nonflavanoid phenols\", \"Proanthcyanins\", \"Color intensity\",\n",
    "          \"Hue\", \"OD280/OD315 of diluted wines\", \"Proline\"]\n",
    "data = urldownload(url, true, format=:CSV, header=header);"
   ],
   "metadata": {},
   "execution_count": null
  },
  {
   "cell_type": "markdown",
   "source": [
    "The second argument to `urldownload` adds a progress meter for the download,\n",
    "the `format` helps indicate the format of the file and the `header` helps\n",
    "pass the column names which are not in the file."
   ],
   "metadata": {}
  },
  {
   "outputs": [],
   "cell_type": "code",
   "source": [
    "df = DataFrame(data)\n",
    "describe(df)"
   ],
   "metadata": {},
   "execution_count": null
  },
  {
   "cell_type": "markdown",
   "source": [
    "the target is the `Class` column, everything else is a feature; we can\n",
    "dissociate the two  using the `unpack` function:"
   ],
   "metadata": {}
  },
  {
   "outputs": [],
   "cell_type": "code",
   "source": [
    "y, X = unpack(df, ==(:Class)); # a vector and a table"
   ],
   "metadata": {},
   "execution_count": null
  },
  {
   "cell_type": "markdown",
   "source": [
    "‎\n",
    "@@\n",
    "@@dropdown\n",
    "### Setting the scientific type\n",
    "@@\n",
    "@@dropdown-content\n",
    "\n",
    "Let's explore the scientific type attributed by default to the target and the features"
   ],
   "metadata": {}
  },
  {
   "outputs": [],
   "cell_type": "code",
   "source": [
    "scitype(y)"
   ],
   "metadata": {},
   "execution_count": null
  },
  {
   "cell_type": "markdown",
   "source": [
    "this should be changed as it should be considered as an ordered factor. The\n",
    "difference is as follows:\n",
    "\n",
    "* a `Count` corresponds to an integer between 0 and infinity\n",
    "* a `OrderedFactor` however is a categorical object (there are finitely many options) with ordering (`1 < 2 < 3`)."
   ],
   "metadata": {}
  },
  {
   "outputs": [],
   "cell_type": "code",
   "source": [
    "yc = coerce(y, OrderedFactor);"
   ],
   "metadata": {},
   "execution_count": null
  },
  {
   "cell_type": "markdown",
   "source": [
    "Let's now consider the features. Since this is a table, will inspect scitypes using\n",
    "`schema`, which is more user-friendly:"
   ],
   "metadata": {}
  },
  {
   "outputs": [],
   "cell_type": "code",
   "source": [
    "schema(X)"
   ],
   "metadata": {},
   "execution_count": null
  },
  {
   "cell_type": "markdown",
   "source": [
    "So there are `Continuous` values (encoded as floating point) and `Count` values\n",
    "(integer).  Note also that there are no missing value (otherwise one of the scientific\n",
    "type would have been a `Union{Missing,*}`).  Let's check which column is what: The two\n",
    "variables that are encoded as `Count` can probably be re-interpreted; let's have a look\n",
    "at the `Proline` one to see what it looks like"
   ],
   "metadata": {}
  },
  {
   "outputs": [],
   "cell_type": "code",
   "source": [
    "X[1:5, :Proline]"
   ],
   "metadata": {},
   "execution_count": null
  },
  {
   "cell_type": "markdown",
   "source": [
    "This is likely representing a `Continuous` variable as well (it would be better to know precisely what it is but for now let's just go with the hunch).\n",
    "We'll do the same with `:Magnesium`:"
   ],
   "metadata": {}
  },
  {
   "outputs": [],
   "cell_type": "code",
   "source": [
    "Xc = coerce(X, :Proline=>Continuous, :Magnesium=>Continuous);"
   ],
   "metadata": {},
   "execution_count": null
  },
  {
   "cell_type": "markdown",
   "source": [
    "Finally, let's have a quick look at the mean and standard deviation of each feature to get a feel for their amplitude:"
   ],
   "metadata": {}
  },
  {
   "outputs": [],
   "cell_type": "code",
   "source": [
    "describe(Xc, :mean, :std)"
   ],
   "metadata": {},
   "execution_count": null
  },
  {
   "cell_type": "markdown",
   "source": [
    "Right so it varies a fair bit which would invite to standardise the data.\n",
    "\n",
    "**Note**: to complete such a first step, one could explore histograms of the various\n",
    "**features for instance, check that there is enough variation among the continuous\n",
    "**features and that there does not seem to be problems in the encoding, we cut this out\n",
    "**to shorten the tutorial. We could also have checked that the data is balanced."
   ],
   "metadata": {}
  },
  {
   "cell_type": "markdown",
   "source": [
    "‎\n",
    "@@"
   ],
   "metadata": {}
  },
  {
   "cell_type": "markdown",
   "source": [
    "‎\n",
    "@@\n",
    "@@dropdown\n",
    "## Getting a baseline\n",
    "@@\n",
    "@@dropdown-content\n",
    "\n",
    "It's a multiclass classification problem with continuous inputs so a sensible start is\n",
    "to test two very simple classifiers to get a baseline."
   ],
   "metadata": {}
  },
  {
   "cell_type": "markdown",
   "source": [
    "We'll train two simple pipelines:\n",
    "- a Standardizer + KNN classifier and\n",
    "- a Standardizer + Multinomial classifier (logistic regression)."
   ],
   "metadata": {}
  },
  {
   "outputs": [],
   "cell_type": "code",
   "source": [
    "KNNClassifier = @load KNNClassifier\n",
    "MultinomialClassifier = @load MultinomialClassifier pkg=MLJLinearModels;\n",
    "\n",
    "knn_pipe = Standardizer() |> KNNClassifier()\n",
    "multinom_pipe = Standardizer() |> MultinomialClassifier()"
   ],
   "metadata": {},
   "execution_count": null
  },
  {
   "cell_type": "markdown",
   "source": [
    "Note the `|>` syntax, which is syntactic sugar for creating a linear `Pipeline`."
   ],
   "metadata": {}
  },
  {
   "cell_type": "markdown",
   "source": [
    "We can now fit this on a train split of the data setting aside 20% of the data for\n",
    "eventual testing."
   ],
   "metadata": {}
  },
  {
   "outputs": [],
   "cell_type": "code",
   "source": [
    "(Xtrain, Xtest), (ytrain, ytest) =\n",
    "    partition((Xc, yc), 0.8, rng=StableRNG(123), multi=true);"
   ],
   "metadata": {},
   "execution_count": null
  },
  {
   "cell_type": "markdown",
   "source": [
    "Let's now wrap an instance of these models with data (all hyperparameters are set to\n",
    "default here):"
   ],
   "metadata": {}
  },
  {
   "outputs": [],
   "cell_type": "code",
   "source": [
    "knn = machine(knn_pipe, Xtrain, ytrain)\n",
    "multinom = machine(multinom_pipe, Xtrain, ytrain)"
   ],
   "metadata": {},
   "execution_count": null
  },
  {
   "cell_type": "markdown",
   "source": [
    "Let's train a KNNClassifier with default hyperparameters and get a baseline\n",
    "misclassification rate using 90% of the training data to train the model and the\n",
    "remaining 10% to evaluate it:"
   ],
   "metadata": {}
  },
  {
   "outputs": [],
   "cell_type": "code",
   "source": [
    "opts = (\n",
    "    resampling=Holdout(fraction_train=0.9),\n",
    "    measures=[log_loss, accuracy],\n",
    ")\n",
    "evaluate!(knn; opts...)"
   ],
   "metadata": {},
   "execution_count": null
  },
  {
   "cell_type": "markdown",
   "source": [
    "Now we do the same with a MultinomialClassifier"
   ],
   "metadata": {}
  },
  {
   "outputs": [],
   "cell_type": "code",
   "source": [
    "evaluate!(multinom; opts...)"
   ],
   "metadata": {},
   "execution_count": null
  },
  {
   "cell_type": "markdown",
   "source": [
    "Both methods have perfect out-of-sample accuracy, without any tuning!"
   ],
   "metadata": {}
  },
  {
   "cell_type": "markdown",
   "source": [
    "Let's check the accuracy on the test set:"
   ],
   "metadata": {}
  },
  {
   "outputs": [],
   "cell_type": "code",
   "source": [
    "fit!(knn) # train on all train data\n",
    "yhat = predict_mode(knn, Xtest)\n",
    "accuracy(yhat, ytest)"
   ],
   "metadata": {},
   "execution_count": null
  },
  {
   "cell_type": "markdown",
   "source": [
    "Still pretty good."
   ],
   "metadata": {}
  },
  {
   "outputs": [],
   "cell_type": "code",
   "source": [
    "fit!(multinom) # train on all train data\n",
    "yhat = predict_mode(multinom, Xtest)\n",
    "accuracy(yhat, ytest)"
   ],
   "metadata": {},
   "execution_count": null
  },
  {
   "cell_type": "markdown",
   "source": [
    "Even better."
   ],
   "metadata": {}
  },
  {
   "cell_type": "markdown",
   "source": [
    "‎\n",
    "@@\n",
    "@@dropdown\n",
    "## Visualising the classes\n",
    "@@\n",
    "@@dropdown-content\n",
    "\n",
    "One way to get intuition for why the dataset is so easy to classify is to project it onto a 2D space using the PCA and display the two classes to see if they are well separated; we use the arrow-syntax here (if you're on Julia <= 1.2, use the commented-out lines as you won't be able to use the arrow-syntax)"
   ],
   "metadata": {}
  },
  {
   "outputs": [],
   "cell_type": "code",
   "source": [
    "PCA = @load PCA\n",
    "pca_pipe = Standardizer() |> PCA(maxoutdim=2)\n",
    "pca = machine(pca_pipe, Xtrain)\n",
    "fit!(pca)\n",
    "W = transform(pca, Xtrain);"
   ],
   "metadata": {},
   "execution_count": null
  },
  {
   "cell_type": "markdown",
   "source": [
    "Let's now display this using different colours for the different classes:"
   ],
   "metadata": {}
  },
  {
   "outputs": [],
   "cell_type": "code",
   "source": [
    "x1 = W.x1\n",
    "x2 = W.x2\n",
    "\n",
    "mask_1 = ytrain .== 1\n",
    "mask_2 = ytrain .== 2\n",
    "mask_3 = ytrain .== 3\n",
    "\n",
    "using Plots\n",
    "\n",
    "scatter(x1[mask_1], x2[mask_1], color=\"red\", label=\"Class 1\")\n",
    "scatter!(x1[mask_2], x2[mask_2], color=\"blue\", label=\"Class 2\")\n",
    "scatter!(x1[mask_3], x2[mask_3], color=\"yellow\", label=\"Class 3\")\n",
    "\n",
    "xlabel!(\"PCA dimension 1\")\n",
    "ylabel!(\"PCA dimension 2\")"
   ],
   "metadata": {},
   "execution_count": null
  },
  {
   "cell_type": "markdown",
   "source": [
    "\\figalt{PCA}{EX-wine-pca.svg}\n",
    "\n",
    "From the figure it's clear why we managed to achieve such high scores with very simple\n",
    "classifiers.  At this point it's a bit pointless to dig much deaper into parameter\n",
    "tuning etc."
   ],
   "metadata": {}
  },
  {
   "cell_type": "markdown",
   "source": [
    "‎\n",
    "@@"
   ],
   "metadata": {}
  },
  {
   "cell_type": "markdown",
   "source": [
    "---\n",
    "\n",
    "*This notebook was generated using [Literate.jl](https://github.com/fredrikekre/Literate.jl).*"
   ],
   "metadata": {}
  }
 ],
 "nbformat_minor": 3,
 "metadata": {
  "language_info": {
   "file_extension": ".jl",
   "mimetype": "application/julia",
   "name": "julia",
   "version": "1.10.0"
  },
  "kernelspec": {
   "name": "julia-1.10",
   "display_name": "Julia 1.10.0",
   "language": "julia"
  }
 },
 "nbformat": 4
}
