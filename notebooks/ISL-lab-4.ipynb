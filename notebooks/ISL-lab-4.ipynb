{
 "cells": [
  {
   "outputs": [],
   "cell_type": "markdown",
   "source": [
    "Before running this, please make sure to activate and instantiate the environment\n",
    "corresponding to [this `Project.toml`](https://raw.githubusercontent.com/alan-turing-institute/MLJTutorials/master/Project.toml) and [this `Manifest.toml`](https://raw.githubusercontent.com/alan-turing-institute/MLJTutorials/master/Manifest.toml)\n",
    "so that you get an environment which matches the one used to generate the tutorials:\n",
    "\n",
    "```julia\n",
    "cd(\"MLJTutorials\") # cd to folder with the *.toml\n",
    "using Pkg; Pkg.activate(\".\"); Pkg.instantiate()\n",
    "```"
   ],
   "metadata": {}
  },
  {
   "outputs": [],
   "cell_type": "markdown",
   "source": [
    "## Stock market data\n",
    "\n",
    "Let's load the usual packages and the data"
   ],
   "metadata": {}
  },
  {
   "outputs": [],
   "cell_type": "code",
   "source": [
    "using MLJ, RDatasets, ScientificTypes,\n",
    "      DataFrames, Statistics, StatsBase\n",
    "\n",
    "smarket = dataset(\"ISLR\", \"Smarket\")\n",
    "@show size(smarket)\n",
    "@show names(smarket)"
   ],
   "metadata": {},
   "execution_count": null
  },
  {
   "outputs": [],
   "cell_type": "markdown",
   "source": [
    "Let's get a description too"
   ],
   "metadata": {}
  },
  {
   "outputs": [],
   "cell_type": "code",
   "source": [
    "describe(smarket, :mean, :std, :eltype)"
   ],
   "metadata": {},
   "execution_count": null
  },
  {
   "outputs": [],
   "cell_type": "markdown",
   "source": [
    "The target variable is `:Direction`:"
   ],
   "metadata": {}
  },
  {
   "outputs": [],
   "cell_type": "code",
   "source": [
    "y = smarket.Direction\n",
    "X = select(smarket, Not(:Direction));"
   ],
   "metadata": {},
   "execution_count": null
  },
  {
   "outputs": [],
   "cell_type": "markdown",
   "source": [
    "We can compute all the pairwise correlations; we use `Matrix` so that the dataframe entries are considered as one matrix of numbers (otherwise `cor` won't work):"
   ],
   "metadata": {}
  },
  {
   "outputs": [],
   "cell_type": "code",
   "source": [
    "cm = X |> Matrix |> cor\n",
    "round.(cm, sigdigits=1)"
   ],
   "metadata": {},
   "execution_count": null
  },
  {
   "outputs": [],
   "cell_type": "markdown",
   "source": [
    "Let's see what the `:Volume` feature looks like:"
   ],
   "metadata": {}
  },
  {
   "outputs": [],
   "cell_type": "code",
   "source": [
    "using PyPlot\n",
    "figure(figsize=(8,6))\n",
    "plot(X.Volume)\n",
    "xlabel(\"Tick number\", fontsize=14)\n",
    "ylabel(\"Volume\", fontsize=14)\n",
    "xticks(fontsize=12)\n",
    "yticks(fontsize=12)\n",
    "\n",
    "savefig(\"assets/ISL-volume.svg\") # hide"
   ],
   "metadata": {},
   "execution_count": null
  },
  {
   "outputs": [],
   "cell_type": "markdown",
   "source": [
    "![volume](/assets/ISL-volume.svg)"
   ],
   "metadata": {}
  },
  {
   "outputs": [],
   "cell_type": "markdown",
   "source": [
    "### Logistic Regression\n",
    "\n",
    "We will now try to train models; the target `:Direction` has two classes: `Up` and `Down`; it needs to be interpreted as a Multiclass object first:"
   ],
   "metadata": {}
  },
  {
   "outputs": [],
   "cell_type": "code",
   "source": [
    "yc = coerce(y, Multiclass)\n",
    "unique(yc)"
   ],
   "metadata": {},
   "execution_count": null
  },
  {
   "outputs": [],
   "cell_type": "markdown",
   "source": [
    "Let's now try fitting a simple logistic classifier (aka logistic regression) not using `:Year` and `:Today`:"
   ],
   "metadata": {}
  },
  {
   "outputs": [],
   "cell_type": "code",
   "source": [
    "@load LogisticClassifier pkg=MLJLinearModels\n",
    "X2 = select(X, Not([:Year, :Today]))\n",
    "clf = machine(LogisticClassifier(), X2, y)"
   ],
   "metadata": {},
   "execution_count": null
  },
  {
   "outputs": [],
   "cell_type": "markdown",
   "source": [
    "Let's fit it to the data and try to reproduce the output:"
   ],
   "metadata": {}
  },
  {
   "outputs": [],
   "cell_type": "code",
   "source": [
    "fit!(clf)\n",
    "ŷ = predict(clf, X2)\n",
    "cross_entropy(ŷ, y) |> mean"
   ],
   "metadata": {},
   "execution_count": null
  },
  {
   "outputs": [],
   "cell_type": "markdown",
   "source": [
    "Note that here the `ŷ` are _scores_; in order to recover the class, we could use the mode and compare the misclassification rate:"
   ],
   "metadata": {}
  },
  {
   "outputs": [],
   "cell_type": "code",
   "source": [
    "ŷ = predict_mode(clf, X2)\n",
    "misclassification_rate(ŷ, y)"
   ],
   "metadata": {},
   "execution_count": null
  },
  {
   "outputs": [],
   "cell_type": "markdown",
   "source": [
    "Well that's not fantastic...\n",
    "\n",
    "Let's visualise how we're doing building a confusion matrix manually,\n",
    "first is predicted, second is truth:"
   ],
   "metadata": {}
  },
  {
   "outputs": [],
   "cell_type": "code",
   "source": [
    "TN = down_down = sum(ŷ .== y .== \"Down\")\n",
    "FN = down_up = sum(ŷ .!= y .== \"Up\")\n",
    "FP = up_down = sum(ŷ .!= y .== \"Down\")\n",
    "TP = up_up = sum(ŷ .== y .== \"Up\")\n",
    "\n",
    "conf_mat = [down_down down_up; up_down up_up]"
   ],
   "metadata": {},
   "execution_count": null
  },
  {
   "outputs": [],
   "cell_type": "markdown",
   "source": [
    "We can then compute the accuracy or precision easily for instance:"
   ],
   "metadata": {}
  },
  {
   "outputs": [],
   "cell_type": "code",
   "source": [
    "acc = (TN + TP) / length(y)\n",
    "prec = TP /  (TP + FP)\n",
    "rec  = TP / (TP + FN)\n",
    "@show round(acc, sigdigits=3)\n",
    "@show round(prec, sigdigits=3)\n",
    "@show round(rec, sigdigits=3)"
   ],
   "metadata": {},
   "execution_count": null
  },
  {
   "outputs": [],
   "cell_type": "markdown",
   "source": [
    "Let's now train on the data before 2005 and use it to predict on the rest."
   ],
   "metadata": {}
  },
  {
   "outputs": [],
   "cell_type": "markdown",
   "source": [
    "### LDA"
   ],
   "metadata": {}
  },
  {
   "outputs": [],
   "cell_type": "markdown",
   "source": [
    "### QDA\n",
    "\n",
    "_QDA is not yet supported_\n",
    "\n",
    "### KNN\n",
    "\n",
    "## Caravan insurance data"
   ],
   "metadata": {}
  },
  {
   "outputs": [],
   "cell_type": "markdown",
   "source": [
    "*This notebook was generated using [Literate.jl](https://github.com/fredrikekre/Literate.jl).*"
   ],
   "metadata": {}
  }
 ],
 "nbformat_minor": 3,
 "metadata": {
  "language_info": {
   "file_extension": ".jl",
   "mimetype": "application/julia",
   "name": "julia",
   "version": "1.4.0-DEV.390"
  },
  "kernelspec": {
   "name": "julia-1.4",
   "display_name": "Julia 1.4.0-DEV.390",
   "language": "julia"
  }
 },
 "nbformat": 4
}
