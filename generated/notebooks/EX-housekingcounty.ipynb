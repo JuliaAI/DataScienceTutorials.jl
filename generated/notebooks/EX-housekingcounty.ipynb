{
 "cells": [
  {
   "outputs": [],
   "cell_type": "markdown",
   "source": [
    "Before running this, please make sure to activate and instantiate the environment\n",
    "corresponding to [this `Project.toml`](https://raw.githubusercontent.com/alan-turing-institute/MLJTutorials/master/Project.toml) and [this `Manifest.toml`](https://raw.githubusercontent.com/alan-turing-institute/MLJTutorials/master/Manifest.toml)\n",
    "so that you get an environment which matches the one used to generate the tutorials:\n",
    "\n",
    "```julia\n",
    "cd(\"MLJTutorials\") # cd to folder with the *.toml\n",
    "using Pkg; Pkg.activate(\".\"); Pkg.instantiate()\n",
    "```"
   ],
   "metadata": {}
  },
  {
   "outputs": [],
   "cell_type": "markdown",
   "source": [
    "## Getting started\n",
    "\n",
    "This tutorial is adapted from [the corresponding MLR tutorial](https://mlr3gallery.mlr-org.com/house-prices-in-king-county/).\n",
    "\n",
    "### Loading and  preparing the data"
   ],
   "metadata": {}
  },
  {
   "outputs": [],
   "cell_type": "code",
   "source": [
    "using MLJ, PrettyPrinting, DataFrames, Statistics, CSV, Dates\n",
    "using PyPlot, HTTP\n",
    "MLJ.color_off() # hide\n",
    "\n",
    "req = HTTP.get(\"https://raw.githubusercontent.com/bbrandom91/KC_Housing/master/kc_house_data.csv\")\n",
    "\n",
    "df = CSV.read(req.body, missingstring=\"NA\")\n",
    "describe(df)"
   ],
   "metadata": {},
   "execution_count": null
  },
  {
   "outputs": [],
   "cell_type": "markdown",
   "source": [
    "We drop unrelated columns"
   ],
   "metadata": {}
  },
  {
   "outputs": [],
   "cell_type": "code",
   "source": [
    "select!(df, Not([:id, :date]))\n",
    "schema(df)"
   ],
   "metadata": {},
   "execution_count": null
  },
  {
   "outputs": [],
   "cell_type": "markdown",
   "source": [
    "Afterwards, we convert the zip code to an unordered factor (`Multiclass`), we also create two binary features `isrenovated` and `has_basement` derived from `yr_renovated` and `sqft_basement`:"
   ],
   "metadata": {}
  },
  {
   "outputs": [],
   "cell_type": "code",
   "source": [
    "coerce!(df, :zipcode => Multiclass)\n",
    "df.isrenovated  = @. !iszero(df.yr_renovated)\n",
    "df.has_basement = @. !iszero(df.sqft_basement)\n",
    "schema(df)"
   ],
   "metadata": {},
   "execution_count": null
  },
  {
   "outputs": [],
   "cell_type": "markdown",
   "source": [
    "These created variables should be treated as OrderedFactor,"
   ],
   "metadata": {}
  },
  {
   "outputs": [],
   "cell_type": "code",
   "source": [
    "coerce!(df, :isrenovated => OrderedFactor, :has_basement => OrderedFactor);"
   ],
   "metadata": {},
   "execution_count": null
  },
  {
   "outputs": [],
   "cell_type": "markdown",
   "source": [
    "The feature `waterfront` is currently encoded as a string, but it's really just a boolean:"
   ],
   "metadata": {}
  },
  {
   "outputs": [],
   "cell_type": "code",
   "source": [
    "unique(df.waterfront)"
   ],
   "metadata": {},
   "execution_count": null
  },
  {
   "outputs": [],
   "cell_type": "markdown",
   "source": [
    "So let's recode it"
   ],
   "metadata": {}
  },
  {
   "outputs": [],
   "cell_type": "code",
   "source": [
    "df.waterfront = (df.waterfront .!= \"FALSE\")\n",
    "coerce!(df, :waterfront => OrderedFactor);"
   ],
   "metadata": {},
   "execution_count": null
  },
  {
   "outputs": [],
   "cell_type": "markdown",
   "source": [
    "For a number of the remaining features which are treated as `Count` there are few unique values in which case it might make more sense to recode them as OrderedFactor, this can be done with `autotype`:"
   ],
   "metadata": {}
  },
  {
   "outputs": [],
   "cell_type": "code",
   "source": [
    "coerce!(df, autotype(df, :few_to_finite))\n",
    "schema(df)"
   ],
   "metadata": {},
   "execution_count": null
  },
  {
   "outputs": [],
   "cell_type": "markdown",
   "source": [
    "Let's also rescale the column `price` to be in 1000s of dollars:"
   ],
   "metadata": {}
  },
  {
   "outputs": [],
   "cell_type": "code",
   "source": [
    "df.price = df.price ./ 1000;"
   ],
   "metadata": {},
   "execution_count": null
  },
  {
   "outputs": [],
   "cell_type": "markdown",
   "source": [
    "For simplicity let's just drop a few additional columns that don't seem to matter much:"
   ],
   "metadata": {}
  },
  {
   "outputs": [],
   "cell_type": "code",
   "source": [
    "select!(df, Not([:yr_renovated, :sqft_basement, :zipcode]));"
   ],
   "metadata": {},
   "execution_count": null
  },
  {
   "outputs": [],
   "cell_type": "markdown",
   "source": [
    "### Basic data visualisation\n",
    "\n",
    "Let's plot a basic histogram of the prices to get an idea for the distribution:"
   ],
   "metadata": {}
  },
  {
   "outputs": [],
   "cell_type": "code",
   "source": [
    "plt.figure(figsize=(8,6))\n",
    "plt.hist(df.price, color = \"blue\", edgecolor = \"white\", bins=50,\n",
    "         density=true, alpha=0.5)\n",
    "plt.xlabel(\"Price\", fontsize=14)\n",
    "plt.ylabel(\"Frequency\", fontsize=14)\n",
    "plt.savefig(joinpath(@OUTPUT, \"hist_price.svg\")) # hide"
   ],
   "metadata": {},
   "execution_count": null
  },
  {
   "outputs": [],
   "cell_type": "markdown",
   "source": [
    "\\figalt{Histogram of the prices}{hist_price.svg}"
   ],
   "metadata": {}
  },
  {
   "outputs": [],
   "cell_type": "markdown",
   "source": [
    "Let's see if there's a difference between renovated and unrenovated flats:"
   ],
   "metadata": {}
  },
  {
   "outputs": [],
   "cell_type": "code",
   "source": [
    "plt.figure(figsize=(8,6))\n",
    "plt.hist(df.price[df.isrenovated .== true], color=\"blue\", density=true,\n",
    "        edgecolor=\"white\", bins=50, label=\"renovated\", alpha=0.5)\n",
    "plt.hist(df.price[df.isrenovated .== false], color=\"red\", density=true,\n",
    "        edgecolor=\"white\", bins=50, label=\"unrenovated\", alpha=0.5)\n",
    "plt.xlabel(\"Price\", fontsize=14)\n",
    "plt.ylabel(\"Frequency\", fontsize=14)\n",
    "plt.legend(fontsize=12)\n",
    "plt.savefig(joinpath(@OUTPUT, \"hist_price2.svg\")) # hide"
   ],
   "metadata": {},
   "execution_count": null
  },
  {
   "outputs": [],
   "cell_type": "markdown",
   "source": [
    "\\figalt{Histogram of the prices depending on renovation}{hist_price2.svg}\n",
    "We can observe that renovated flats seem to achieve higher sales values, and this might thus be a relevant feature.\n",
    "\n",
    "\n",
    "Likewise, this could be done to verify that `condition`, `waterfront` etc are important features."
   ],
   "metadata": {}
  },
  {
   "outputs": [],
   "cell_type": "markdown",
   "source": [
    "## Fitting a first model"
   ],
   "metadata": {}
  },
  {
   "outputs": [],
   "cell_type": "code",
   "source": [
    "@load DecisionTreeRegressor\n",
    "\n",
    "y, X = unpack(df, ==(:price), col -> true)\n",
    "train, test = partition(eachindex(y), 0.7, shuffle=true, rng=5)\n",
    "\n",
    "tree = machine(DecisionTreeRegressor(), X, y)\n",
    "\n",
    "fit!(tree, rows=train);"
   ],
   "metadata": {},
   "execution_count": null
  },
  {
   "outputs": [],
   "cell_type": "markdown",
   "source": [
    "Let's see how it does"
   ],
   "metadata": {}
  },
  {
   "outputs": [],
   "cell_type": "code",
   "source": [
    "rms(y[test], predict(tree, rows=test))"
   ],
   "metadata": {},
   "execution_count": null
  },
  {
   "outputs": [],
   "cell_type": "markdown",
   "source": [
    "Let's try to do better."
   ],
   "metadata": {}
  },
  {
   "outputs": [],
   "cell_type": "markdown",
   "source": [
    "### Random forest model"
   ],
   "metadata": {}
  },
  {
   "outputs": [],
   "cell_type": "markdown",
   "source": [
    "We might be able to improve upon the RMSE using more powerful learners."
   ],
   "metadata": {}
  },
  {
   "outputs": [],
   "cell_type": "code",
   "source": [
    "@load RandomForestRegressor pkg=ScikitLearn"
   ],
   "metadata": {},
   "execution_count": null
  },
  {
   "outputs": [],
   "cell_type": "markdown",
   "source": [
    "That model only accepts input in the form of `Count` and so we have to coerce all `Finite` types into `Count`:"
   ],
   "metadata": {}
  },
  {
   "outputs": [],
   "cell_type": "code",
   "source": [
    "coerce!(X, Finite => Count);"
   ],
   "metadata": {},
   "execution_count": null
  },
  {
   "outputs": [],
   "cell_type": "markdown",
   "source": [
    "Now we can fit"
   ],
   "metadata": {}
  },
  {
   "outputs": [],
   "cell_type": "code",
   "source": [
    "rf_mdl = RandomForestRegressor()\n",
    "rf = machine(rf_mdl, X, y)\n",
    "fit!(rf, rows=train)\n",
    "\n",
    "rms(y[test], predict(rf, rows=test))"
   ],
   "metadata": {},
   "execution_count": null
  },
  {
   "outputs": [],
   "cell_type": "markdown",
   "source": [
    "A bit better but it would be best to check this a bit more carefully:"
   ],
   "metadata": {}
  },
  {
   "outputs": [],
   "cell_type": "code",
   "source": [
    "cv3 = CV(; nfolds=3)\n",
    "res = evaluate(rf_mdl, X, y, resampling=CV(shuffle=true),\n",
    "               measure=rms, verbosity=0)"
   ],
   "metadata": {},
   "execution_count": null
  },
  {
   "outputs": [],
   "cell_type": "markdown",
   "source": [
    "### GBM\n",
    "\n",
    "Let's try a different kind of model: Gradient Boosted Decision Trees from the package xgboost and we'll try to tune it too."
   ],
   "metadata": {}
  },
  {
   "outputs": [],
   "cell_type": "code",
   "source": [
    "@load XGBoostRegressor"
   ],
   "metadata": {},
   "execution_count": null
  },
  {
   "outputs": [],
   "cell_type": "markdown",
   "source": [
    "It expects a `Table(Continuous)` input so we need to coerce `X` again:"
   ],
   "metadata": {}
  },
  {
   "outputs": [],
   "cell_type": "code",
   "source": [
    "coerce!(X, Count => Continuous)\n",
    "\n",
    "xgb  = XGBoostRegressor()\n",
    "xgbm = machine(xgb, X, y)\n",
    "fit!(xgbm, rows=train)\n",
    "\n",
    "rms(y[test], predict(xgbm, rows=test))"
   ],
   "metadata": {},
   "execution_count": null
  },
  {
   "outputs": [],
   "cell_type": "markdown",
   "source": [
    "Let's try to tune it, first we define ranges for a number of useful parameters:"
   ],
   "metadata": {}
  },
  {
   "outputs": [],
   "cell_type": "code",
   "source": [
    "r1 = range(xgb, :max_depth, lower=3, upper=10)\n",
    "r2 = range(xgb, :num_round, lower=1, upper=25);"
   ],
   "metadata": {},
   "execution_count": null
  },
  {
   "outputs": [],
   "cell_type": "markdown",
   "source": [
    "And now we tune, we use a very coarse resolution because we use so many ranges, `2^7` is already some 128 models..."
   ],
   "metadata": {}
  },
  {
   "outputs": [],
   "cell_type": "code",
   "source": [
    "tm = TunedModel(model=xgb, tuning=Grid(resolution=7),\n",
    "                resampling=CV(rng=11), ranges=[r1,r2],\n",
    "                measure=rms)\n",
    "mtm = machine(tm, X, y)\n",
    "fit!(mtm, rows=train)\n",
    "\n",
    "rms(y[test], predict(mtm, rows=test))"
   ],
   "metadata": {},
   "execution_count": null
  },
  {
   "outputs": [],
   "cell_type": "markdown",
   "source": [
    "Tuning helps a fair bit!"
   ],
   "metadata": {}
  },
  {
   "outputs": [],
   "cell_type": "code",
   "source": [
    "PyPlot.close_figs() # hide"
   ],
   "metadata": {},
   "execution_count": null
  },
  {
   "outputs": [],
   "cell_type": "markdown",
   "source": [
    "---\n",
    "\n",
    "*This notebook was generated using [Literate.jl](https://github.com/fredrikekre/Literate.jl).*"
   ],
   "metadata": {}
  }
 ],
 "nbformat_minor": 3,
 "metadata": {
  "language_info": {
   "file_extension": ".jl",
   "mimetype": "application/julia",
   "name": "julia",
   "version": "1.5.0-DEV.350"
  },
  "kernelspec": {
   "name": "julia-1.5",
   "display_name": "Julia 1.5.0-DEV.350",
   "language": "julia"
  }
 },
 "nbformat": 4
}
