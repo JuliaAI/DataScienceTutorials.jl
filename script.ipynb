{
 "cells": [
  {
   "cell_type": "markdown",
   "metadata": {},
   "source": [
    "### Script to Add Collapse Functionality to All Tutorials"
   ]
  },
  {
   "cell_type": "markdown",
   "metadata": {},
   "source": [
    "Julia script to loop over tutorials and modify the sections into dropdowns. It does the following:\n",
    "\n",
    "- Replace any `# ### .*` with the same h3 heading after wrapping with `@@dropdown...@@` and wrap next section (before next `# ## .*`) with `@@dropdown-content...@@`\n",
    "- To handle nesting (avoid defining a section going past h2 heading) the file is first split by h2 headings then the logic above is applied\n",
    "- To further handle nesting (have h2s collapse as well), the same logic is applied for h2s\n",
    "- This is applied to all `tutorial.js` files found in `_literate.jl`\n",
    "- Note that an invisible charachter `U+200E` is used due to a bug that occurs whenever a section ends with a line of code rather than raw text.\n",
    "- The script is idempotent (won't modify a file it touched before) so it could be run after a new tutorial is added."
   ]
  },
  {
   "cell_type": "code",
   "execution_count": 164,
   "metadata": {},
   "outputs": [
    {
     "data": {
      "text/plain": [
       "introduce_dropdowns (generic function with 1 method)"
      ]
     },
     "execution_count": 164,
     "metadata": {},
     "output_type": "execute_result"
    },
    {
     "name": "stderr",
     "output_type": "stream",
     "text": [
      "WARNING: both ReadableRegex and RegularExpressions export \"between\"; uses of it in module Main must be qualified\n"
     ]
    }
   ],
   "source": [
    "using RegularExpressions\n",
    "\n",
    "# modify h2 or h3 headings (depending on pattern) for a single file \n",
    "function modify_string(input, pattern)\n",
    "    matches = eachmatch(pattern, input)\n",
    "    modified_string = \"\"\n",
    "    last_end = 1\n",
    "    \n",
    "    for match in matches\n",
    "        modified_string *= input[last_end:match.offset-1]\n",
    "        if match.match != \"\"\n",
    "            if last_end == 1\n",
    "                modified_string *= \"\\n# @@dropdown\\n$(match.match[1:end-1])\\n# @@\\n# @@dropdown-content\\n\"\n",
    "            else\n",
    "                modified_string *= \"\\n# ‎\\n# @@\\n# @@dropdown\\n$(match.match[1:end-1])\\n# @@\\n# @@dropdown-content\\n\"\n",
    "            end\n",
    "            last_end = match.offset + length(match.match)\n",
    "        end\n",
    "    end\n",
    "    \n",
    "    modified_string *= input[last_end:end]\n",
    "    (input == modified_string && return input)\n",
    "    return modified_string*\"\\n# ‎\\n# @@\\n\"\n",
    "end\n",
    "\n",
    "# so we can split by h2s\n",
    "function split_keeping_splitter(string, splitter)\n",
    "    r = Regex(either( look_for(\"\", before = splitter), look_for(\"\", after = splitter)))\n",
    "    split(string, r)\n",
    "end\n",
    "\n",
    "# apply logic on h3s after splitting by h2s then apply it on h2s (introduce collapsables to a single file)\n",
    "function introduce_dropdowns(input::AbstractString)\n",
    "    # if the string has @@dropdown return it as is\n",
    "    if occursin(r\"@@dropdown\", input)\n",
    "        return input\n",
    "    end\n",
    "    chunks = split_keeping_splitter(input, \"# ## \")\n",
    "    for (i, chunk) in enumerate(chunks)\n",
    "        if chunk !=\"# ## \" \n",
    "            chunks[i] = modify_string(chunk, r\"(# ### .*\\n)\")\n",
    "        end\n",
    "    end\n",
    "    modified_string = join(chunks)\n",
    "\n",
    "    return modify_string(modified_string, r\"(# ## .*\\n)\")\n",
    "end"
   ]
  },
  {
   "cell_type": "code",
   "execution_count": 163,
   "metadata": {},
   "outputs": [],
   "source": [
    "# apply dropdown logic to all files\n",
    "function read_tutorials(tutorials_dir)\n",
    "    # Ensure existence of the directory\n",
    "    if !isdir(tutorials_dir)\n",
    "        error(\"Directory '$tutorials_dir' does not exist.\")\n",
    "    end\n",
    "\n",
    "    # Iterate over all files named \"tutorial.js\" in subdirectories\n",
    "    for subdir in readdir(tutorials_dir)\n",
    "        file_path = joinpath(tutorials_dir, subdir, \"tutorial.jl\")\n",
    "        if isfile(file_path)\n",
    "            try\n",
    "                file = open(file_path, \"r\")\n",
    "                content = read(file, String)\n",
    "                close(file)\n",
    "                file = open(file_path, \"w\")\n",
    "                modified_content = introduce_dropdowns(content)\n",
    "                write(file, modified_content)\n",
    "                close(file)\n",
    "                # Store content in the dictionary\n",
    "            catch e\n",
    "                throw(\"Error reading file '$file_path': $(e)\")\n",
    "            end\n",
    "        end\n",
    "    end\n",
    "end\n",
    "\n",
    "\n",
    "\n",
    "read_tutorials(\"_literate\")"
   ]
  }
 ],
 "metadata": {
  "kernelspec": {
   "display_name": "Julia 1.10.0",
   "language": "julia",
   "name": "julia-1.10"
  },
  "language_info": {
   "file_extension": ".jl",
   "mimetype": "application/julia",
   "name": "julia",
   "version": "1.10.0"
  }
 },
 "nbformat": 4,
 "nbformat_minor": 2
}
